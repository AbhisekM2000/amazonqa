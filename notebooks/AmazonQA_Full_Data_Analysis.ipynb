{
 "cells": [
  {
   "cell_type": "code",
   "execution_count": 1,
   "metadata": {},
   "outputs": [],
   "source": [
    "import json\n",
    "import sys\n",
    "import pandas as pd\n",
    "import matplotlib.pyplot as plt\n",
    "\n",
    "YSNO_MAP = set(['is', 'can', 'does', 'are', 'do', 'should', 'did', 'will', 'was', 'has', 'could', 'were', 'would'])"
   ]
  },
  {
   "cell_type": "code",
   "execution_count": 2,
   "metadata": {},
   "outputs": [],
   "source": [
    "def getDF(path):\n",
    "    i = 0\n",
    "    df = {}\n",
    "    with open(path, 'r') as fp:\n",
    "        for line in fp:\n",
    "            df[i] = json.loads(line)\n",
    "            i += 1\n",
    "    \n",
    "    return pd.DataFrame.from_dict(df, orient='index')"
   ]
  },
  {
   "cell_type": "code",
   "execution_count": 3,
   "metadata": {},
   "outputs": [],
   "source": [
    "def general_stats_data(df):\n",
    "    query_type_label = {'YESNO': 0, 'DESCRIPTION':0}\n",
    "    wfa = 0\n",
    "    total_judgements = 0\n",
    "    total_wfa_judgments = 0\n",
    "    multiple_answers = 0\n",
    "    multiple_wfa = 0\n",
    "    total_size = len(df)\n",
    "    for row in df.iterrows():\n",
    "        category = row[1]['query_type']\n",
    "        total_judgements += len(row[1]['answers'])\n",
    "        currentwfa = row[1]['wellFormedAnswers']\n",
    "        if category in query_type_label:\n",
    "            query_type_label[category] += 1\n",
    "        else:\n",
    "            print(category)\n",
    "        if len(row[1]['answers']) > 1:\n",
    "            multiple_answers += 1\n",
    "        if currentwfa != '[]':\n",
    "            wfa += 1\n",
    "            total_wfa_judgments += len(currentwfa)\n",
    "            if len(currentwfa) > 1:\n",
    "                multiple_wfa += 1\n",
    "    print('Columns:{}'.format(df.columns.values))\n",
    "    print('{} queries with {} judgements with {} queries contain more than one judgment'.format(total_size,total_judgements,multiple_answers))\n",
    "    #print('{} queries with Well Formed Answers of which {} contain more than one judgment'.format(wfa,multiple_wfa))\n",
    "    print('----query distribution by dataset type----')\n",
    "    for key in query_type_label:\n",
    "        print(key + ',' + str(query_type_label[key])+ ',' + str(query_type_label[key]/total_size))"
   ]
  },
  {
   "cell_type": "code",
   "execution_count": 4,
   "metadata": {},
   "outputs": [],
   "source": [
    "def update_query_type(query, query_type, qmap):\n",
    "    assert len(query) > 0\n",
    "    query = query.lower()\n",
    "    head = query.split()[0]\n",
    "    if query_type == \"YESNO\":\n",
    "        qmap['yesno'] += 1\n",
    "    elif head in qmap:\n",
    "        qmap[head] += 1\n",
    "    else:\n",
    "        qmap['other'] +=1"
   ]
  },
  {
   "cell_type": "code",
   "execution_count": 5,
   "metadata": {},
   "outputs": [],
   "source": [
    "def compute_query_word_stat(df):\n",
    "    print('----query distribution by wording----')\n",
    "    query_type_map = {'yesno':0, 'what':0, 'who':0, 'which':0, 'where':0, 'when':0, 'why':0, 'how':0, 'other':0}\n",
    "    for row in df.iterrows():\n",
    "        query = row[1][\"query\"]\n",
    "        query_type = row[1][\"query_type\"]\n",
    "        update_query_type(query, query_type, query_type_map)\n",
    "    total = sum(list(query_type_map.values()))\n",
    "    print(total)\n",
    "    for k, v in query_type_map.items():\n",
    "        print('{},{},{}'.format(k, v, 1.0 * v/total))"
   ]
  },
  {
   "cell_type": "code",
   "execution_count": 6,
   "metadata": {},
   "outputs": [],
   "source": [
    "def get_stats(histogram):\n",
    "    average = 0.0\n",
    "    total_values = 0.0\n",
    "    for value in histogram:\n",
    "        total_values += histogram[value]\n",
    "        average += float(histogram[value]) * float(value)\n",
    "    return average/total_values"
   ]
  },
  {
   "cell_type": "code",
   "execution_count": 14,
   "metadata": {},
   "outputs": [],
   "source": [
    "def generate_histograms(histogram, title):\n",
    "    average = get_stats(histogram)\n",
    "    print(\"###################################\\n\")\n",
    "    print(\"Statistics about {}\\n\".format(title))\n",
    "    print(\"Average length:{}\",format(average))\n",
    "    print(\"###################################\\n\")\n",
    "    plt.bar(list(histogram.keys()), histogram.values(), color='g')\n",
    "    plt.show()\n",
    "    #for key in sorted(histogram.keys()):\n",
    "    #   print(\"{}:{}\".format(key, histogram[key]))"
   ]
  },
  {
   "cell_type": "code",
   "execution_count": 15,
   "metadata": {},
   "outputs": [],
   "source": [
    "def compute_length_stat(df):\n",
    "    queries = {}\n",
    "    answers = {}\n",
    "    well_formed_answers = {}\n",
    "    passages = {}\n",
    "\n",
    "    for row in df.iterrows():\n",
    "        queries[row[1]['query']] = 1\n",
    "        for v in row[1]['answers']:\n",
    "            answers[v] = 1\n",
    "        for p in row[1]['passages']:\n",
    "            passages[p['passage_text']] = 1\n",
    "    data = {'queries' : queries, 'answers' : answers, 'passages' : passages}\n",
    "    for value in data:\n",
    "        histogram = {}\n",
    "        for v in data[value]:\n",
    "            l = len(v.split())\n",
    "            if l in histogram:\n",
    "                histogram[l] += 1\n",
    "            else:\n",
    "                histogram[l] = 1\n",
    "        generate_histograms(histogram, value)"
   ]
  },
  {
   "cell_type": "markdown",
   "metadata": {},
   "source": [
    "# Load data"
   ]
  },
  {
   "cell_type": "code",
   "execution_count": 8,
   "metadata": {},
   "outputs": [],
   "source": [
    "data_dir = \"/Users/rchanda/Acads/Fall-2018/Capstone/Explicable-Question-Answering/data/\""
   ]
  },
  {
   "cell_type": "code",
   "execution_count": 9,
   "metadata": {},
   "outputs": [],
   "source": [
    "train_infile = data_dir+\"train-qar_msmarco_all.jsonl\"\n",
    "train_df = getDF(train_infile)"
   ]
  },
  {
   "cell_type": "code",
   "execution_count": 9,
   "metadata": {},
   "outputs": [],
   "source": [
    "val_infile = data_dir+\"val-qar_msmarco_all.jsonl\"\n",
    "val_df = getDF(val_infile)\n",
    "\n",
    "test_infile = data_dir+\"test-qar_msmarco_all.jsonl\"\n",
    "test_df = getDF(test_infile)"
   ]
  },
  {
   "cell_type": "markdown",
   "metadata": {},
   "source": [
    "# General Stats"
   ]
  },
  {
   "cell_type": "code",
   "execution_count": 11,
   "metadata": {},
   "outputs": [
    {
     "name": "stdout",
     "output_type": "stream",
     "text": [
      "Columns:['answers' 'passages' 'query' 'query_id' 'query_type' 'wellFormedAnswers']\n",
      "738907 queries with 2898133 judgements with 733670 queries contain more than one judgment\n",
      "----query distribution by dataset type----\n",
      "YESNO,110488,0.14952896643285285\n",
      "DESCRIPTION,628419,0.8504710335671471\n"
     ]
    }
   ],
   "source": [
    "general_stats_data(train_df)"
   ]
  },
  {
   "cell_type": "code",
   "execution_count": 10,
   "metadata": {},
   "outputs": [
    {
     "name": "stdout",
     "output_type": "stream",
     "text": [
      "Columns:['answers' 'passages' 'query' 'query_id' 'query_type' 'wellFormedAnswers']\n",
      "92496 queries with 364083 judgements with 91835 queries contain more than one judgment\n",
      "----query distribution by dataset type----\n",
      "YESNO,13605,0.14708744161909704\n",
      "DESCRIPTION,78891,0.852912558380903\n"
     ]
    }
   ],
   "source": [
    "general_stats_data(val_df)"
   ]
  },
  {
   "cell_type": "code",
   "execution_count": 11,
   "metadata": {},
   "outputs": [
    {
     "name": "stdout",
     "output_type": "stream",
     "text": [
      "Columns:['answers' 'passages' 'query' 'query_id' 'query_type' 'wellFormedAnswers']\n",
      "92384 queries with 362104 judgements with 91715 queries contain more than one judgment\n",
      "----query distribution by dataset type----\n",
      "YESNO,13954,0.1510434707308625\n",
      "DESCRIPTION,78430,0.8489565292691376\n"
     ]
    }
   ],
   "source": [
    "general_stats_data(test_df)"
   ]
  },
  {
   "cell_type": "markdown",
   "metadata": {},
   "source": [
    "# Query Stats"
   ]
  },
  {
   "cell_type": "code",
   "execution_count": 12,
   "metadata": {},
   "outputs": [
    {
     "name": "stdout",
     "output_type": "stream",
     "text": [
      "----query distribution by wording----\n",
      "738907\n",
      "yesno,110488,0.14952896643285285\n",
      "what,70383,0.09525285320074109\n",
      "who,423,0.0005724671711054301\n",
      "which,2516,0.003405029320333953\n",
      "where,8569,0.011596858603315437\n",
      "when,2681,0.0036283321175736593\n",
      "why,4588,0.006209171113550149\n",
      "how,66404,0.08986787241154841\n",
      "other,472855,0.6399384496289791\n"
     ]
    }
   ],
   "source": [
    "compute_query_word_stat(train_df)"
   ]
  },
  {
   "cell_type": "code",
   "execution_count": 12,
   "metadata": {},
   "outputs": [
    {
     "name": "stdout",
     "output_type": "stream",
     "text": [
      "----query distribution by wording----\n",
      "92496\n",
      "yesno,13605,0.14708744161909704\n",
      "what,8852,0.09570143573776163\n",
      "who,37,0.00040001729804532086\n",
      "which,318,0.0034379865075246496\n",
      "where,1123,0.012141065559591767\n",
      "when,340,0.0036758346306867322\n",
      "why,539,0.005827279017471026\n",
      "how,8318,0.08992821311191836\n",
      "other,59364,0.6418007265179034\n"
     ]
    }
   ],
   "source": [
    "compute_query_word_stat(val_df)"
   ]
  },
  {
   "cell_type": "code",
   "execution_count": 13,
   "metadata": {},
   "outputs": [
    {
     "name": "stdout",
     "output_type": "stream",
     "text": [
      "----query distribution by wording----\n",
      "92384\n",
      "yesno,13954,0.1510434707308625\n",
      "what,8825,0.09552519916868722\n",
      "who,42,0.0004546241773467267\n",
      "which,343,0.003712764114998268\n",
      "where,1089,0.011787755455490129\n",
      "when,333,0.0036045202632490475\n",
      "why,583,0.006310616556979564\n",
      "how,8099,0.0876666955316938\n",
      "other,59116,0.6398943540006927\n"
     ]
    }
   ],
   "source": [
    "compute_query_word_stat(test_df)"
   ]
  },
  {
   "cell_type": "markdown",
   "metadata": {},
   "source": [
    "# Length Statistics"
   ]
  },
  {
   "cell_type": "code",
   "execution_count": 13,
   "metadata": {},
   "outputs": [
    {
     "name": "stdout",
     "output_type": "stream",
     "text": [
      "###################################\n",
      "\n",
      "Statistics about queries\n",
      "\n",
      "Average length:{} 14.676226743489929\n",
      "###################################\n",
      "\n"
     ]
    },
    {
     "data": {
      "image/png": "[encoded data removed]",
      "text/plain": [
       "<Figure size 432x288 with 1 Axes>"
      ]
     },
     "metadata": {
      "needs_background": "light"
     },
     "output_type": "display_data"
    },
    {
     "name": "stdout",
     "output_type": "stream",
     "text": [
      "###################################\n",
      "\n",
      "Statistics about answers\n",
      "\n",
      "Average length:{} 30.77929061599235\n",
      "###################################\n",
      "\n"
     ]
    },
    {
     "data": {
      "image/png": "[encoded data removed]",
      "text/plain": [
       "<Figure size 432x288 with 1 Axes>"
      ]
     },
     "metadata": {
      "needs_background": "light"
     },
     "output_type": "display_data"
    },
    {
     "name": "stdout",
     "output_type": "stream",
     "text": [
      "###################################\n",
      "\n",
      "Statistics about passages\n",
      "\n",
      "Average length:{} 72.03875690776935\n",
      "###################################\n",
      "\n"
     ]
    },
    {
     "data": {
      "image/png": "[encoded data removed]",
      "text/plain": [
       "<Figure size 432x288 with 1 Axes>"
      ]
     },
     "metadata": {
      "needs_background": "light"
     },
     "output_type": "display_data"
    }
   ],
   "source": [
    "compute_length_stat(train_df)"
   ]
  },
  {
   "cell_type": "code",
   "execution_count": 16,
   "metadata": {},
   "outputs": [
    {
     "name": "stdout",
     "output_type": "stream",
     "text": [
      "###################################\n",
      "\n",
      "Statistics about queries\n",
      "\n",
      "Average length:{} 14.434047778521991\n",
      "###################################\n",
      "\n"
     ]
    },
    {
     "data": {
      "image/png": "[encoded data removed]",
      "text/plain": [
       "<Figure size 432x288 with 1 Axes>"
      ]
     },
     "metadata": {
      "needs_background": "light"
     },
     "output_type": "display_data"
    },
    {
     "name": "stdout",
     "output_type": "stream",
     "text": [
      "###################################\n",
      "\n",
      "Statistics about answers\n",
      "\n",
      "Average length:{} 30.354731646604478\n",
      "###################################\n",
      "\n"
     ]
    },
    {
     "data": {
      "image/png": "[encoded data removed]",
      "text/plain": [
       "<Figure size 432x288 with 1 Axes>"
      ]
     },
     "metadata": {
      "needs_background": "light"
     },
     "output_type": "display_data"
    },
    {
     "name": "stdout",
     "output_type": "stream",
     "text": [
      "###################################\n",
      "\n",
      "Statistics about passages\n",
      "\n",
      "Average length:{} 72.05204675490509\n",
      "###################################\n",
      "\n"
     ]
    },
    {
     "data": {
      "image/png": "[encoded data removed]",
      "text/plain": [
       "<Figure size 432x288 with 1 Axes>"
      ]
     },
     "metadata": {
      "needs_background": "light"
     },
     "output_type": "display_data"
    }
   ],
   "source": [
    "compute_length_stat(val_df)"
   ]
  },
  {
   "cell_type": "code",
   "execution_count": 17,
   "metadata": {},
   "outputs": [
    {
     "name": "stdout",
     "output_type": "stream",
     "text": [
      "###################################\n",
      "\n",
      "Statistics about queries\n",
      "\n",
      "Average length:{} 14.412553253184038\n",
      "###################################\n",
      "\n"
     ]
    },
    {
     "data": {
      "image/png": "[encoded data removed]",
      "text/plain": [
       "<Figure size 432x288 with 1 Axes>"
      ]
     },
     "metadata": {
      "needs_background": "light"
     },
     "output_type": "display_data"
    },
    {
     "name": "stdout",
     "output_type": "stream",
     "text": [
      "###################################\n",
      "\n",
      "Statistics about answers\n",
      "\n",
      "Average length:{} 30.146494341964857\n",
      "###################################\n",
      "\n"
     ]
    },
    {
     "data": {
      "image/png": "[encoded data removed]",
      "text/plain": [
       "<Figure size 432x288 with 1 Axes>"
      ]
     },
     "metadata": {
      "needs_background": "light"
     },
     "output_type": "display_data"
    },
    {
     "name": "stdout",
     "output_type": "stream",
     "text": [
      "###################################\n",
      "\n",
      "Statistics about passages\n",
      "\n",
      "Average length:{} 72.02502122155302\n",
      "###################################\n",
      "\n"
     ]
    },
    {
     "data": {
      "image/png": "[encoded data removed]",
      "text/plain": [
       "<Figure size 432x288 with 1 Axes>"
      ]
     },
     "metadata": {
      "needs_background": "light"
     },
     "output_type": "display_data"
    }
   ],
   "source": [
    "compute_length_stat(test_df)"
   ]
  },
  {
   "cell_type": "code",
   "execution_count": null,
   "metadata": {},
   "outputs": [],
   "source": []
  }
 ],
 "metadata": {
  "kernelspec": {
   "display_name": "Python 3",
   "language": "python",
   "name": "python3"
  },
  "language_info": {
   "codemirror_mode": {
    "name": "ipython",
    "version": 3
   },
   "file_extension": ".py",
   "mimetype": "text/x-python",
   "name": "python",
   "nbconvert_exporter": "python",
   "pygments_lexer": "ipython3",
   "version": "3.6.4"
  }
 },
 "nbformat": 4,
 "nbformat_minor": 2
}
