{
 "cells": [
  {
   "cell_type": "code",
   "execution_count": 1,
   "metadata": {},
   "outputs": [],
   "source": [
    "import json\n",
    "import sys\n",
    "import pandas as pd\n",
    "import matplotlib.pyplot as plt\n",
    "from tqdm import tqdm\n",
    "from collections import defaultdict\n",
    "import operator\n",
    "import nltk\n",
    "from nltk.corpus import stopwords\n",
    "import string \n",
    "\n",
    "YSNO_MAP = set(['is', 'can', 'does', 'are', 'do', 'should', 'did', 'will', 'was', 'has', 'could', 'were', 'would'])\n",
    "CATEGORIES=set([\"Automotive\", \"Baby\", \"Beauty\", \"Cell_Phones_and_Accessories\",\n",
    "                \"Clothing_Shoes_and_Jewelry\", \"Electronics\", \"Grocery_and_Gourmet_Food\",\n",
    "                \"Health_and_Personal_Care\", \"Home_and_Kitchen\", \"Musical_Instruments\", \n",
    "                \"Office_Products\", \"Patio_Lawn_and_Garden\", \"Pet_Supplies\", \n",
    "                \"Sports_and_Outdoors\", \"Tools_and_Home_Improvement\", \"Toys_and_Games\", \"Video_Games\"])\n"
   ]
  },
  {
   "cell_type": "code",
   "execution_count": 2,
   "metadata": {},
   "outputs": [],
   "source": [
    "def getDF(path):\n",
    "    i = 0\n",
    "    df = {}\n",
    "    with open(path, 'r') as fp:\n",
    "        for line in fp:\n",
    "            df[i] = json.loads(line)\n",
    "            i += 1\n",
    "    \n",
    "    return pd.DataFrame.from_dict(df, orient='index')"
   ]
  },
  {
   "cell_type": "code",
   "execution_count": 3,
   "metadata": {},
   "outputs": [],
   "source": [
    "def general_stats_data(df):\n",
    "    query_type_label = {'YESNO': 0, 'DESCRIPTION':0}\n",
    "    wfa = 0\n",
    "    total_judgements = 0\n",
    "    total_wfa_judgments = 0\n",
    "    multiple_answers = 0\n",
    "    multiple_wfa = 0\n",
    "    total_size = len(df)\n",
    "    for row in df.iterrows():\n",
    "        category = row[1]['query_type']\n",
    "        total_judgements += len(row[1]['answers'])\n",
    "        currentwfa = row[1]['wellFormedAnswers']\n",
    "        if category in query_type_label:\n",
    "            query_type_label[category] += 1\n",
    "        else:\n",
    "            print(category)\n",
    "        if len(row[1]['answers']) > 1:\n",
    "            multiple_answers += 1\n",
    "        if currentwfa != '[]':\n",
    "            wfa += 1\n",
    "            total_wfa_judgments += len(currentwfa)\n",
    "            if len(currentwfa) > 1:\n",
    "                multiple_wfa += 1\n",
    "    print('Columns:{}'.format(df.columns.values))\n",
    "    print('{} queries with {} judgements with {} queries contain more than one judgment'.format(total_size,total_judgements,multiple_answers))\n",
    "    #print('{} queries with Well Formed Answers of which {} contain more than one judgment'.format(wfa,multiple_wfa))\n",
    "    print('----query distribution by dataset type----')\n",
    "    for key in query_type_label:\n",
    "        print(key + ',' + str(query_type_label[key])+ ',' + str(query_type_label[key]/total_size))"
   ]
  },
  {
   "cell_type": "code",
   "execution_count": 4,
   "metadata": {},
   "outputs": [],
   "source": [
    "def update_query_type(query, query_type, qmap):\n",
    "    assert len(query) > 0\n",
    "    query = query.lower()\n",
    "    head = query.split()[0]\n",
    "    if query_type == \"YESNO\":\n",
    "        qmap['yesno'] += 1\n",
    "    elif head in qmap:\n",
    "        qmap[head] += 1\n",
    "    else:\n",
    "        qmap['other'] +=1"
   ]
  },
  {
   "cell_type": "code",
   "execution_count": 5,
   "metadata": {},
   "outputs": [],
   "source": [
    "def compute_query_word_stat(df):\n",
    "    print('----query distribution by wording----')\n",
    "    query_type_map = {'yesno':0, 'what':0, 'who':0, 'which':0, 'where':0, 'when':0, 'why':0, 'how':0, 'other':0}\n",
    "    for row in df.iterrows():\n",
    "        query = row[1][\"query\"]\n",
    "        query_type = row[1][\"query_type\"]\n",
    "        update_query_type(query, query_type, query_type_map)\n",
    "    total = sum(list(query_type_map.values()))\n",
    "    print(total)\n",
    "    for k, v in query_type_map.items():\n",
    "        print('{},{},{}'.format(k, v, 1.0 * v/total))"
   ]
  },
  {
   "cell_type": "code",
   "execution_count": 6,
   "metadata": {},
   "outputs": [],
   "source": [
    "def compute_first_word_stat(df):\n",
    "    print('----query first word distribution----')\n",
    "    query_word_map = defaultdict(int)\n",
    "    for row in df.iterrows():\n",
    "        query = row[1][\"query\"].lower()\n",
    "        head = query.split()[0]\n",
    "        query_word_map[head] += 1\n",
    "    total = sum(list(query_word_map.values()))\n",
    "    print(total)\n",
    "    sorted_query_word_freqs = sorted(query_word_map.items(), key=operator.itemgetter(1), reverse=True)\n",
    "    return sorted_query_word_freqs[:20]"
   ]
  },
  {
   "cell_type": "code",
   "execution_count": 7,
   "metadata": {},
   "outputs": [],
   "source": [
    "def get_stats(histogram):\n",
    "    average = 0.0\n",
    "    total_values = 0.0\n",
    "    for value in histogram:\n",
    "        total_values += histogram[value]\n",
    "        average += float(histogram[value]) * float(value)\n",
    "    return average/total_values"
   ]
  },
  {
   "cell_type": "code",
   "execution_count": 8,
   "metadata": {},
   "outputs": [],
   "source": [
    "def generate_histograms(histogram, title):\n",
    "    average = get_stats(histogram)\n",
    "    print(\"###################################\\n\")\n",
    "    print(\"Statistics about {}\\n\".format(title))\n",
    "    print(\"Average length:{}\",format(average))\n",
    "    print(\"###################################\\n\")\n",
    "    plt.bar(list(histogram.keys()), histogram.values(), color='g')\n",
    "    plt.show()\n",
    "    #for key in sorted(histogram.keys()):\n",
    "    #   print(\"{}:{}\".format(key, histogram[key]))"
   ]
  },
  {
   "cell_type": "code",
   "execution_count": 9,
   "metadata": {},
   "outputs": [],
   "source": [
    "def compute_length_stat(df):\n",
    "    queries = {}\n",
    "    answers = {}\n",
    "    well_formed_answers = {}\n",
    "    passages = {}\n",
    "\n",
    "    for row in df.iterrows():\n",
    "        queries[row[1]['query']] = 1\n",
    "        for v in row[1]['answers']:\n",
    "            answers[v] = 1\n",
    "        for p in row[1]['passages']:\n",
    "            passages[p['passage_text']] = 1\n",
    "    data = {'queries' : queries, 'answers' : answers, 'passages' : passages}\n",
    "    for value in data:\n",
    "        histogram = {}\n",
    "        for v in data[value]:\n",
    "            l = len(v.split())\n",
    "            if l in histogram:\n",
    "                histogram[l] += 1\n",
    "            else:\n",
    "                histogram[l] = 1\n",
    "        generate_histograms(histogram, value)"
   ]
  },
  {
   "cell_type": "markdown",
   "metadata": {},
   "source": [
    "# Load data"
   ]
  },
  {
   "cell_type": "code",
   "execution_count": 10,
   "metadata": {},
   "outputs": [],
   "source": [
    "data_dir = \"/home/ubuntu/Explicable-Question-Answering/data/\""
   ]
  },
  {
   "cell_type": "code",
   "execution_count": 11,
   "metadata": {},
   "outputs": [],
   "source": [
    "train_infile = data_dir + \"train-qar_msmarco_all.jsonl\"\n",
    "train_df = getDF(train_infile)"
   ]
  },
  {
   "cell_type": "code",
   "execution_count": 12,
   "metadata": {},
   "outputs": [],
   "source": [
    "val_infile = data_dir + \"val-qar_msmarco_all.jsonl\"\n",
    "val_df = getDF(val_infile)\n",
    "\n",
    "test_infile = data_dir + \"test-qar_msmarco_all.jsonl\"\n",
    "test_df = getDF(test_infile)"
   ]
  },
  {
   "cell_type": "markdown",
   "metadata": {},
   "source": [
    "# General Stats"
   ]
  },
  {
   "cell_type": "code",
   "execution_count": 13,
   "metadata": {},
   "outputs": [
    {
     "data": {
      "text/html": [
       "<div>\n",
       "<style scoped>\n",
       "    .dataframe tbody tr th:only-of-type {\n",
       "        vertical-align: middle;\n",
       "    }\n",
       "\n",
       "    .dataframe tbody tr th {\n",
       "        vertical-align: top;\n",
       "    }\n",
       "\n",
       "    .dataframe thead th {\n",
       "        text-align: right;\n",
       "    }\n",
       "</style>\n",
       "<table border=\"1\" class=\"dataframe\">\n",
       "  <thead>\n",
       "    <tr style=\"text-align: right;\">\n",
       "      <th></th>\n",
       "      <th>answers</th>\n",
       "      <th>passages</th>\n",
       "      <th>query</th>\n",
       "      <th>query_id</th>\n",
       "      <th>query_type</th>\n",
       "      <th>wellFormedAnswers</th>\n",
       "    </tr>\n",
       "  </thead>\n",
       "  <tbody>\n",
       "    <tr>\n",
       "      <th>0</th>\n",
       "      <td>[no it doesn\"t, No., It would depend on where ...</td>\n",
       "      <td>[{'is_selected': 1, 'url': '', 'passage_text':...</td>\n",
       "      <td>Does this have a hole that would allow me to p...</td>\n",
       "      <td>206161</td>\n",
       "      <td>DESCRIPTION</td>\n",
       "      <td>[]</td>\n",
       "    </tr>\n",
       "    <tr>\n",
       "      <th>1</th>\n",
       "      <td>[I just charged my radios from tues 0902 morni...</td>\n",
       "      <td>[{'is_selected': 1, 'url': '', 'passage_text':...</td>\n",
       "      <td>How long does it take to charge 2 Two-wave Rad...</td>\n",
       "      <td>614884</td>\n",
       "      <td>DESCRIPTION</td>\n",
       "      <td>[]</td>\n",
       "    </tr>\n",
       "    <tr>\n",
       "      <th>2</th>\n",
       "      <td>[Pull behind. The handle likes to fall down. I...</td>\n",
       "      <td>[{'is_selected': 1, 'url': '', 'passage_text':...</td>\n",
       "      <td>Do you pull or push the caet?</td>\n",
       "      <td>77013</td>\n",
       "      <td>DESCRIPTION</td>\n",
       "      <td>[]</td>\n",
       "    </tr>\n",
       "    <tr>\n",
       "      <th>3</th>\n",
       "      <td>[A small child cannot squeeze between the bars...</td>\n",
       "      <td>[{'is_selected': 1, 'url': '', 'passage_text':...</td>\n",
       "      <td>What is the distance between bars?</td>\n",
       "      <td>43984</td>\n",
       "      <td>DESCRIPTION</td>\n",
       "      <td>[]</td>\n",
       "    </tr>\n",
       "    <tr>\n",
       "      <th>4</th>\n",
       "      <td>[I don't think it will work in your computer. ...</td>\n",
       "      <td>[{'is_selected': 1, 'url': '', 'passage_text':...</td>\n",
       "      <td>Will this work for any DV6 series? Mine is DV6...</td>\n",
       "      <td>404642</td>\n",
       "      <td>DESCRIPTION</td>\n",
       "      <td>[]</td>\n",
       "    </tr>\n",
       "  </tbody>\n",
       "</table>\n",
       "</div>"
      ],
      "text/plain": [
       "                                             answers  \\\n",
       "0  [no it doesn\"t, No., It would depend on where ...   \n",
       "1  [I just charged my radios from tues 0902 morni...   \n",
       "2  [Pull behind. The handle likes to fall down. I...   \n",
       "3  [A small child cannot squeeze between the bars...   \n",
       "4  [I don't think it will work in your computer. ...   \n",
       "\n",
       "                                            passages  \\\n",
       "0  [{'is_selected': 1, 'url': '', 'passage_text':...   \n",
       "1  [{'is_selected': 1, 'url': '', 'passage_text':...   \n",
       "2  [{'is_selected': 1, 'url': '', 'passage_text':...   \n",
       "3  [{'is_selected': 1, 'url': '', 'passage_text':...   \n",
       "4  [{'is_selected': 1, 'url': '', 'passage_text':...   \n",
       "\n",
       "                                               query  query_id   query_type  \\\n",
       "0  Does this have a hole that would allow me to p...    206161  DESCRIPTION   \n",
       "1  How long does it take to charge 2 Two-wave Rad...    614884  DESCRIPTION   \n",
       "2                      Do you pull or push the caet?     77013  DESCRIPTION   \n",
       "3                 What is the distance between bars?     43984  DESCRIPTION   \n",
       "4  Will this work for any DV6 series? Mine is DV6...    404642  DESCRIPTION   \n",
       "\n",
       "  wellFormedAnswers  \n",
       "0                []  \n",
       "1                []  \n",
       "2                []  \n",
       "3                []  \n",
       "4                []  "
      ]
     },
     "execution_count": 13,
     "metadata": {},
     "output_type": "execute_result"
    }
   ],
   "source": [
    "train_df.head(5)"
   ]
  },
  {
   "cell_type": "code",
   "execution_count": 14,
   "metadata": {},
   "outputs": [
    {
     "name": "stdout",
     "output_type": "stream",
     "text": [
      "Columns:['answers' 'passages' 'query' 'query_id' 'query_type' 'wellFormedAnswers']\n",
      "455931 queries with 1844868 judgements with 453494 queries contain more than one judgment\n",
      "----query distribution by dataset type----\n",
      "YESNO,69816,0.15312843390776235\n",
      "DESCRIPTION,386115,0.8468715660922377\n"
     ]
    }
   ],
   "source": [
    "general_stats_data(train_df)"
   ]
  },
  {
   "cell_type": "code",
   "execution_count": 15,
   "metadata": {},
   "outputs": [
    {
     "name": "stdout",
     "output_type": "stream",
     "text": [
      "Columns:['answers' 'passages' 'query' 'query_id' 'query_type' 'wellFormedAnswers']\n",
      "56895 queries with 229211 judgements with 56578 queries contain more than one judgment\n",
      "----query distribution by dataset type----\n",
      "YESNO,8755,0.153879954301784\n",
      "DESCRIPTION,48140,0.846120045698216\n"
     ]
    }
   ],
   "source": [
    "general_stats_data(val_df)"
   ]
  },
  {
   "cell_type": "code",
   "execution_count": 16,
   "metadata": {},
   "outputs": [
    {
     "name": "stdout",
     "output_type": "stream",
     "text": [
      "Columns:['answers' 'passages' 'query' 'query_id' 'query_type' 'wellFormedAnswers']\n",
      "57306 queries with 232575 judgements with 56989 queries contain more than one judgment\n",
      "----query distribution by dataset type----\n",
      "YESNO,8807,0.1536837329424493\n",
      "DESCRIPTION,48499,0.8463162670575507\n"
     ]
    }
   ],
   "source": [
    "general_stats_data(test_df)"
   ]
  },
  {
   "cell_type": "markdown",
   "metadata": {},
   "source": [
    "# Query Stats"
   ]
  },
  {
   "cell_type": "code",
   "execution_count": 17,
   "metadata": {},
   "outputs": [
    {
     "name": "stdout",
     "output_type": "stream",
     "text": [
      "----query distribution by wording----\n",
      "455931\n",
      "yesno,69816,0.15312843390776235\n",
      "what,39508,0.08665346291434449\n",
      "who,208,0.00045620938256008036\n",
      "which,1561,0.003423763683539834\n",
      "where,4292,0.00941370514398012\n",
      "when,1666,0.0036540616891591053\n",
      "why,2562,0.00561927133711022\n",
      "how,41171,0.09030094466048591\n",
      "other,295147,0.6473501472810579\n"
     ]
    }
   ],
   "source": [
    "compute_query_word_stat(train_df)"
   ]
  },
  {
   "cell_type": "code",
   "execution_count": 18,
   "metadata": {},
   "outputs": [
    {
     "name": "stdout",
     "output_type": "stream",
     "text": [
      "----query first word distribution----\n",
      "455931\n"
     ]
    },
    {
     "data": {
      "text/plain": [
       "[('does', 69339),\n",
       " ('is', 57316),\n",
       " ('can', 46277),\n",
       " ('will', 41801),\n",
       " ('how', 41558),\n",
       " ('what', 39835),\n",
       " ('i', 33670),\n",
       " ('do', 14841),\n",
       " ('are', 12923),\n",
       " ('would', 7331),\n",
       " ('my', 5416),\n",
       " ('the', 4948),\n",
       " ('where', 4314),\n",
       " ('if', 4058),\n",
       " ('has', 4013),\n",
       " ('this', 3283),\n",
       " (\"i'm\", 2608),\n",
       " ('why', 2582),\n",
       " ('could', 2217),\n",
       " ('when', 2066)]"
      ]
     },
     "execution_count": 18,
     "metadata": {},
     "output_type": "execute_result"
    }
   ],
   "source": [
    "compute_first_word_stat(train_df)"
   ]
  },
  {
   "cell_type": "code",
   "execution_count": 19,
   "metadata": {},
   "outputs": [
    {
     "name": "stdout",
     "output_type": "stream",
     "text": [
      "----query distribution by wording----\n",
      "56895\n",
      "yesno,8755,0.153879954301784\n",
      "what,4836,0.08499868178223043\n",
      "who,21,0.0003691009754811495\n",
      "which,212,0.0037261622286668423\n",
      "where,536,0.009420862993233149\n",
      "when,221,0.0038843483610159065\n",
      "why,354,0.00622198787239652\n",
      "how,5173,0.09092187362685648\n",
      "other,36787,0.6465770278583355\n"
     ]
    }
   ],
   "source": [
    "compute_query_word_stat(val_df)"
   ]
  },
  {
   "cell_type": "code",
   "execution_count": 20,
   "metadata": {},
   "outputs": [
    {
     "name": "stdout",
     "output_type": "stream",
     "text": [
      "----query first word distribution----\n",
      "56895\n"
     ]
    },
    {
     "data": {
      "text/plain": [
       "[('does', 8707),\n",
       " ('is', 7117),\n",
       " ('can', 5921),\n",
       " ('will', 5234),\n",
       " ('how', 5221),\n",
       " ('what', 4874),\n",
       " ('i', 4244),\n",
       " ('do', 1969),\n",
       " ('are', 1564),\n",
       " ('would', 907),\n",
       " ('my', 659),\n",
       " ('the', 568),\n",
       " ('where', 540),\n",
       " ('if', 518),\n",
       " ('has', 475),\n",
       " ('this', 390),\n",
       " ('why', 358),\n",
       " (\"i'm\", 356),\n",
       " ('could', 285),\n",
       " ('when', 260)]"
      ]
     },
     "execution_count": 20,
     "metadata": {},
     "output_type": "execute_result"
    }
   ],
   "source": [
    "compute_first_word_stat(val_df)"
   ]
  },
  {
   "cell_type": "code",
   "execution_count": 21,
   "metadata": {},
   "outputs": [
    {
     "name": "stdout",
     "output_type": "stream",
     "text": [
      "----query distribution by wording----\n",
      "57306\n",
      "yesno,8807,0.1536837329424493\n",
      "what,4872,0.08501727567793949\n",
      "who,30,0.0005235053921055386\n",
      "which,173,0.0030188810944752733\n",
      "where,514,0.008969392384741563\n",
      "when,200,0.003490035947370258\n",
      "why,320,0.005584057515792413\n",
      "how,5222,0.09112483858583743\n",
      "other,37168,0.6485882804592887\n"
     ]
    }
   ],
   "source": [
    "compute_query_word_stat(test_df)"
   ]
  },
  {
   "cell_type": "code",
   "execution_count": 22,
   "metadata": {},
   "outputs": [
    {
     "name": "stdout",
     "output_type": "stream",
     "text": [
      "----query first word distribution----\n",
      "57306\n"
     ]
    },
    {
     "data": {
      "text/plain": [
       "[('does', 8613),\n",
       " ('is', 7245),\n",
       " ('can', 5900),\n",
       " ('will', 5295),\n",
       " ('how', 5273),\n",
       " ('what', 4918),\n",
       " ('i', 4273),\n",
       " ('do', 1858),\n",
       " ('are', 1591),\n",
       " ('would', 938),\n",
       " ('my', 758),\n",
       " ('the', 620),\n",
       " ('has', 525),\n",
       " ('where', 517),\n",
       " ('if', 507),\n",
       " ('this', 401),\n",
       " ('why', 325),\n",
       " (\"i'm\", 323),\n",
       " ('could', 262),\n",
       " ('when', 250)]"
      ]
     },
     "execution_count": 22,
     "metadata": {},
     "output_type": "execute_result"
    }
   ],
   "source": [
    "compute_first_word_stat(test_df)"
   ]
  },
  {
   "cell_type": "markdown",
   "metadata": {},
   "source": [
    "# Length Statistics"
   ]
  },
  {
   "cell_type": "code",
   "execution_count": 23,
   "metadata": {},
   "outputs": [
    {
     "name": "stdout",
     "output_type": "stream",
     "text": [
      "###################################\n",
      "\n",
      "Statistics about queries\n",
      "\n",
      "Average length:{} 14.49969194694131\n",
      "###################################\n",
      "\n"
     ]
    },
    {
     "data": {
      "image/png": "[encoded data removed]",
      "text/plain": [
       "<Figure size 432x288 with 1 Axes>"
      ]
     },
     "metadata": {
      "needs_background": "light"
     },
     "output_type": "display_data"
    },
    {
     "name": "stdout",
     "output_type": "stream",
     "text": [
      "###################################\n",
      "\n",
      "Statistics about answers\n",
      "\n",
      "Average length:{} 31.611117798911227\n",
      "###################################\n",
      "\n"
     ]
    },
    {
     "data": {
      "image/png": "[encoded data removed]",
      "text/plain": [
       "<Figure size 432x288 with 1 Axes>"
      ]
     },
     "metadata": {
      "needs_background": "light"
     },
     "output_type": "display_data"
    },
    {
     "name": "stdout",
     "output_type": "stream",
     "text": [
      "###################################\n",
      "\n",
      "Statistics about passages\n",
      "\n",
      "Average length:{} 53.502443481529305\n",
      "###################################\n",
      "\n"
     ]
    },
    {
     "data": {
      "image/png": "[encoded data removed]",
      "text/plain": [
       "<Figure size 432x288 with 1 Axes>"
      ]
     },
     "metadata": {
      "needs_background": "light"
     },
     "output_type": "display_data"
    }
   ],
   "source": [
    "compute_length_stat(train_df)"
   ]
  },
  {
   "cell_type": "code",
   "execution_count": 24,
   "metadata": {},
   "outputs": [
    {
     "name": "stdout",
     "output_type": "stream",
     "text": [
      "###################################\n",
      "\n",
      "Statistics about queries\n",
      "\n",
      "Average length:{} 14.329882529635789\n",
      "###################################\n",
      "\n"
     ]
    },
    {
     "data": {
      "image/png": "[encoded data removed]",
      "text/plain": [
       "<Figure size 432x288 with 1 Axes>"
      ]
     },
     "metadata": {
      "needs_background": "light"
     },
     "output_type": "display_data"
    },
    {
     "name": "stdout",
     "output_type": "stream",
     "text": [
      "###################################\n",
      "\n",
      "Statistics about answers\n",
      "\n",
      "Average length:{} 31.307706643856235\n",
      "###################################\n",
      "\n"
     ]
    },
    {
     "data": {
      "image/png": "[encoded data removed]",
      "text/plain": [
       "<Figure size 432x288 with 1 Axes>"
      ]
     },
     "metadata": {
      "needs_background": "light"
     },
     "output_type": "display_data"
    },
    {
     "name": "stdout",
     "output_type": "stream",
     "text": [
      "###################################\n",
      "\n",
      "Statistics about passages\n",
      "\n",
      "Average length:{} 53.36399816516631\n",
      "###################################\n",
      "\n"
     ]
    },
    {
     "data": {
      "image/png": "[encoded data removed]",
      "text/plain": [
       "<Figure size 432x288 with 1 Axes>"
      ]
     },
     "metadata": {
      "needs_background": "light"
     },
     "output_type": "display_data"
    }
   ],
   "source": [
    "compute_length_stat(val_df)"
   ]
  },
  {
   "cell_type": "code",
   "execution_count": 25,
   "metadata": {},
   "outputs": [
    {
     "name": "stdout",
     "output_type": "stream",
     "text": [
      "###################################\n",
      "\n",
      "Statistics about queries\n",
      "\n",
      "Average length:{} 14.439009221912258\n",
      "###################################\n",
      "\n"
     ]
    },
    {
     "data": {
      "image/png": "[encoded data removed]",
      "text/plain": [
       "<Figure size 432x288 with 1 Axes>"
      ]
     },
     "metadata": {
      "needs_background": "light"
     },
     "output_type": "display_data"
    },
    {
     "name": "stdout",
     "output_type": "stream",
     "text": [
      "###################################\n",
      "\n",
      "Statistics about answers\n",
      "\n",
      "Average length:{} 31.415205998852166\n",
      "###################################\n",
      "\n"
     ]
    },
    {
     "data": {
      "image/png": "[encoded data removed]",
      "text/plain": [
       "<Figure size 432x288 with 1 Axes>"
      ]
     },
     "metadata": {
      "needs_background": "light"
     },
     "output_type": "display_data"
    },
    {
     "name": "stdout",
     "output_type": "stream",
     "text": [
      "###################################\n",
      "\n",
      "Statistics about passages\n",
      "\n",
      "Average length:{} 53.6071017785463\n",
      "###################################\n",
      "\n"
     ]
    },
    {
     "data": {
      "image/png": "[encoded data removed]",
      "text/plain": [
       "<Figure size 432x288 with 1 Axes>"
      ]
     },
     "metadata": {
      "needs_background": "light"
     },
     "output_type": "display_data"
    }
   ],
   "source": [
    "compute_length_stat(test_df)"
   ]
  },
  {
   "cell_type": "code",
   "execution_count": null,
   "metadata": {},
   "outputs": [],
   "source": []
  },
  {
   "cell_type": "markdown",
   "metadata": {},
   "source": [
    "# Category Analysis"
   ]
  },
  {
   "cell_type": "code",
   "execution_count": 10,
   "metadata": {},
   "outputs": [],
   "source": [
    "def compute_category_stats(df):\n",
    "    stats_map = {}\n",
    "    for cat in CATEGORIES:\n",
    "        stats_map[cat] = {\"#products\":set(), \"#questions\":0, \"#answers\":0, \"#review_snippets\": 0}\n",
    "    \n",
    "    for row in df.iterrows():\n",
    "        row = row[1]\n",
    "        if \"category\" not in row:\n",
    "            print(row)\n",
    "            exit(0)\n",
    "        cat = row[\"category\"]\n",
    "        stats_map[cat][\"#products\"].add(row[\"asin\"])\n",
    "        stats_map[cat][\"#questions\"] += 1\n",
    "        stats_map[cat][\"#answers\"] += len(row[\"answers\"])\n",
    "        stats_map[cat][\"#review_snippets\"] += len(row[\"review_snippets\"])\n",
    "    \n",
    "    print(\"category                  #products #questions #answers #review_snippets\")\n",
    "    for cat in CATEGORIES:\n",
    "        print(\"-------------------------------------\")\n",
    "        print(\"%s %d %d %d %d\" % (cat, len(stats_map[cat][\"#products\"]), \n",
    "                                  stats_map[cat][\"#questions\"], \n",
    "                                  stats_map[cat][\"#answers\"], \n",
    "                                  stats_map[cat][\"#review_snippets\"]))\n",
    "    print(\"-------------------------------------\\n\")"
   ]
  },
  {
   "cell_type": "markdown",
   "metadata": {},
   "source": [
    "# Load Data"
   ]
  },
  {
   "cell_type": "code",
   "execution_count": 13,
   "metadata": {},
   "outputs": [],
   "source": [
    "data_dir = \"/home/ubuntu/Explicable-Question-Answering/data/\""
   ]
  },
  {
   "cell_type": "code",
   "execution_count": 14,
   "metadata": {},
   "outputs": [],
   "source": [
    "train_infile = data_dir+\"train-qar_all.jsonl\"\n",
    "train_df = getDF(train_infile)"
   ]
  },
  {
   "cell_type": "code",
   "execution_count": 15,
   "metadata": {},
   "outputs": [],
   "source": [
    "val_infile = data_dir+\"val-qar_all.jsonl\"\n",
    "val_df = getDF(val_infile)\n",
    "\n",
    "test_infile = data_dir+\"test-qar_all.jsonl\"\n",
    "test_df = getDF(test_infile)"
   ]
  },
  {
   "cell_type": "markdown",
   "metadata": {},
   "source": [
    "# General Count Analysis"
   ]
  },
  {
   "cell_type": "code",
   "execution_count": 16,
   "metadata": {},
   "outputs": [
    {
     "name": "stdout",
     "output_type": "stream",
     "text": [
      "category                  #products #questions #answers #review_snippets\n",
      "-------------------------------------\n",
      "Cell_Phones_and_Accessories 7133 42211 163788 391575\n",
      "-------------------------------------\n",
      "Office_Products 4339 26086 99861 242343\n",
      "-------------------------------------\n",
      "Musical_Instruments 2366 14285 53604 134183\n",
      "-------------------------------------\n",
      "Beauty 4450 24956 95461 226770\n",
      "-------------------------------------\n",
      "Electronics 28696 169764 635951 1604232\n",
      "-------------------------------------\n",
      "Baby 2466 14427 53683 135477\n",
      "-------------------------------------\n",
      "Toys_and_Games 5725 30838 118514 291053\n",
      "-------------------------------------\n",
      "Patio_Lawn_and_Garden 6108 36693 149508 339853\n",
      "-------------------------------------\n",
      "Clothing_Shoes_and_Jewelry 1021 5671 22257 50683\n",
      "-------------------------------------\n",
      "Sports_and_Outdoors 11881 70824 279050 649023\n",
      "-------------------------------------\n",
      "Automotive 8172 45892 180700 384505\n",
      "-------------------------------------\n",
      "Tools_and_Home_Improvement 10283 62995 252683 577887\n",
      "-------------------------------------\n",
      "Health_and_Personal_Care 8051 47589 189276 449831\n",
      "-------------------------------------\n",
      "Video_Games 886 5901 22236 58300\n",
      "-------------------------------------\n",
      "Home_and_Kitchen 17640 107423 442032 996959\n",
      "-------------------------------------\n",
      "Pet_Supplies 3349 21668 93485 202739\n",
      "-------------------------------------\n",
      "Grocery_and_Gourmet_Food 2272 11553 46812 107690\n",
      "-------------------------------------\n",
      "\n"
     ]
    }
   ],
   "source": [
    "compute_category_stats(train_df)"
   ]
  },
  {
   "cell_type": "code",
   "execution_count": 17,
   "metadata": {},
   "outputs": [
    {
     "name": "stdout",
     "output_type": "stream",
     "text": [
      "category                  #products #questions #answers #review_snippets\n",
      "-------------------------------------\n",
      "Cell_Phones_and_Accessories 927 5360 20492 50356\n",
      "-------------------------------------\n",
      "Office_Products 540 3250 12461 30548\n",
      "-------------------------------------\n",
      "Musical_Instruments 262 1576 5785 15021\n",
      "-------------------------------------\n",
      "Beauty 554 2992 11421 27400\n",
      "-------------------------------------\n",
      "Electronics 3505 20830 77302 195637\n",
      "-------------------------------------\n",
      "Baby 303 1762 6519 16305\n",
      "-------------------------------------\n",
      "Toys_and_Games 755 4093 15651 39000\n",
      "-------------------------------------\n",
      "Patio_Lawn_and_Garden 743 4450 17833 40607\n",
      "-------------------------------------\n",
      "Clothing_Shoes_and_Jewelry 127 690 2622 5756\n",
      "-------------------------------------\n",
      "Sports_and_Outdoors 1497 9123 36176 84446\n",
      "-------------------------------------\n",
      "Automotive 1063 5867 23415 49702\n",
      "-------------------------------------\n",
      "Tools_and_Home_Improvement 1278 7878 31687 72038\n",
      "-------------------------------------\n",
      "Health_and_Personal_Care 988 5711 22942 54119\n",
      "-------------------------------------\n",
      "Video_Games 143 873 3213 8653\n",
      "-------------------------------------\n",
      "Home_and_Kitchen 2188 13300 54340 123235\n",
      "-------------------------------------\n",
      "Pet_Supplies 413 2741 11784 26063\n",
      "-------------------------------------\n",
      "Grocery_and_Gourmet_Food 319 1687 6951 15926\n",
      "-------------------------------------\n",
      "\n"
     ]
    }
   ],
   "source": [
    "compute_category_stats(val_df)"
   ]
  },
  {
   "cell_type": "code",
   "execution_count": 18,
   "metadata": {},
   "outputs": [
    {
     "name": "stdout",
     "output_type": "stream",
     "text": [
      "category                  #products #questions #answers #review_snippets\n",
      "-------------------------------------\n",
      "Cell_Phones_and_Accessories 905 5356 20794 50084\n",
      "-------------------------------------\n",
      "Office_Products 530 3231 12368 30148\n",
      "-------------------------------------\n",
      "Musical_Instruments 278 1703 6451 16149\n",
      "-------------------------------------\n",
      "Beauty 547 3158 11856 28446\n",
      "-------------------------------------\n",
      "Electronics 3506 21024 78341 198687\n",
      "-------------------------------------\n",
      "Baby 332 1913 7152 17748\n",
      "-------------------------------------\n",
      "Toys_and_Games 743 3999 15388 37363\n",
      "-------------------------------------\n",
      "Patio_Lawn_and_Garden 795 4721 19308 42992\n",
      "-------------------------------------\n",
      "Clothing_Shoes_and_Jewelry 114 655 2556 5416\n",
      "-------------------------------------\n",
      "Sports_and_Outdoors 1486 8983 35922 82875\n",
      "-------------------------------------\n",
      "Automotive 1002 5720 22797 47860\n",
      "-------------------------------------\n",
      "Tools_and_Home_Improvement 1294 7811 31196 71975\n",
      "-------------------------------------\n",
      "Health_and_Personal_Care 992 5865 23646 55252\n",
      "-------------------------------------\n",
      "Video_Games 126 777 2747 7576\n",
      "-------------------------------------\n",
      "Home_and_Kitchen 2209 13386 55316 124616\n",
      "-------------------------------------\n",
      "Pet_Supplies 462 2960 12795 27683\n",
      "-------------------------------------\n",
      "Grocery_and_Gourmet_Food 285 1464 5790 13784\n",
      "-------------------------------------\n",
      "\n"
     ]
    }
   ],
   "source": [
    "compute_category_stats(test_df)"
   ]
  },
  {
   "cell_type": "markdown",
   "metadata": {},
   "source": [
    "# Full Category Analysis"
   ]
  },
  {
   "cell_type": "code",
   "execution_count": 19,
   "metadata": {},
   "outputs": [],
   "source": [
    "def compute_full_category_stats(df, cat):\n",
    "    stats_map = {}\n",
    "    stats_map[cat] = {\"#products\":set(), \"#questions\":0, \"#answers\":0, \"#reviews\": 0}\n",
    "    \n",
    "    for row in df.iterrows():\n",
    "        row = row[1]\n",
    "        stats_map[cat][\"#products\"].add(row[\"asin\"])\n",
    "        for question in row[\"questions\"]:\n",
    "            stats_map[cat][\"#questions\"] += 1\n",
    "            stats_map[cat][\"#answers\"] += len(question[\"answers\"])\n",
    "        stats_map[cat][\"#reviews\"] += len(row[\"reviews\"])\n",
    "    \n",
    "    print(\"category                  #products #questions #answers #reviews\")\n",
    "    print(\"-------------------------------------\")\n",
    "    print(\"%s %d %d %d %d\" % (cat, len(stats_map[cat][\"#products\"]), \n",
    "                              stats_map[cat][\"#questions\"], \n",
    "                              stats_map[cat][\"#answers\"], \n",
    "                              stats_map[cat][\"#reviews\"]))\n",
    "    print(\"-------------------------------------\\n\")"
   ]
  },
  {
   "cell_type": "code",
   "execution_count": null,
   "metadata": {},
   "outputs": [],
   "source": [
    "for cat in CATEGORIES:\n",
    "    infile = data_dir+\"qar_products_\"+cat+\".jsonl\"\n",
    "    df = getDF(infile)\n",
    "    compute_full_category_stats(df, cat)"
   ]
  },
  {
   "cell_type": "code",
   "execution_count": null,
   "metadata": {},
   "outputs": [],
   "source": []
  },
  {
   "cell_type": "code",
   "execution_count": null,
   "metadata": {},
   "outputs": [],
   "source": [
    "# Utils"
   ]
  },
  {
   "cell_type": "code",
   "execution_count": null,
   "metadata": {},
   "outputs": [],
   "source": [
    "def convert(infile, outfile):\n",
    "    rfp = open(infile, 'r')\n",
    "    wfp = open(outfile, 'w')\n",
    "    \n",
    "    for line in rfp:\n",
    "        final_json = json.loads(line)\n",
    "        if len(final_json[\"context\"].split(' ')) == 0:\n",
    "            continue\n",
    "        wfp.write(line)\n",
    "    wfp.close()"
   ]
  },
  {
   "cell_type": "code",
   "execution_count": null,
   "metadata": {},
   "outputs": [],
   "source": [
    "data_dir = \"/Users/rchanda/Acads/Fall-2018/Capstone/Explicable-Question-Answering/data/old/\"\n",
    "infile = data_dir+\"val-qar_squad_all.jsonl\"\n",
    "outfile = data_dir+\"val-qar_squad_all.jsonl_new\"\n",
    "convert(infile, outfile)"
   ]
  },
  {
   "cell_type": "code",
   "execution_count": null,
   "metadata": {},
   "outputs": [],
   "source": []
  },
  {
   "cell_type": "markdown",
   "metadata": {},
   "source": [
    "# Span Analysis"
   ]
  },
  {
   "cell_type": "code",
   "execution_count": 10,
   "metadata": {},
   "outputs": [],
   "source": [
    "def process_text(text):\n",
    "    punctuations = string.punctuation.replace(\"\\'\", '')\n",
    "\n",
    "    for ch in punctuations:\n",
    "        text1 = text.replace(ch, \"\")\n",
    "\n",
    "    tokens = text1.split()\n",
    "    \n",
    "    for i, token in enumerate(tokens):\n",
    "        if not token.isupper():\n",
    "            tokens[i] = token.lower()\n",
    "    return ' '.join(tokens)"
   ]
  },
  {
   "cell_type": "code",
   "execution_count": 11,
   "metadata": {},
   "outputs": [],
   "source": [
    "def get_all_spans(input_file):\n",
    "    all_spans = []\n",
    "\n",
    "    rfp = open(input_file, 'r')\n",
    "    for line in tqdm(rfp):\n",
    "        row = json.loads(line)\n",
    "        spans = row[\"qas\"][0][\"answers\"]\n",
    "        for span in spans:\n",
    "            text = process_text(span[\"text\"])\n",
    "            all_spans.append(text)\n",
    "    \n",
    "    return all_spans"
   ]
  },
  {
   "cell_type": "code",
   "execution_count": 12,
   "metadata": {},
   "outputs": [],
   "source": [
    "data_dir = \"/home/ubuntu/Explicable-Question-Answering/data/\"\n",
    "input_file = data_dir+\"val-qar_squad_all.jsonl\""
   ]
  },
  {
   "cell_type": "code",
   "execution_count": 13,
   "metadata": {},
   "outputs": [
    {
     "name": "stderr",
     "output_type": "stream",
     "text": [
      "56895it [00:03, 14782.71it/s]\n"
     ]
    }
   ],
   "source": [
    "all_spans = get_all_spans(input_file)"
   ]
  },
  {
   "cell_type": "code",
   "execution_count": 14,
   "metadata": {},
   "outputs": [],
   "source": [
    "def get_span_stats(all_spans):\n",
    "    word_freqs = defaultdict(int)\n",
    "    span_lens = defaultdict(int)\n",
    "    span_freqs = defaultdict(int)\n",
    "    \n",
    "    for text in all_spans:\n",
    "        span_freqs[text] += 1\n",
    "        \n",
    "        tokens = text.split()\n",
    "        span_lens[len(tokens)] += 1\n",
    "        for word in tokens:\n",
    "            word_freqs[word] += 1\n",
    "    \n",
    "    generate_histograms(span_lens, \"span_lens\")\n",
    "    return word_freqs, span_freqs"
   ]
  },
  {
   "cell_type": "code",
   "execution_count": 15,
   "metadata": {},
   "outputs": [
    {
     "name": "stdout",
     "output_type": "stream",
     "text": [
      "###################################\n",
      "\n",
      "Statistics about span_lens\n",
      "\n",
      "Average length:{} 6.572816591967659\n",
      "###################################\n",
      "\n"
     ]
    },
    {
     "data": {
      "image/png": "[encoded data removed]",
      "text/plain": [
       "<Figure size 432x288 with 1 Axes>"
      ]
     },
     "metadata": {
      "needs_background": "light"
     },
     "output_type": "display_data"
    }
   ],
   "source": [
    "word_freqs, span_freqs = get_span_stats(all_spans)"
   ]
  },
  {
   "cell_type": "code",
   "execution_count": 16,
   "metadata": {},
   "outputs": [],
   "source": [
    "sorted_word_freqs = sorted(word_freqs.items(), key=operator.itemgetter(1), reverse=True)"
   ]
  },
  {
   "cell_type": "code",
   "execution_count": 17,
   "metadata": {},
   "outputs": [
    {
     "data": {
      "text/plain": [
       "[('the', 158023),\n",
       " ('I', 72132),\n",
       " ('to', 66565),\n",
       " ('it', 65445),\n",
       " ('a', 64455),\n",
       " ('and', 64076),\n",
       " ('is', 50478),\n",
       " ('of', 34254),\n",
       " ('for', 30587),\n",
       " ('have', 28608),\n",
       " ('this', 28375),\n",
       " ('on', 25985),\n",
       " ('with', 25802),\n",
       " ('in', 25625),\n",
       " ('my', 22693),\n",
       " ('you', 18083),\n",
       " ('that', 17822),\n",
       " ('not', 17456),\n",
       " ('but', 14369),\n",
       " ('use', 12797),\n",
       " ('are', 11249),\n",
       " ('was', 10412),\n",
       " ('be', 9246),\n",
       " ('as', 9038),\n",
       " ('they', 8224),\n",
       " ('can', 7878),\n",
       " ('very', 7600),\n",
       " ('so', 7426),\n",
       " ('if', 7374),\n",
       " ('would', 7250),\n",
       " ('one', 6546),\n",
       " ('had', 6288),\n",
       " ('will', 5858),\n",
       " ('get', 5380),\n",
       " ('used', 5257),\n",
       " ('great', 5218),\n",
       " ('work', 5006),\n",
       " ('bought', 4914),\n",
       " ('like', 4695),\n",
       " ('at', 4658),\n",
       " ('has', 4599),\n",
       " ('just', 4576),\n",
       " ('up', 4513),\n",
       " (\"don't\", 4494),\n",
       " ('fit', 4338),\n",
       " ('does', 4327),\n",
       " ('out', 4263),\n",
       " ('these', 4249),\n",
       " ('from', 4156),\n",
       " ('when', 4084)]"
      ]
     },
     "execution_count": 17,
     "metadata": {},
     "output_type": "execute_result"
    }
   ],
   "source": [
    "sorted_word_freqs[:50]"
   ]
  },
  {
   "cell_type": "code",
   "execution_count": 18,
   "metadata": {},
   "outputs": [],
   "source": [
    "sorted_span_freqs = sorted(span_freqs.items(), key=operator.itemgetter(1), reverse=True)"
   ]
  },
  {
   "cell_type": "code",
   "execution_count": 19,
   "metadata": {},
   "outputs": [
    {
     "data": {
      "text/plain": [
       "[('it is a', 434),\n",
       " ('I have a', 363),\n",
       " ('this is a', 334),\n",
       " ('and it is', 241),\n",
       " ('I have to', 169),\n",
       " ('out of the', 147),\n",
       " ('I use it', 145),\n",
       " ('and I have', 121),\n",
       " ('this is the', 117),\n",
       " ('it is not', 117),\n",
       " ('is a great', 116),\n",
       " ('I bought this', 110),\n",
       " ('you have to', 105),\n",
       " ('but it is', 105),\n",
       " ('I had to', 105),\n",
       " ('it does not', 104),\n",
       " ('it has a', 102),\n",
       " ('one of the', 101),\n",
       " ('a lot of', 86),\n",
       " ('it in the', 85),\n",
       " ('if you have', 84),\n",
       " ('comes with a', 81),\n",
       " ('it is very', 79),\n",
       " ('if you are', 75),\n",
       " ('and it works', 75),\n",
       " ('and they are', 74),\n",
       " ('I have used', 73),\n",
       " ('that it is', 73),\n",
       " ('I have had', 72),\n",
       " ('I have the', 70),\n",
       " ('there is a', 70),\n",
       " ('come with a', 63),\n",
       " ('and it was', 63),\n",
       " ('that I have', 55),\n",
       " ('it on the', 54),\n",
       " ('I have not', 53),\n",
       " ('is a very', 52),\n",
       " ('it is the', 51),\n",
       " (\"I don't know\", 50),\n",
       " ('is a little', 50),\n",
       " ('I do not', 50),\n",
       " ('to be a', 49),\n",
       " ('is a good', 48),\n",
       " ('and it does', 48),\n",
       " ('you need to', 48),\n",
       " ('it was a', 48),\n",
       " ('I have been', 46),\n",
       " ('to use it', 45),\n",
       " ('there is no', 45),\n",
       " ('this is a great', 44),\n",
       " ('use it for', 44),\n",
       " ('you have a', 44),\n",
       " ('it to the', 43),\n",
       " ('I like the', 43),\n",
       " ('you want to', 43),\n",
       " ('this for my', 42),\n",
       " ('to have a', 42),\n",
       " ('the bottom of the', 41),\n",
       " ('and you can', 40),\n",
       " (\"I don't have\", 40),\n",
       " ('it comes with', 40),\n",
       " ('they are a', 39),\n",
       " ('it on my', 39),\n",
       " ('it would be', 39),\n",
       " ('is the best', 39),\n",
       " ('I am not', 39),\n",
       " ('I purchased this', 39),\n",
       " ('all of the', 39),\n",
       " ('the blade is', 39),\n",
       " ('for the price.', 38),\n",
       " ('came with the', 38),\n",
       " ('it for a', 38),\n",
       " ('I love the', 37),\n",
       " ('I use this', 37),\n",
       " ('come with the', 37),\n",
       " ('on the back', 37),\n",
       " ('but it does', 36),\n",
       " ('and it has', 36),\n",
       " ('be able to', 36),\n",
       " ('I would have', 35),\n",
       " ('and I would', 35),\n",
       " ('work with my', 35),\n",
       " ('I love this', 35),\n",
       " ('very easy to', 34),\n",
       " ('and I am', 34),\n",
       " ('that you can', 34),\n",
       " ('I would recommend', 34),\n",
       " ('this is not', 33),\n",
       " ('I bought the', 33),\n",
       " ('is not a', 33),\n",
       " ('not work with', 33),\n",
       " ('I have it', 32),\n",
       " ('I would not', 31),\n",
       " ('a couple of', 31),\n",
       " ('looking for a', 31),\n",
       " ('but I have', 31),\n",
       " ('but they are', 31),\n",
       " ('if you have a', 31),\n",
       " ('to get the', 31),\n",
       " ('I had a', 31)]"
      ]
     },
     "execution_count": 19,
     "metadata": {},
     "output_type": "execute_result"
    }
   ],
   "source": [
    "sorted_span_freqs[:100]"
   ]
  },
  {
   "cell_type": "code",
   "execution_count": null,
   "metadata": {},
   "outputs": [],
   "source": []
  },
  {
   "cell_type": "code",
   "execution_count": null,
   "metadata": {},
   "outputs": [],
   "source": []
  },
  {
   "cell_type": "code",
   "execution_count": null,
   "metadata": {},
   "outputs": [],
   "source": []
  },
  {
   "cell_type": "code",
   "execution_count": null,
   "metadata": {},
   "outputs": [],
   "source": []
  },
  {
   "cell_type": "code",
   "execution_count": null,
   "metadata": {},
   "outputs": [],
   "source": []
  },
  {
   "cell_type": "code",
   "execution_count": null,
   "metadata": {},
   "outputs": [],
   "source": []
  },
  {
   "cell_type": "code",
   "execution_count": null,
   "metadata": {},
   "outputs": [],
   "source": []
  },
  {
   "cell_type": "code",
   "execution_count": null,
   "metadata": {},
   "outputs": [],
   "source": []
  },
  {
   "cell_type": "code",
   "execution_count": null,
   "metadata": {},
   "outputs": [],
   "source": []
  },
  {
   "cell_type": "code",
   "execution_count": null,
   "metadata": {},
   "outputs": [],
   "source": []
  },
  {
   "cell_type": "code",
   "execution_count": null,
   "metadata": {},
   "outputs": [],
   "source": []
  },
  {
   "cell_type": "code",
   "execution_count": null,
   "metadata": {},
   "outputs": [],
   "source": []
  },
  {
   "cell_type": "code",
   "execution_count": null,
   "metadata": {},
   "outputs": [],
   "source": []
  }
 ],
 "metadata": {
  "kernelspec": {
   "display_name": "amazon-qar",
   "language": "python",
   "name": "amazon-qar"
  },
  "language_info": {
   "codemirror_mode": {
    "name": "ipython",
    "version": 3
   },
   "file_extension": ".py",
   "mimetype": "text/x-python",
   "name": "python",
   "nbconvert_exporter": "python",
   "pygments_lexer": "ipython3",
   "version": "3.6.5"
  }
 },
 "nbformat": 4,
 "nbformat_minor": 2
}
