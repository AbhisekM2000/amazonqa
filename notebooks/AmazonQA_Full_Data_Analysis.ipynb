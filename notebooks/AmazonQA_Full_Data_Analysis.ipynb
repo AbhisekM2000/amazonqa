{
 "cells": [
  {
   "cell_type": "code",
   "execution_count": 56,
   "metadata": {},
   "outputs": [],
   "source": [
    "import json\n",
    "import sys\n",
    "import pandas as pd\n",
    "import matplotlib.pyplot as plt\n",
    "from tqdm import tqdm\n",
    "from collections import defaultdict\n",
    "import operator\n",
    "import nltk\n",
    "from nltk.corpus import stopwords\n",
    "import string \n",
    "\n",
    "YSNO_MAP = set(['is', 'can', 'does', 'are', 'do', 'should', 'did', 'will', 'was', 'has', 'could', 'were', 'would'])\n",
    "CATEGORIES=set([\"Automotive\", \"Baby\", \"Beauty\", \"Cell_Phones_and_Accessories\",\n",
    "                \"Clothing_Shoes_and_Jewelry\", \"Electronics\", \"Grocery_and_Gourmet_Food\",\n",
    "                \"Health_and_Personal_Care\", \"Home_and_Kitchen\", \"Musical_Instruments\", \n",
    "                \"Office_Products\", \"Patio_Lawn_and_Garden\", \"Pet_Supplies\", \n",
    "                \"Sports_and_Outdoors\", \"Tools_and_Home_Improvement\", \"Toys_and_Games\", \"Video_Games\"])\n"
   ]
  },
  {
   "cell_type": "code",
   "execution_count": 2,
   "metadata": {},
   "outputs": [],
   "source": [
    "def getDF(path):\n",
    "    i = 0\n",
    "    df = {}\n",
    "    with open(path, 'r') as fp:\n",
    "        for line in fp:\n",
    "            df[i] = json.loads(line)\n",
    "            i += 1\n",
    "    \n",
    "    return pd.DataFrame.from_dict(df, orient='index')"
   ]
  },
  {
   "cell_type": "code",
   "execution_count": 3,
   "metadata": {},
   "outputs": [],
   "source": [
    "def general_stats_data(df):\n",
    "    query_type_label = {'YESNO': 0, 'DESCRIPTION':0}\n",
    "    wfa = 0\n",
    "    total_judgements = 0\n",
    "    total_wfa_judgments = 0\n",
    "    multiple_answers = 0\n",
    "    multiple_wfa = 0\n",
    "    total_size = len(df)\n",
    "    for row in df.iterrows():\n",
    "        category = row[1]['query_type']\n",
    "        total_judgements += len(row[1]['answers'])\n",
    "        currentwfa = row[1]['wellFormedAnswers']\n",
    "        if category in query_type_label:\n",
    "            query_type_label[category] += 1\n",
    "        else:\n",
    "            print(category)\n",
    "        if len(row[1]['answers']) > 1:\n",
    "            multiple_answers += 1\n",
    "        if currentwfa != '[]':\n",
    "            wfa += 1\n",
    "            total_wfa_judgments += len(currentwfa)\n",
    "            if len(currentwfa) > 1:\n",
    "                multiple_wfa += 1\n",
    "    print('Columns:{}'.format(df.columns.values))\n",
    "    print('{} queries with {} judgements with {} queries contain more than one judgment'.format(total_size,total_judgements,multiple_answers))\n",
    "    #print('{} queries with Well Formed Answers of which {} contain more than one judgment'.format(wfa,multiple_wfa))\n",
    "    print('----query distribution by dataset type----')\n",
    "    for key in query_type_label:\n",
    "        print(key + ',' + str(query_type_label[key])+ ',' + str(query_type_label[key]/total_size))"
   ]
  },
  {
   "cell_type": "code",
   "execution_count": 4,
   "metadata": {},
   "outputs": [],
   "source": [
    "def update_query_type(query, query_type, qmap):\n",
    "    assert len(query) > 0\n",
    "    query = query.lower()\n",
    "    head = query.split()[0]\n",
    "    if query_type == \"YESNO\":\n",
    "        qmap['yesno'] += 1\n",
    "    elif head in qmap:\n",
    "        qmap[head] += 1\n",
    "    else:\n",
    "        qmap['other'] +=1"
   ]
  },
  {
   "cell_type": "code",
   "execution_count": 5,
   "metadata": {},
   "outputs": [],
   "source": [
    "def compute_query_word_stat(df):\n",
    "    print('----query distribution by wording----')\n",
    "    query_type_map = {'yesno':0, 'what':0, 'who':0, 'which':0, 'where':0, 'when':0, 'why':0, 'how':0, 'other':0}\n",
    "    for row in df.iterrows():\n",
    "        query = row[1][\"query\"]\n",
    "        query_type = row[1][\"query_type\"]\n",
    "        update_query_type(query, query_type, query_type_map)\n",
    "    total = sum(list(query_type_map.values()))\n",
    "    print(total)\n",
    "    for k, v in query_type_map.items():\n",
    "        print('{},{},{}'.format(k, v, 1.0 * v/total))"
   ]
  },
  {
   "cell_type": "code",
   "execution_count": 21,
   "metadata": {},
   "outputs": [],
   "source": [
    "def get_stats(histogram):\n",
    "    average = 0.0\n",
    "    total_values = 0.0\n",
    "    for value in histogram:\n",
    "        total_values += histogram[value]\n",
    "        average += float(histogram[value]) * float(value)\n",
    "    return average/total_values"
   ]
  },
  {
   "cell_type": "code",
   "execution_count": 18,
   "metadata": {},
   "outputs": [],
   "source": [
    "def generate_histograms(histogram, title):\n",
    "    average = get_stats(histogram)\n",
    "    print(\"###################################\\n\")\n",
    "    print(\"Statistics about {}\\n\".format(title))\n",
    "    print(\"Average length:{}\",format(average))\n",
    "    print(\"###################################\\n\")\n",
    "    plt.bar(list(histogram.keys()), histogram.values(), color='g')\n",
    "    plt.show()\n",
    "    #for key in sorted(histogram.keys()):\n",
    "    #   print(\"{}:{}\".format(key, histogram[key]))"
   ]
  },
  {
   "cell_type": "code",
   "execution_count": 8,
   "metadata": {},
   "outputs": [],
   "source": [
    "def compute_length_stat(df):\n",
    "    queries = {}\n",
    "    answers = {}\n",
    "    well_formed_answers = {}\n",
    "    passages = {}\n",
    "\n",
    "    for row in df.iterrows():\n",
    "        queries[row[1]['query']] = 1\n",
    "        for v in row[1]['answers']:\n",
    "            answers[v] = 1\n",
    "        for p in row[1]['passages']:\n",
    "            passages[p['passage_text']] = 1\n",
    "    data = {'queries' : queries, 'answers' : answers, 'passages' : passages}\n",
    "    for value in data:\n",
    "        histogram = {}\n",
    "        for v in data[value]:\n",
    "            l = len(v.split())\n",
    "            if l in histogram:\n",
    "                histogram[l] += 1\n",
    "            else:\n",
    "                histogram[l] = 1\n",
    "        generate_histograms(histogram, value)"
   ]
  },
  {
   "cell_type": "markdown",
   "metadata": {},
   "source": [
    "# Load data"
   ]
  },
  {
   "cell_type": "code",
   "execution_count": 2,
   "metadata": {},
   "outputs": [],
   "source": [
    "data_dir = \"/Users/rchanda/Acads/Fall-2018/Capstone/Explicable-Question-Answering/data/\""
   ]
  },
  {
   "cell_type": "code",
   "execution_count": 10,
   "metadata": {},
   "outputs": [],
   "source": [
    "train_infile = data_dir+\"train-qar_msmarco_all.jsonl\"\n",
    "train_df = getDF(train_infile)"
   ]
  },
  {
   "cell_type": "code",
   "execution_count": 10,
   "metadata": {},
   "outputs": [],
   "source": [
    "val_infile = data_dir+\"val-qar_msmarco_all.jsonl\"\n",
    "val_df = getDF(val_infile)\n",
    "\n",
    "test_infile = data_dir+\"test-qar_msmarco_all.jsonl\"\n",
    "test_df = getDF(test_infile)"
   ]
  },
  {
   "cell_type": "markdown",
   "metadata": {},
   "source": [
    "# General Stats"
   ]
  },
  {
   "cell_type": "code",
   "execution_count": 11,
   "metadata": {},
   "outputs": [
    {
     "name": "stdout",
     "output_type": "stream",
     "text": [
      "Columns:['answers' 'passages' 'query' 'query_id' 'query_type' 'wellFormedAnswers']\n",
      "668243 queries with 2635677 judgements with 663767 queries contain more than one judgment\n",
      "----query distribution by dataset type----\n",
      "YESNO,98789,0.14783394663318583\n",
      "DESCRIPTION,569454,0.8521660533668142\n"
     ]
    }
   ],
   "source": [
    "general_stats_data(train_df)"
   ]
  },
  {
   "cell_type": "code",
   "execution_count": 11,
   "metadata": {},
   "outputs": [
    {
     "name": "stdout",
     "output_type": "stream",
     "text": [
      "Columns:['answers' 'passages' 'query' 'query_id' 'query_type' 'wellFormedAnswers']\n",
      "83429 queries with 330238 judgements with 82857 queries contain more than one judgment\n",
      "----query distribution by dataset type----\n",
      "YESNO,12148,0.14560884105047406\n",
      "DESCRIPTION,71281,0.854391158949526\n"
     ]
    }
   ],
   "source": [
    "general_stats_data(val_df)"
   ]
  },
  {
   "cell_type": "code",
   "execution_count": 12,
   "metadata": {},
   "outputs": [
    {
     "name": "stdout",
     "output_type": "stream",
     "text": [
      "Columns:['answers' 'passages' 'query' 'query_id' 'query_type' 'wellFormedAnswers']\n",
      "83408 queries with 328671 judgements with 82834 queries contain more than one judgment\n",
      "----query distribution by dataset type----\n",
      "YESNO,12477,0.14958996738921926\n",
      "DESCRIPTION,70931,0.8504100326107807\n"
     ]
    }
   ],
   "source": [
    "general_stats_data(test_df)"
   ]
  },
  {
   "cell_type": "markdown",
   "metadata": {},
   "source": [
    "# Query Stats"
   ]
  },
  {
   "cell_type": "code",
   "execution_count": 12,
   "metadata": {},
   "outputs": [
    {
     "name": "stdout",
     "output_type": "stream",
     "text": [
      "----query distribution by wording----\n",
      "668243\n",
      "yesno,98789,0.14783394663318583\n",
      "what,62880,0.09409750644600841\n",
      "who,376,0.0005626695678069205\n",
      "which,2262,0.00338499617654057\n",
      "where,7916,0.011845990156275486\n",
      "when,2478,0.0037082318857062477\n",
      "why,4230,0.006330032637827856\n",
      "how,60352,0.09031445147947678\n",
      "other,428960,0.6419221750171719\n"
     ]
    }
   ],
   "source": [
    "compute_query_word_stat(train_df)"
   ]
  },
  {
   "cell_type": "code",
   "execution_count": 13,
   "metadata": {},
   "outputs": [
    {
     "name": "stdout",
     "output_type": "stream",
     "text": [
      "----query distribution by wording----\n",
      "83429\n",
      "yesno,12148,0.14560884105047406\n",
      "what,7887,0.09453547327667837\n",
      "who,35,0.00041951839288496807\n",
      "which,279,0.003344160903283031\n",
      "where,1043,0.012501648107972049\n",
      "when,311,0.003727720576777859\n",
      "why,495,0.00593318869937312\n",
      "how,7547,0.09046015174579583\n",
      "other,53684,0.6434692972467607\n"
     ]
    }
   ],
   "source": [
    "compute_query_word_stat(val_df)"
   ]
  },
  {
   "cell_type": "code",
   "execution_count": 14,
   "metadata": {},
   "outputs": [
    {
     "name": "stdout",
     "output_type": "stream",
     "text": [
      "----query distribution by wording----\n",
      "83408\n",
      "yesno,12477,0.14958996738921926\n",
      "what,7896,0.09466717820832533\n",
      "who,40,0.00047957030500671397\n",
      "which,302,0.0036207558028006907\n",
      "where,1000,0.01198925762516785\n",
      "when,308,0.0036926913485516976\n",
      "why,527,0.006318338768463457\n",
      "how,7315,0.08770141952810281\n",
      "other,53543,0.6419408210243621\n"
     ]
    }
   ],
   "source": [
    "compute_query_word_stat(test_df)"
   ]
  },
  {
   "cell_type": "markdown",
   "metadata": {},
   "source": [
    "# Length Statistics"
   ]
  },
  {
   "cell_type": "code",
   "execution_count": 13,
   "metadata": {},
   "outputs": [
    {
     "name": "stdout",
     "output_type": "stream",
     "text": [
      "###################################\n",
      "\n",
      "Statistics about queries\n",
      "\n",
      "Average length:{} 14.825549171909616\n",
      "###################################\n",
      "\n"
     ]
    },
    {
     "data": {
      "image/png": "[encoded data removed]",
      "text/plain": [
       "<Figure size 432x288 with 1 Axes>"
      ]
     },
     "metadata": {
      "needs_background": "light"
     },
     "output_type": "display_data"
    },
    {
     "name": "stdout",
     "output_type": "stream",
     "text": [
      "###################################\n",
      "\n",
      "Statistics about answers\n",
      "\n",
      "Average length:{} 31.284618669260194\n",
      "###################################\n",
      "\n"
     ]
    },
    {
     "data": {
      "image/png": "[encoded data removed]",
      "text/plain": [
       "<Figure size 432x288 with 1 Axes>"
      ]
     },
     "metadata": {
      "needs_background": "light"
     },
     "output_type": "display_data"
    },
    {
     "name": "stdout",
     "output_type": "stream",
     "text": [
      "###################################\n",
      "\n",
      "Statistics about passages\n",
      "\n",
      "Average length:{} 72.03875690776935\n",
      "###################################\n",
      "\n"
     ]
    },
    {
     "data": {
      "image/png": "[encoded data removed]",
      "text/plain": [
       "<Figure size 432x288 with 1 Axes>"
      ]
     },
     "metadata": {
      "needs_background": "light"
     },
     "output_type": "display_data"
    }
   ],
   "source": [
    "compute_length_stat(train_df)"
   ]
  },
  {
   "cell_type": "code",
   "execution_count": 15,
   "metadata": {},
   "outputs": [
    {
     "name": "stdout",
     "output_type": "stream",
     "text": [
      "###################################\n",
      "\n",
      "Statistics about queries\n",
      "\n",
      "Average length:{} 14.565507724909445\n",
      "###################################\n",
      "\n"
     ]
    },
    {
     "data": {
      "image/png": "[encoded data removed]",
      "text/plain": [
       "<Figure size 432x288 with 1 Axes>"
      ]
     },
     "metadata": {
      "needs_background": "light"
     },
     "output_type": "display_data"
    },
    {
     "name": "stdout",
     "output_type": "stream",
     "text": [
      "###################################\n",
      "\n",
      "Statistics about answers\n",
      "\n",
      "Average length:{} 30.846212184487914\n",
      "###################################\n",
      "\n"
     ]
    },
    {
     "data": {
      "image/png": "[encoded data removed]",
      "text/plain": [
       "<Figure size 432x288 with 1 Axes>"
      ]
     },
     "metadata": {
      "needs_background": "light"
     },
     "output_type": "display_data"
    },
    {
     "name": "stdout",
     "output_type": "stream",
     "text": [
      "###################################\n",
      "\n",
      "Statistics about passages\n",
      "\n",
      "Average length:{} 72.05204675490509\n",
      "###################################\n",
      "\n"
     ]
    },
    {
     "data": {
      "image/png": "[encoded data removed]",
      "text/plain": [
       "<Figure size 432x288 with 1 Axes>"
      ]
     },
     "metadata": {
      "needs_background": "light"
     },
     "output_type": "display_data"
    }
   ],
   "source": [
    "compute_length_stat(val_df)"
   ]
  },
  {
   "cell_type": "code",
   "execution_count": 16,
   "metadata": {},
   "outputs": [
    {
     "name": "stdout",
     "output_type": "stream",
     "text": [
      "###################################\n",
      "\n",
      "Statistics about queries\n",
      "\n",
      "Average length:{} 14.556469689878563\n",
      "###################################\n",
      "\n"
     ]
    },
    {
     "data": {
      "image/png": "[encoded data removed]",
      "text/plain": [
       "<Figure size 432x288 with 1 Axes>"
      ]
     },
     "metadata": {
      "needs_background": "light"
     },
     "output_type": "display_data"
    },
    {
     "name": "stdout",
     "output_type": "stream",
     "text": [
      "###################################\n",
      "\n",
      "Statistics about answers\n",
      "\n",
      "Average length:{} 30.655554363927635\n",
      "###################################\n",
      "\n"
     ]
    },
    {
     "data": {
      "image/png": "[encoded data removed]",
      "text/plain": [
       "<Figure size 432x288 with 1 Axes>"
      ]
     },
     "metadata": {
      "needs_background": "light"
     },
     "output_type": "display_data"
    },
    {
     "name": "stdout",
     "output_type": "stream",
     "text": [
      "###################################\n",
      "\n",
      "Statistics about passages\n",
      "\n",
      "Average length:{} 72.02502122155302\n",
      "###################################\n",
      "\n"
     ]
    },
    {
     "data": {
      "image/png": "[encoded data removed]",
      "text/plain": [
       "<Figure size 432x288 with 1 Axes>"
      ]
     },
     "metadata": {
      "needs_background": "light"
     },
     "output_type": "display_data"
    }
   ],
   "source": [
    "compute_length_stat(test_df)"
   ]
  },
  {
   "cell_type": "code",
   "execution_count": null,
   "metadata": {},
   "outputs": [],
   "source": []
  },
  {
   "cell_type": "markdown",
   "metadata": {},
   "source": [
    "# Category Analysis"
   ]
  },
  {
   "cell_type": "code",
   "execution_count": 3,
   "metadata": {},
   "outputs": [],
   "source": [
    "def compute_category_stats(df):\n",
    "    stats_map = {}\n",
    "    for cat in CATEGORIES:\n",
    "        stats_map[cat] = {\"#products\":set(), \"#questions\":0, \"#answers\":0, \"#review_snippets\": 0}\n",
    "    \n",
    "    for row in df.iterrows():\n",
    "        row = row[1]\n",
    "        if \"category\" not in row:\n",
    "            print(row)\n",
    "            exit(0)\n",
    "        cat = row[\"category\"]\n",
    "        stats_map[cat][\"#products\"].add(row[\"asin\"])\n",
    "        stats_map[cat][\"#questions\"] += 1\n",
    "        stats_map[cat][\"#answers\"] += len(row[\"answers\"])\n",
    "        stats_map[cat][\"#review_snippets\"] += len(row[\"review_snippets\"])\n",
    "    \n",
    "    print(\"category                  #products #questions #answers #review_snippets\")\n",
    "    for cat in CATEGORIES:\n",
    "        print(\"-------------------------------------\")\n",
    "        print(\"%s %d %d %d %d\" % (cat, len(stats_map[cat][\"#products\"]), \n",
    "                                  stats_map[cat][\"#questions\"], \n",
    "                                  stats_map[cat][\"#answers\"], \n",
    "                                  stats_map[cat][\"#review_snippets\"]))\n",
    "    print(\"-------------------------------------\\n\")"
   ]
  },
  {
   "cell_type": "markdown",
   "metadata": {},
   "source": [
    "# Load Data"
   ]
  },
  {
   "cell_type": "code",
   "execution_count": 4,
   "metadata": {},
   "outputs": [],
   "source": [
    "data_dir = \"/Users/rchanda/Acads/Fall-2018/Capstone/Explicable-Question-Answering/data/\""
   ]
  },
  {
   "cell_type": "code",
   "execution_count": 5,
   "metadata": {},
   "outputs": [],
   "source": [
    "train_infile = data_dir+\"train-qar_all.jsonl\"\n",
    "train_df = getDF(train_infile)"
   ]
  },
  {
   "cell_type": "code",
   "execution_count": 5,
   "metadata": {},
   "outputs": [],
   "source": [
    "val_infile = data_dir+\"val-qar_all.jsonl\"\n",
    "val_df = getDF(val_infile)\n",
    "\n",
    "test_infile = data_dir+\"test-qar_all.jsonl\"\n",
    "test_df = getDF(test_infile)"
   ]
  },
  {
   "cell_type": "markdown",
   "metadata": {},
   "source": [
    "# General Count Analysis"
   ]
  },
  {
   "cell_type": "code",
   "execution_count": 6,
   "metadata": {},
   "outputs": [
    {
     "name": "stdout",
     "output_type": "stream",
     "text": [
      "category                  #products #questions #answers #review_snippets\n",
      "-------------------------------------\n",
      "Office_Products 3757 23441 90696 181005\n",
      "-------------------------------------\n",
      "Beauty 3800 21743 83109 169975\n",
      "-------------------------------------\n",
      "Electronics 26211 158555 595632 1316339\n",
      "-------------------------------------\n",
      "Toys_and_Games 4958 27908 107434 206599\n",
      "-------------------------------------\n",
      "Baby 2284 13659 51153 117185\n",
      "-------------------------------------\n",
      "Cell_Phones_and_Accessories 6349 38371 149547 302041\n",
      "-------------------------------------\n",
      "Patio_Lawn_and_Garden 5284 33333 137211 244085\n",
      "-------------------------------------\n",
      "Home_and_Kitchen 15415 97110 401715 742245\n",
      "-------------------------------------\n",
      "Musical_Instruments 2173 13476 50717 108161\n",
      "-------------------------------------\n",
      "Health_and_Personal_Care 7226 43618 174383 348020\n",
      "-------------------------------------\n",
      "Pet_Supplies 3057 20187 87369 167806\n",
      "-------------------------------------\n",
      "Tools_and_Home_Improvement 8757 56171 226708 407033\n",
      "-------------------------------------\n",
      "Video_Games 879 5830 21783 54103\n",
      "-------------------------------------\n",
      "Automotive 5870 35473 142386 204374\n",
      "-------------------------------------\n",
      "Sports_and_Outdoors 10369 64178 254507 486491\n",
      "-------------------------------------\n",
      "Grocery_and_Gourmet_Food 1967 10496 42915 76699\n",
      "-------------------------------------\n",
      "Clothing_Shoes_and_Jewelry 805 4694 18412 33743\n",
      "-------------------------------------\n",
      "\n"
     ]
    }
   ],
   "source": [
    "compute_category_stats(train_df)"
   ]
  },
  {
   "cell_type": "code",
   "execution_count": 6,
   "metadata": {},
   "outputs": [
    {
     "name": "stdout",
     "output_type": "stream",
     "text": [
      "category                  #products #questions #answers #review_snippets\n",
      "-------------------------------------\n",
      "Tools_and_Home_Improvement 1142 7223 29522 52633\n",
      "-------------------------------------\n",
      "Video_Games 125 823 3140 7725\n",
      "-------------------------------------\n",
      "Electronics 3288 19725 74299 161916\n",
      "-------------------------------------\n",
      "Grocery_and_Gourmet_Food 267 1418 5746 10526\n",
      "-------------------------------------\n",
      "Health_and_Personal_Care 896 5426 21984 42492\n",
      "-------------------------------------\n",
      "Home_and_Kitchen 1882 12165 50452 92631\n",
      "-------------------------------------\n",
      "Cell_Phones_and_Accessories 777 4675 18246 36426\n",
      "-------------------------------------\n",
      "Beauty 488 2846 11194 22404\n",
      "-------------------------------------\n",
      "Patio_Lawn_and_Garden 635 3994 16264 28676\n",
      "-------------------------------------\n",
      "Musical_Instruments 264 1615 5980 13032\n",
      "-------------------------------------\n",
      "Office_Products 457 2913 11160 22390\n",
      "-------------------------------------\n",
      "Pet_Supplies 394 2636 11579 22079\n",
      "-------------------------------------\n",
      "Toys_and_Games 644 3603 14036 26187\n",
      "-------------------------------------\n",
      "Baby 268 1574 5795 13468\n",
      "-------------------------------------\n",
      "Sports_and_Outdoors 1287 7861 31252 60601\n",
      "-------------------------------------\n",
      "Automotive 724 4387 17447 24901\n",
      "-------------------------------------\n",
      "Clothing_Shoes_and_Jewelry 95 545 2142 3690\n",
      "-------------------------------------\n",
      "\n"
     ]
    }
   ],
   "source": [
    "compute_category_stats(val_df)"
   ]
  },
  {
   "cell_type": "code",
   "execution_count": 7,
   "metadata": {},
   "outputs": [
    {
     "name": "stdout",
     "output_type": "stream",
     "text": [
      "category                  #products #questions #answers #review_snippets\n",
      "-------------------------------------\n",
      "Tools_and_Home_Improvement 1115 7059 28338 51466\n",
      "-------------------------------------\n",
      "Video_Games 123 750 2745 7024\n",
      "-------------------------------------\n",
      "Electronics 3282 19796 74407 162889\n",
      "-------------------------------------\n",
      "Grocery_and_Gourmet_Food 251 1309 5373 9658\n",
      "-------------------------------------\n",
      "Health_and_Personal_Care 899 5473 21766 45522\n",
      "-------------------------------------\n",
      "Home_and_Kitchen 1913 12002 49840 91917\n",
      "-------------------------------------\n",
      "Cell_Phones_and_Accessories 801 4972 19657 39617\n",
      "-------------------------------------\n",
      "Beauty 451 2595 9873 20223\n",
      "-------------------------------------\n",
      "Patio_Lawn_and_Garden 619 3782 15524 27828\n",
      "-------------------------------------\n",
      "Musical_Instruments 235 1442 5449 11712\n",
      "-------------------------------------\n",
      "Office_Products 490 3048 11551 23946\n",
      "-------------------------------------\n",
      "Pet_Supplies 404 2626 11150 21603\n",
      "-------------------------------------\n",
      "Toys_and_Games 625 3642 14067 27326\n",
      "-------------------------------------\n",
      "Baby 273 1575 5805 13474\n",
      "-------------------------------------\n",
      "Sports_and_Outdoors 1274 7924 31612 58940\n",
      "-------------------------------------\n",
      "Automotive 766 4759 18918 28145\n",
      "-------------------------------------\n",
      "Clothing_Shoes_and_Jewelry 116 654 2596 4317\n",
      "-------------------------------------\n",
      "\n"
     ]
    }
   ],
   "source": [
    "compute_category_stats(test_df)"
   ]
  },
  {
   "cell_type": "markdown",
   "metadata": {},
   "source": [
    "# Full Category Analysis"
   ]
  },
  {
   "cell_type": "code",
   "execution_count": 4,
   "metadata": {},
   "outputs": [],
   "source": [
    "def compute_full_category_stats(df, cat):\n",
    "    stats_map = {}\n",
    "    stats_map[cat] = {\"#products\":set(), \"#questions\":0, \"#answers\":0, \"#reviews\": 0}\n",
    "    \n",
    "    for row in df.iterrows():\n",
    "        row = row[1]\n",
    "        stats_map[cat][\"#products\"].add(row[\"asin\"])\n",
    "        for question in row[\"questions\"]:\n",
    "            stats_map[cat][\"#questions\"] += 1\n",
    "            stats_map[cat][\"#answers\"] += len(question[\"answers\"])\n",
    "        stats_map[cat][\"#reviews\"] += len(row[\"reviews\"])\n",
    "    \n",
    "    print(\"category                  #products #questions #answers #reviews\")\n",
    "    print(\"-------------------------------------\")\n",
    "    print(\"%s %d %d %d %d\" % (cat, len(stats_map[cat][\"#products\"]), \n",
    "                              stats_map[cat][\"#questions\"], \n",
    "                              stats_map[cat][\"#answers\"], \n",
    "                              stats_map[cat][\"#reviews\"]))\n",
    "    print(\"-------------------------------------\\n\")"
   ]
  },
  {
   "cell_type": "code",
   "execution_count": 5,
   "metadata": {},
   "outputs": [
    {
     "name": "stdout",
     "output_type": "stream",
     "text": [
      "category                  #products #questions #answers #reviews\n",
      "-------------------------------------\n",
      "Office_Products 5409 32567 124690 465165\n",
      "-------------------------------------\n",
      "\n",
      "category                  #products #questions #answers #reviews\n",
      "-------------------------------------\n",
      "Baby 3101 18102 67354 359915\n",
      "-------------------------------------\n",
      "\n",
      "category                  #products #questions #answers #reviews\n",
      "-------------------------------------\n",
      "Tools_and_Home_Improvement 12856 78693 315601 751241\n",
      "-------------------------------------\n",
      "\n",
      "category                  #products #questions #answers #reviews\n",
      "-------------------------------------\n",
      "Clothing_Shoes_and_Jewelry 1262 7016 27435 92970\n",
      "-------------------------------------\n",
      "\n",
      "category                  #products #questions #answers #reviews\n",
      "-------------------------------------\n",
      "Sports_and_Outdoors 14866 88949 351238 988820\n",
      "-------------------------------------\n",
      "\n",
      "category                  #products #questions #answers #reviews\n",
      "-------------------------------------\n",
      "Health_and_Personal_Care 10031 59165 235864 1154307\n",
      "-------------------------------------\n",
      "\n",
      "category                  #products #questions #answers #reviews\n",
      "-------------------------------------\n",
      "Patio_Lawn_and_Garden 7646 45864 186649 450874\n",
      "-------------------------------------\n",
      "\n",
      "category                  #products #questions #answers #reviews\n",
      "-------------------------------------\n",
      "Beauty 5551 31106 118738 498442\n",
      "-------------------------------------\n",
      "\n",
      "category                  #products #questions #answers #reviews\n",
      "-------------------------------------\n",
      "Automotive 10237 57479 226912 325511\n",
      "-------------------------------------\n",
      "\n",
      "category                  #products #questions #answers #reviews\n",
      "-------------------------------------\n",
      "Pet_Supplies 4225 27376 118094 480409\n",
      "-------------------------------------\n",
      "\n",
      "category                  #products #questions #answers #reviews\n",
      "-------------------------------------\n",
      "Grocery_and_Gourmet_Food 2876 14704 59553 247545\n",
      "-------------------------------------\n",
      "\n",
      "category                  #products #questions #answers #reviews\n",
      "-------------------------------------\n",
      "Cell_Phones_and_Accessories 8969 52950 205171 1353430\n",
      "-------------------------------------\n",
      "\n",
      "category                  #products #questions #answers #reviews\n",
      "-------------------------------------\n",
      "Video_Games 1155 7551 28196 277197\n",
      "-------------------------------------\n",
      "\n",
      "category                  #products #questions #answers #reviews\n",
      "-------------------------------------\n",
      "Toys_and_Games 7223 38930 149553 562474\n",
      "-------------------------------------\n",
      "\n",
      "category                  #products #questions #answers #reviews\n",
      "-------------------------------------\n",
      "Musical_Instruments 2906 17564 65840 156679\n",
      "-------------------------------------\n",
      "\n",
      "category                  #products #questions #answers #reviews\n",
      "-------------------------------------\n",
      "Electronics 35715 211662 791744 4134065\n",
      "-------------------------------------\n",
      "\n",
      "category                  #products #questions #answers #reviews\n",
      "-------------------------------------\n",
      "Home_and_Kitchen 22037 134109 551688 2007843\n",
      "-------------------------------------\n",
      "\n"
     ]
    }
   ],
   "source": [
    "for cat in CATEGORIES:\n",
    "    infile = data_dir+\"qar_products_\"+cat+\".jsonl\"\n",
    "    df = getDF(infile)\n",
    "    compute_full_category_stats(df, cat)"
   ]
  },
  {
   "cell_type": "code",
   "execution_count": null,
   "metadata": {},
   "outputs": [],
   "source": []
  },
  {
   "cell_type": "code",
   "execution_count": 1,
   "metadata": {},
   "outputs": [],
   "source": [
    "# Utils"
   ]
  },
  {
   "cell_type": "code",
   "execution_count": 11,
   "metadata": {},
   "outputs": [],
   "source": [
    "def convert(infile, outfile):\n",
    "    rfp = open(infile, 'r')\n",
    "    wfp = open(outfile, 'w')\n",
    "    \n",
    "    for line in rfp:\n",
    "        final_json = json.loads(line)\n",
    "        if len(final_json[\"context\"].split(' ')) == 0:\n",
    "            continue\n",
    "        wfp.write(line)\n",
    "    wfp.close()"
   ]
  },
  {
   "cell_type": "code",
   "execution_count": 12,
   "metadata": {},
   "outputs": [],
   "source": [
    "data_dir = \"/Users/rchanda/Acads/Fall-2018/Capstone/Explicable-Question-Answering/data/old/\"\n",
    "infile = data_dir+\"val-qar_squad_all.jsonl\"\n",
    "outfile = data_dir+\"val-qar_squad_all.jsonl_new\"\n",
    "convert(infile, outfile)"
   ]
  },
  {
   "cell_type": "code",
   "execution_count": null,
   "metadata": {},
   "outputs": [],
   "source": []
  },
  {
   "cell_type": "markdown",
   "metadata": {},
   "source": [
    "# Span Analysis"
   ]
  },
  {
   "cell_type": "code",
   "execution_count": 102,
   "metadata": {},
   "outputs": [],
   "source": [
    "def process_text(text):\n",
    "    punctuations = string.punctuation.replace(\"\\'\", '')\n",
    "\n",
    "    for ch in punctuations:\n",
    "        text1 = text.replace(ch, \"\")\n",
    "\n",
    "    tokens = text1.split()\n",
    "    \n",
    "    for i, token in enumerate(tokens):\n",
    "        if not token.isupper():\n",
    "            tokens[i] = token.lower()\n",
    "    return ' '.join(tokens)"
   ]
  },
  {
   "cell_type": "code",
   "execution_count": 103,
   "metadata": {},
   "outputs": [],
   "source": [
    "def get_all_spans(input_file):\n",
    "    all_spans = []\n",
    "\n",
    "    rfp = open(input_file, 'r')\n",
    "    for line in tqdm(rfp):\n",
    "        row = json.loads(line)\n",
    "        spans = row[\"qas\"][0][\"answers\"]\n",
    "        for span in spans:\n",
    "            text = process_text(span[\"text\"])\n",
    "            all_spans.append(text)\n",
    "    \n",
    "    return all_spans"
   ]
  },
  {
   "cell_type": "code",
   "execution_count": 104,
   "metadata": {},
   "outputs": [],
   "source": [
    "data_dir = \"/Users/rchanda/Acads/Fall-2018/Capstone/Explicable-Question-Answering/data/\"\n",
    "input_file = data_dir+\"val-qar_squad_all.jsonl\""
   ]
  },
  {
   "cell_type": "code",
   "execution_count": null,
   "metadata": {},
   "outputs": [],
   "source": [
    "all_spans = get_all_spans(input_file)"
   ]
  },
  {
   "cell_type": "code",
   "execution_count": 106,
   "metadata": {},
   "outputs": [],
   "source": [
    "def get_span_stats(all_spans):\n",
    "    word_freqs = defaultdict(int)\n",
    "    span_lens = defaultdict(int)\n",
    "    span_freqs = defaultdict(int)\n",
    "    \n",
    "    for text in all_spans:\n",
    "        span_freqs[text] += 1\n",
    "        \n",
    "        tokens = text.split()\n",
    "        span_lens[len(tokens)] += 1\n",
    "        for word in tokens:\n",
    "            word_freqs[word] += 1\n",
    "    \n",
    "    generate_histograms(span_lens, \"span_lens\")\n",
    "    return word_freqs, span_freqs"
   ]
  },
  {
   "cell_type": "code",
   "execution_count": 107,
   "metadata": {},
   "outputs": [
    {
     "name": "stdout",
     "output_type": "stream",
     "text": [
      "###################################\n",
      "\n",
      "Statistics about span_lens\n",
      "\n",
      "Average length:{} 6.2478289592216685\n",
      "###################################\n",
      "\n"
     ]
    },
    {
     "data": {
      "image/png": "[encoded data removed]",
      "text/plain": [
       "<Figure size 432x288 with 1 Axes>"
      ]
     },
     "metadata": {
      "needs_background": "light"
     },
     "output_type": "display_data"
    }
   ],
   "source": [
    "word_freqs, span_freqs = get_span_stats(all_spans)"
   ]
  },
  {
   "cell_type": "code",
   "execution_count": 108,
   "metadata": {},
   "outputs": [],
   "source": [
    "sorted_word_freqs = sorted(word_freqs.items(), key=operator.itemgetter(1), reverse=True)"
   ]
  },
  {
   "cell_type": "code",
   "execution_count": 109,
   "metadata": {},
   "outputs": [
    {
     "data": {
      "text/plain": [
       "[('the', 240276),\n",
       " ('I', 107712),\n",
       " ('to', 93570),\n",
       " ('a', 91138),\n",
       " ('it', 86713),\n",
       " ('and', 86164),\n",
       " ('is', 70213),\n",
       " ('of', 55509),\n",
       " ('have', 42627),\n",
       " ('for', 39892),\n",
       " ('in', 39834),\n",
       " ('on', 38058),\n",
       " ('this', 37317),\n",
       " ('with', 33115),\n",
       " ('that', 28540),\n",
       " ('my', 28428),\n",
       " ('you', 25815),\n",
       " ('not', 22937),\n",
       " ('but', 19307),\n",
       " ('was', 16972),\n",
       " ('are', 15530),\n",
       " ('use', 14735),\n",
       " ('be', 13378),\n",
       " ('as', 12736),\n",
       " ('so', 10851),\n",
       " ('can', 10705),\n",
       " ('if', 10544),\n",
       " ('they', 10225),\n",
       " ('had', 9735),\n",
       " ('one', 9262),\n",
       " ('would', 9072),\n",
       " ('very', 8908),\n",
       " ('get', 7264),\n",
       " ('will', 7252),\n",
       " ('bought', 7067),\n",
       " ('at', 6916),\n",
       " ('has', 6842),\n",
       " ('used', 6684),\n",
       " ('out', 6638),\n",
       " ('from', 6284),\n",
       " (\"don't\", 6196),\n",
       " ('just', 6158),\n",
       " ('up', 6122),\n",
       " ('when', 6089),\n",
       " ('like', 6023),\n",
       " ('these', 5627),\n",
       " ('all', 5486),\n",
       " ('do', 5320),\n",
       " ('an', 5204),\n",
       " ('am', 4999)]"
      ]
     },
     "execution_count": 109,
     "metadata": {},
     "output_type": "execute_result"
    }
   ],
   "source": [
    "sorted_word_freqs[:50]"
   ]
  },
  {
   "cell_type": "code",
   "execution_count": 110,
   "metadata": {},
   "outputs": [],
   "source": [
    "sorted_span_freqs = sorted(span_freqs.items(), key=operator.itemgetter(1), reverse=True)"
   ]
  },
  {
   "cell_type": "code",
   "execution_count": 111,
   "metadata": {},
   "outputs": [
    {
     "data": {
      "text/plain": [
       "[('of the', 2292),\n",
       " ('it is', 1952),\n",
       " ('I have', 1936),\n",
       " ('in the', 1920),\n",
       " ('on the', 1697),\n",
       " ('is a', 1439),\n",
       " ('with the', 945),\n",
       " ('to the', 941),\n",
       " ('and the', 888),\n",
       " ('for the', 833),\n",
       " ('and it', 811),\n",
       " ('with a', 581),\n",
       " ('for a', 533),\n",
       " ('they are', 512),\n",
       " ('and I', 485),\n",
       " ('this is', 444),\n",
       " ('have a', 434),\n",
       " ('I bought', 426),\n",
       " ('if you', 412),\n",
       " ('to be', 406),\n",
       " ('is the', 377),\n",
       " ('you can', 376),\n",
       " ('I am', 376),\n",
       " ('it was', 366),\n",
       " ('I have a', 362),\n",
       " (\"I don't\", 361),\n",
       " ('but I', 337),\n",
       " ('it is a', 323),\n",
       " ('for my', 317),\n",
       " ('in a', 310),\n",
       " ('have to', 310),\n",
       " ('I was', 301),\n",
       " ('I would', 299),\n",
       " ('but it', 277),\n",
       " ('it to', 234),\n",
       " ('this is a', 232),\n",
       " ('has a', 230),\n",
       " ('I had', 229),\n",
       " ('is not', 228),\n",
       " ('to use', 214),\n",
       " ('it does', 209),\n",
       " ('so I', 189),\n",
       " ('on my', 187),\n",
       " ('from the', 183),\n",
       " ('that I', 181),\n",
       " ('and it is', 177),\n",
       " ('as a', 174),\n",
       " ('it will', 169),\n",
       " ('at the', 169),\n",
       " ('a little', 169),\n",
       " ('that it', 166),\n",
       " ('I use', 166),\n",
       " ('in my', 166),\n",
       " ('it has', 165),\n",
       " ('to get', 165),\n",
       " ('the same', 164),\n",
       " ('easy to', 159),\n",
       " ('does not', 153),\n",
       " ('and they', 153),\n",
       " ('out of the', 151),\n",
       " ('I have to', 148),\n",
       " ('it for', 143),\n",
       " ('when I', 141),\n",
       " ('the phone', 140),\n",
       " ('use it', 138),\n",
       " ('and a', 138),\n",
       " ('the', 137),\n",
       " ('that the', 131),\n",
       " ('I can', 131),\n",
       " ('it is not', 129),\n",
       " ('there is', 128),\n",
       " ('all the', 128),\n",
       " ('I bought this', 127),\n",
       " ('you have', 125),\n",
       " ('you have to', 125),\n",
       " ('on a', 120),\n",
       " ('but the', 120),\n",
       " ('I', 117),\n",
       " ('to a', 112),\n",
       " ('it works', 110),\n",
       " ('one of the', 109),\n",
       " ('need to', 109),\n",
       " ('but it is', 108),\n",
       " ('is very', 108),\n",
       " ('was a', 107),\n",
       " ('comes with', 107),\n",
       " ('I think', 107),\n",
       " ('a lot of', 107),\n",
       " ('you are', 107),\n",
       " ('it in', 106),\n",
       " ('I had to', 106),\n",
       " ('the case', 106),\n",
       " ('of a', 105),\n",
       " ('and I have', 105),\n",
       " ('there is a', 105),\n",
       " ('this phone', 105),\n",
       " ('able to', 105),\n",
       " ('the battery', 104),\n",
       " ('it on', 103),\n",
       " ('I purchased', 101)]"
      ]
     },
     "execution_count": 111,
     "metadata": {},
     "output_type": "execute_result"
    }
   ],
   "source": [
    "sorted_span_freqs[:100]"
   ]
  },
  {
   "cell_type": "code",
   "execution_count": null,
   "metadata": {},
   "outputs": [],
   "source": []
  }
 ],
 "metadata": {
  "kernelspec": {
   "display_name": "Python 3",
   "language": "python",
   "name": "python3"
  },
  "language_info": {
   "codemirror_mode": {
    "name": "ipython",
    "version": 3
   },
   "file_extension": ".py",
   "mimetype": "text/x-python",
   "name": "python",
   "nbconvert_exporter": "python",
   "pygments_lexer": "ipython3",
   "version": "3.6.4"
  }
 },
 "nbformat": 4,
 "nbformat_minor": 2
}
