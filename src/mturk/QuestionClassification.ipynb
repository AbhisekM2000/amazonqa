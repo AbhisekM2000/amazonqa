{
 "cells": [
  {
   "cell_type": "code",
   "execution_count": 1,
   "metadata": {},
   "outputs": [],
   "source": [
    "import numpy as np\n",
    "import pandas as pd\n",
    "import string\n",
    "import pickle\n",
    "\n",
    "import sklearn\n",
    "from sklearn.metrics import classification_report\n",
    "from sklearn.feature_extraction.text import TfidfVectorizer\n",
    "from nltk import sent_tokenize"
   ]
  },
  {
   "cell_type": "markdown",
   "metadata": {},
   "source": [
    "## Data Loading and Splits"
   ]
  },
  {
   "cell_type": "code",
   "execution_count": 2,
   "metadata": {
    "scrolled": true
   },
   "outputs": [
    {
     "name": "stdout",
     "output_type": "stream",
     "text": [
      "N    1574\n",
      "S    1034\n",
      "Y    1020\n",
      "Name: is_answerable_orig, dtype: int64\n",
      "Total 3629\n"
     ]
    }
   ],
   "source": [
    "filename = 'classification_data/final_annotated_data_consistent.csv'\n",
    "df = pd.read_csv(filename)\n",
    "\n",
    "print(df.is_answerable_orig.value_counts())\n",
    "print('Total', len(df))"
   ]
  },
  {
   "cell_type": "code",
   "execution_count": 3,
   "metadata": {},
   "outputs": [],
   "source": [
    "def print_stats(df, name='df'):\n",
    "    print(name.upper())\n",
    "    print('Length = %d' % len(df))\n",
    "    print('IsAnswerableOrig Counts')\n",
    "    print(df.is_answerable_orig.value_counts())\n",
    "    print('IsAnswerableNew Counts')\n",
    "    print(df.is_answerable_new.value_counts())\n",
    "    print()"
   ]
  },
  {
   "cell_type": "code",
   "execution_count": 4,
   "metadata": {
    "scrolled": true
   },
   "outputs": [
    {
     "name": "stdout",
     "output_type": "stream",
     "text": [
      "TRAIN\n",
      "Length = 3348\n",
      "IsAnswerableOrig Counts\n",
      "N    1436\n",
      "S     958\n",
      "Y     954\n",
      "Name: is_answerable_orig, dtype: int64\n",
      "IsAnswerableNew Counts\n",
      "Series([], Name: is_answerable_new, dtype: int64)\n",
      "\n",
      "TEST\n",
      "Length = 281\n",
      "IsAnswerableOrig Counts\n",
      "N    138\n",
      "S     76\n",
      "Y     66\n",
      "Name: is_answerable_orig, dtype: int64\n",
      "IsAnswerableNew Counts\n",
      "N    134\n",
      "S     77\n",
      "Y     70\n",
      "Name: is_answerable_new, dtype: int64\n",
      "\n"
     ]
    }
   ],
   "source": [
    "train_df = df[~df.expert]\n",
    "test_df = df[df.expert]\n",
    "test_df = test_df[test_df.is_answerable_new.notnull()]\n",
    "\n",
    "print_stats(train_df, 'train')\n",
    "print_stats(test_df, 'test')"
   ]
  },
  {
   "cell_type": "code",
   "execution_count": 5,
   "metadata": {},
   "outputs": [
    {
     "name": "stdout",
     "output_type": "stream",
     "text": [
      "3348\n",
      "3348\n",
      "3303\n",
      "\n",
      "\n",
      "281\n",
      "280\n",
      "134\n",
      "134\n"
     ]
    }
   ],
   "source": [
    "# Column Renames\n",
    "cols = ['question', 'review0', 'review1', 'review2', 'review3', 'review4', 'is_answerable']\n",
    "\n",
    "train_df = train_df.rename(columns={'is_answerable_orig': 'is_answerable'})[cols]\n",
    "\n",
    "test_df = test_df.rename(columns={'is_answerable_orig': 'is_answerable', \n",
    "                                  'is_answerable_new': 'is_answerable_human'})[cols + ['is_answerable_human']]\n",
    "\n",
    "\n",
    "def filter_data(df):\n",
    "    print(len(df))\n",
    "    df = df[df.is_answerable.notnull()]\n",
    "    print(len(df))\n",
    "    df = df[df.review0.notnull()]\n",
    "    print(len(df))\n",
    "    return df\n",
    "\n",
    "train_df = filter_data(train_df)\n",
    "\n",
    "print('\\n')\n",
    "\n",
    "test_df = filter_data(test_df)\n",
    "test_df_human = test_df[test_df.is_answerable_human.notnull()]\n",
    "print(len(test_df))"
   ]
  },
  {
   "cell_type": "code",
   "execution_count": 6,
   "metadata": {},
   "outputs": [],
   "source": [
    "train_df, validate_df = np.split(train_df.sample(frac=1), [int(.8*len(train_df))])"
   ]
  },
  {
   "cell_type": "code",
   "execution_count": 7,
   "metadata": {},
   "outputs": [
    {
     "data": {
      "text/plain": [
       "(2642, 661, 134)"
      ]
     },
     "execution_count": 7,
     "metadata": {},
     "output_type": "execute_result"
    }
   ],
   "source": [
    "len(train_df), len(validate_df), len(test_df)"
   ]
  },
  {
   "cell_type": "code",
   "execution_count": 8,
   "metadata": {
    "scrolled": false
   },
   "outputs": [],
   "source": [
    "def labels(df):\n",
    "    df['label'] = df.is_answerable.apply(lambda x: label_map[x])\n",
    "    return df['label']\n",
    "\n",
    "def get_reviews(row):\n",
    "    all_reviews = ''\n",
    "    for key in ['review0', 'review1', 'review2', 'review3', 'review4']:\n",
    "        if not isinstance(row[key], float):\n",
    "            all_reviews += row[key].strip(' ').strip('-')\n",
    "            all_reviews += ' '\n",
    "    return all_reviews.strip()\n",
    "\n",
    "def add_reviews(df):\n",
    "    df['reviews'] = df.apply(lambda x: get_reviews(x), axis = 1)\n",
    "    return df\n",
    "\n",
    "label_map = {'N': 0, 'S': 1, 'Y': 1, 'A': 1}\n",
    "for i, j in zip([1, 2, 3], [1, 1, 0]):\n",
    "    label_map[i] = j\n",
    "    label_map[str(i)] = j\n",
    "\n",
    "train_df, test_df, validate_df = list(map(add_reviews, [train_df, test_df, validate_df]))\n",
    "train_labels, test_labels, validate_labels = list(map(labels, [train_df, test_df, validate_df]))"
   ]
  },
  {
   "cell_type": "markdown",
   "metadata": {},
   "source": [
    "## TF IDF Vectorizer"
   ]
  },
  {
   "cell_type": "code",
   "execution_count": 9,
   "metadata": {},
   "outputs": [
    {
     "data": {
      "text/plain": [
       "\"\\ndf = pd.read_csv('classification_data/train-qar_sample_100000.csv')\\ndf = add_reviews(df)\\nprint(len(df))\\n\\ntfidf_vectorizer = TfidfVectorizer(stop_words='english')\\ntfidf_vectorizer.fit(list(df.question.values) + list(df.reviews.values))\\n\\nwith open('classification_data/q_classification_vectorizer.pkl', 'wb') as fp:\\n    pickle.dump(tfidf_vectorizer, fp)\\n\""
      ]
     },
     "execution_count": 9,
     "metadata": {},
     "output_type": "execute_result"
    }
   ],
   "source": [
    "\"\"\"\n",
    "df = pd.read_csv('classification_data/train-qar_sample_100000.csv')\n",
    "df = add_reviews(df)\n",
    "print(len(df))\n",
    "\n",
    "tfidf_vectorizer = TfidfVectorizer(stop_words='english')\n",
    "tfidf_vectorizer.fit(list(df.question.values) + list(df.reviews.values))\n",
    "\n",
    "with open('classification_data/q_classification_vectorizer.pkl', 'wb') as fp:\n",
    "    pickle.dump(tfidf_vectorizer, fp)\n",
    "\"\"\""
   ]
  },
  {
   "cell_type": "code",
   "execution_count": 10,
   "metadata": {},
   "outputs": [],
   "source": [
    "with open('classification_data/q_classification_vectorizer.pkl', 'rb') as fp:\n",
    "    tfidf_vectorizer = pickle.load(fp)"
   ]
  },
  {
   "cell_type": "code",
   "execution_count": 11,
   "metadata": {},
   "outputs": [
    {
     "data": {
      "text/plain": [
       "158752"
      ]
     },
     "execution_count": 11,
     "metadata": {},
     "output_type": "execute_result"
    }
   ],
   "source": [
    "len(tfidf_vectorizer.vocabulary_)"
   ]
  },
  {
   "cell_type": "markdown",
   "metadata": {},
   "source": [
    "## w2v Vectorizer"
   ]
  },
  {
   "cell_type": "code",
   "execution_count": 54,
   "metadata": {},
   "outputs": [],
   "source": [
    "with open('classification_data/q_classification_w2v_vectorizer.pkl', 'rb') as fp:\n",
    "    w2v_vectorizer = pickle.load(fp)"
   ]
  },
  {
   "cell_type": "code",
   "execution_count": null,
   "metadata": {},
   "outputs": [],
   "source": []
  },
  {
   "cell_type": "code",
   "execution_count": 20,
   "metadata": {},
   "outputs": [],
   "source": [
    "import numpy as np\n",
    "\n",
    "with open(\"classification_data/glove.6B.300d.txt\", \"rb\") as lines:\n",
    "    w2v = {str(line.split()[0].decode('UTF-8')): np.array(list(map(float, line.split()[1:])))\n",
    "           for line in lines}"
   ]
  },
  {
   "cell_type": "code",
   "execution_count": 21,
   "metadata": {},
   "outputs": [],
   "source": [
    "class MeanEmbeddingVectorizer(object):\n",
    "    def __init__(self, word2vec):\n",
    "        self.word2vec = word2vec\n",
    "        # if a text is empty we should return a vector of zeros\n",
    "        # with the same dimensionality as all the other vectors\n",
    "        self.dim = 300\n",
    "\n",
    "    def fit(self, X):\n",
    "        return self\n",
    "\n",
    "    def transform(self, X):\n",
    "        return np.array([\n",
    "            np.mean([self.word2vec[w] for w in words if w in self.word2vec]\n",
    "                    or [np.zeros(self.dim)], axis=0)\n",
    "            for words in X\n",
    "        ])"
   ]
  },
  {
   "cell_type": "code",
   "execution_count": 22,
   "metadata": {},
   "outputs": [],
   "source": [
    "w2v_vectorizer = MeanEmbeddingVectorizer(w2v)"
   ]
  },
  {
   "cell_type": "code",
   "execution_count": 53,
   "metadata": {},
   "outputs": [],
   "source": [
    "with open('classification_data/q_classification_w2v_vectorizer.pkl', 'wb') as fp:\n",
    "    pickle.dump(w2v_vectorizer, fp)"
   ]
  },
  {
   "cell_type": "markdown",
   "metadata": {},
   "source": [
    "## Features"
   ]
  },
  {
   "cell_type": "code",
   "execution_count": 23,
   "metadata": {},
   "outputs": [],
   "source": [
    "df = train_df"
   ]
  },
  {
   "cell_type": "code",
   "execution_count": 24,
   "metadata": {},
   "outputs": [],
   "source": [
    "train_df_raw, test_df_raw, validate_df_raw = list(map(lambda x: x.copy(), [train_df, test_df, validate_df]))"
   ]
  },
  {
   "cell_type": "code",
   "execution_count": 25,
   "metadata": {},
   "outputs": [],
   "source": [
    "def tokenize(text):\n",
    "    punctuations = string.punctuation.replace(\"\\'\", '')\n",
    "\n",
    "    for ch in punctuations:\n",
    "        text = text.replace(ch, \" \" + ch + \" \")\n",
    "\n",
    "    tokens = text.split()\n",
    "    for i, token in enumerate(tokens):\n",
    "        if not token.isupper():\n",
    "            tokens[i] = token.lower()\n",
    "    return tokens"
   ]
  },
  {
   "cell_type": "code",
   "execution_count": 26,
   "metadata": {},
   "outputs": [
    {
     "data": {
      "text/plain": [
       "'\\nx = vectorizer.transform([\\'It is a total idiot\\'])\\ny = vectorizer.transform([\\'It is not a total idiocy\\'])\\n\\nprint(type(x), \\'|\\n\\', x.shape, \\'|\\n\\', x, \\'|\\n\\', len(x.toarray()[0]))\\nprint(\"-\"*50)\\nprint(type(y), \\'|\\n\\', y.shape, \\'|\\n\\', y, \\'|\\n\\', len(y.toarray()[0]))\\nprint(\"-\"*50)\\nprint(x.toarray().dot(y.toarray().transpose())[0][0])\\n'"
      ]
     },
     "execution_count": 26,
     "metadata": {},
     "output_type": "execute_result"
    }
   ],
   "source": [
    "\"\"\"\n",
    "x = vectorizer.transform(['It is a total idiot'])\n",
    "y = vectorizer.transform(['It is not a total idiocy'])\n",
    "\n",
    "print(type(x), '|\\n', x.shape, '|\\n', x, '|\\n', len(x.toarray()[0]))\n",
    "print(\"-\"*50)\n",
    "print(type(y), '|\\n', y.shape, '|\\n', y, '|\\n', len(y.toarray()[0]))\n",
    "print(\"-\"*50)\n",
    "print(x.toarray().dot(y.toarray().transpose())[0][0])\n",
    "\"\"\""
   ]
  },
  {
   "cell_type": "code",
   "execution_count": 57,
   "metadata": {},
   "outputs": [],
   "source": [
    "def n_intersection(q, r):\n",
    "    return len(set(q).intersection(set(r)))\n",
    "\n",
    "def w2v_sim(q, r):\n",
    "    # dot product of q and r as w2v vectors\n",
    "    q_vec = w2v_vectorizer.transform([q])\n",
    "    r_vec = w2v_vectorizer.transform([r])\n",
    "    return q_vec.dot(r_vec.transpose())[0][0]\n",
    "\n",
    "def tf_idf_sim(q, r):\n",
    "    # dot product of q and r as tfidf vectors\n",
    "    q_vec = tfidf_vectorizer.transform([q])\n",
    "    r_vec = tfidf_vectorizer.transform([r])\n",
    "    return q_vec.dot(r_vec.transpose()).toarray()[0][0]\n",
    "\n",
    "def tf_idf_sim_sentence(q, rs):\n",
    "    # max of dot products of q and each sentence in r as tfidf vectors\n",
    "    q_vec = tfidf_vectorizer.transform([q])\n",
    "    if len(rs) == 0:\n",
    "        return 0\n",
    "    return max([q_vec.dot(tfidf_vectorizer.transform([r]).transpose()).toarray()[0][0] for r in rs])\n",
    "\n",
    "def w2v_sim_sentence(q, rs):\n",
    "    # max of dot products of q and each sentence in r as tfidf vectors\n",
    "    q_vec = w2v_vectorizer.transform([q])\n",
    "    if len(rs) == 0:\n",
    "        return 0\n",
    "    return max([q_vec.dot(w2v_vectorizer.transform([r]).transpose())[0][0] for r in rs])\n",
    "\n",
    "def tf_idf_sim_sentence_mean(q, rs):\n",
    "    # max of dot products of q and each sentence in r as tfidf vectors\n",
    "    q_vec = tfidf_vectorizer.transform([q])\n",
    "    if len(rs) == 0:\n",
    "        return 0\n",
    "    return np.mean([q_vec.dot(tfidf_vectorizer.transform([r]).transpose()).toarray()[0][0] for r in rs])\n",
    "\n",
    "def w2v_sim_sentence_mean(q, rs):\n",
    "    # max of dot products of q and each sentence in r as tfidf vectors\n",
    "    q_vec = w2v_vectorizer.transform([q])\n",
    "    if len(rs) == 0:\n",
    "        return 0\n",
    "    return np.mean([q_vec.dot(w2v_vectorizer.transform([r]).transpose())[0][0] for r in rs])\n",
    "\n",
    "def add_features(df):\n",
    "    df['q_tokens'] = df.question.apply(lambda x: tokenize(x))\n",
    "    df['r_tokens'] = df.reviews.apply(lambda x: tokenize(x))\n",
    "    df['r_sents'] = df.reviews.apply(lambda x: sent_tokenize(x))\n",
    "    df['n_q'] = df.q_tokens.apply(lambda x: len(x))\n",
    "    df['n_r'] = df.r_tokens.apply(lambda x: len(x))\n",
    "    df['n_intersection'] = df.apply(lambda x: len(set(x.q_tokens).intersection(set(x.r_tokens))), axis=1)\n",
    "    df['intr_frac'] = df.n_intersection / df.n_q\n",
    "    df['tfidf'] = df.apply(lambda x: tf_idf_sim(x.question, x.reviews), axis=1)\n",
    "    df['w2v'] = df.apply(lambda x: w2v_sim(x.question, x.reviews), axis=1)\n",
    "    df['w2v_sent'] = df.apply(lambda x: w2v_sim_sentence(x.question, x.r_sents), axis=1)\n",
    "    df['tfidf_sent'] = df.apply(lambda x: tf_idf_sim_sentence(x.question, x.r_sents), axis=1)\n",
    "    df['w2v_sent_mean'] = df.apply(lambda x: w2v_sim_sentence_mean(x.question, x.r_sents), axis=1)\n",
    "    df['tfidf_sent_mean'] = df.apply(lambda x: tf_idf_sim_sentence_mean(x.question, x.r_sents), axis=1)\n",
    "    return df\n"
   ]
  },
  {
   "cell_type": "code",
   "execution_count": 58,
   "metadata": {},
   "outputs": [],
   "source": [
    "train_df, test_df, validate_df = list(map(add_features, [train_df_raw, test_df_raw, validate_df_raw]))"
   ]
  },
  {
   "cell_type": "markdown",
   "metadata": {},
   "source": [
    "## Feature Cols"
   ]
  },
  {
   "cell_type": "code",
   "execution_count": 29,
   "metadata": {},
   "outputs": [],
   "source": [
    "X_cols = ['n_q', 'n_r', 'n_intersection', 'intr_frac']\n",
    "Y_cols = 'label'"
   ]
  },
  {
   "cell_type": "markdown",
   "metadata": {},
   "source": [
    "## Analysis"
   ]
  },
  {
   "cell_type": "code",
   "execution_count": 30,
   "metadata": {},
   "outputs": [],
   "source": [
    "df = train_df\n",
    "\n",
    "q = df.question.iloc[1]\n",
    "r = df.reviews.iloc[1]\n",
    "q_tokens = df.q_tokens.iloc[1]\n",
    "r_tokens = df.r_tokens.iloc[1]\n",
    "\n",
    "# q, r, set(q_tokens).intersection(set(r_tokens))"
   ]
  },
  {
   "cell_type": "code",
   "execution_count": 31,
   "metadata": {},
   "outputs": [
    {
     "data": {
      "text/html": [
       "<div>\n",
       "<style scoped>\n",
       "    .dataframe tbody tr th:only-of-type {\n",
       "        vertical-align: middle;\n",
       "    }\n",
       "\n",
       "    .dataframe tbody tr th {\n",
       "        vertical-align: top;\n",
       "    }\n",
       "\n",
       "    .dataframe thead th {\n",
       "        text-align: right;\n",
       "    }\n",
       "</style>\n",
       "<table border=\"1\" class=\"dataframe\">\n",
       "  <thead>\n",
       "    <tr style=\"text-align: right;\">\n",
       "      <th></th>\n",
       "      <th>n_q</th>\n",
       "      <th>n_r</th>\n",
       "      <th>n_intersection</th>\n",
       "      <th>intr_frac</th>\n",
       "    </tr>\n",
       "    <tr>\n",
       "      <th>label</th>\n",
       "      <th></th>\n",
       "      <th></th>\n",
       "      <th></th>\n",
       "      <th></th>\n",
       "    </tr>\n",
       "  </thead>\n",
       "  <tbody>\n",
       "    <tr>\n",
       "      <th>0</th>\n",
       "      <td>15.550222</td>\n",
       "      <td>328.865778</td>\n",
       "      <td>7.080889</td>\n",
       "      <td>0.468318</td>\n",
       "    </tr>\n",
       "    <tr>\n",
       "      <th>1</th>\n",
       "      <td>17.576137</td>\n",
       "      <td>379.308504</td>\n",
       "      <td>9.665788</td>\n",
       "      <td>0.586226</td>\n",
       "    </tr>\n",
       "  </tbody>\n",
       "</table>\n",
       "</div>"
      ],
      "text/plain": [
       "             n_q         n_r  n_intersection  intr_frac\n",
       "label                                                  \n",
       "0      15.550222  328.865778        7.080889   0.468318\n",
       "1      17.576137  379.308504        9.665788   0.586226"
      ]
     },
     "execution_count": 31,
     "metadata": {},
     "output_type": "execute_result"
    }
   ],
   "source": [
    "df[[Y_cols] + X_cols].groupby('label').mean()"
   ]
  },
  {
   "cell_type": "markdown",
   "metadata": {},
   "source": [
    "## Training"
   ]
  },
  {
   "cell_type": "code",
   "execution_count": 86,
   "metadata": {},
   "outputs": [
    {
     "name": "stderr",
     "output_type": "stream",
     "text": [
      "/Users/rchanda/Acads/Fall-2018/Capstone/eqa_env/lib/python3.6/site-packages/sklearn/linear_model/logistic.py:433: FutureWarning: Default solver will be changed to 'lbfgs' in 0.22. Specify a solver to silence this warning.\n",
      "  FutureWarning)\n",
      "/Users/rchanda/Acads/Fall-2018/Capstone/eqa_env/lib/python3.6/site-packages/sklearn/linear_model/logistic.py:433: FutureWarning: Default solver will be changed to 'lbfgs' in 0.22. Specify a solver to silence this warning.\n",
      "  FutureWarning)\n",
      "/Users/rchanda/Acads/Fall-2018/Capstone/eqa_env/lib/python3.6/site-packages/sklearn/linear_model/logistic.py:433: FutureWarning: Default solver will be changed to 'lbfgs' in 0.22. Specify a solver to silence this warning.\n",
      "  FutureWarning)\n",
      "/Users/rchanda/Acads/Fall-2018/Capstone/eqa_env/lib/python3.6/site-packages/sklearn/linear_model/logistic.py:433: FutureWarning: Default solver will be changed to 'lbfgs' in 0.22. Specify a solver to silence this warning.\n",
      "  FutureWarning)\n",
      "/Users/rchanda/Acads/Fall-2018/Capstone/eqa_env/lib/python3.6/site-packages/sklearn/linear_model/logistic.py:433: FutureWarning: Default solver will be changed to 'lbfgs' in 0.22. Specify a solver to silence this warning.\n",
      "  FutureWarning)\n",
      "/Users/rchanda/Acads/Fall-2018/Capstone/eqa_env/lib/python3.6/site-packages/sklearn/linear_model/logistic.py:433: FutureWarning: Default solver will be changed to 'lbfgs' in 0.22. Specify a solver to silence this warning.\n",
      "  FutureWarning)\n",
      "/Users/rchanda/Acads/Fall-2018/Capstone/eqa_env/lib/python3.6/site-packages/sklearn/linear_model/logistic.py:433: FutureWarning: Default solver will be changed to 'lbfgs' in 0.22. Specify a solver to silence this warning.\n",
      "  FutureWarning)\n",
      "/Users/rchanda/Acads/Fall-2018/Capstone/eqa_env/lib/python3.6/site-packages/sklearn/linear_model/logistic.py:433: FutureWarning: Default solver will be changed to 'lbfgs' in 0.22. Specify a solver to silence this warning.\n",
      "  FutureWarning)\n",
      "/Users/rchanda/Acads/Fall-2018/Capstone/eqa_env/lib/python3.6/site-packages/sklearn/linear_model/logistic.py:433: FutureWarning: Default solver will be changed to 'lbfgs' in 0.22. Specify a solver to silence this warning.\n",
      "  FutureWarning)\n",
      "/Users/rchanda/Acads/Fall-2018/Capstone/eqa_env/lib/python3.6/site-packages/sklearn/linear_model/logistic.py:433: FutureWarning: Default solver will be changed to 'lbfgs' in 0.22. Specify a solver to silence this warning.\n",
      "  FutureWarning)\n"
     ]
    }
   ],
   "source": [
    "from sklearn.linear_model import LogisticRegression\n",
    "from sklearn.tree import DecisionTreeClassifier\n",
    "from sklearn.ensemble import RandomForestClassifier\n",
    "\n",
    "X_colss = [\n",
    "    #X_cols + ['tfidf', 'tfidf_sent'],\n",
    "    #X_cols + ['w2v', 'w2v_sent'],\n",
    "    #X_cols + ['w2v_sent_mean', 'tfidf_sent_mean'],\n",
    "    X_cols + ['w2v_sent', 'tfidf_sent', 'w2v_sent_mean', 'tfidf_sent_mean'],\n",
    "    X_cols + ['w2v_sent', 'tfidf_sent'],\n",
    "    \n",
    "    X_cols + ['tfidf_sent'],\n",
    "    X_cols + ['w2v_sent'],\n",
    "    X_cols + ['tfidf', 'tfidf_sent', 'w2v', 'w2v_sent'],\n",
    "]\n",
    "\n",
    "n_col_set = len(X_colss)\n",
    "modelss = []\n",
    "\n",
    "for j in range(n_col_set):\n",
    "    models = []\n",
    "    models.append(LogisticRegression(C=1))\n",
    "    models.append(LogisticRegression(C=100))\n",
    "    models.append(DecisionTreeClassifier(max_depth=4))\n",
    "    models.append(RandomForestClassifier(n_estimators=3, max_depth=4))\n",
    "\n",
    "    for i in range(len(models)):\n",
    "        models[i].fit(train_df[X_colss[j]].values, train_df[Y_cols].values)\n",
    "    modelss.append(models)"
   ]
  },
  {
   "cell_type": "code",
   "execution_count": 75,
   "metadata": {
    "scrolled": true
   },
   "outputs": [
    {
     "name": "stdout",
     "output_type": "stream",
     "text": [
      "0 0\n",
      "1    424\n",
      "0    237\n",
      "dtype: int64\n",
      "              precision    recall  f1-score   support\n",
      "\n",
      "           0       0.63      0.54      0.58       276\n",
      "           1       0.70      0.77      0.74       385\n",
      "\n",
      "   micro avg       0.68      0.68      0.68       661\n",
      "   macro avg       0.67      0.66      0.66       661\n",
      "weighted avg       0.67      0.68      0.67       661\n",
      "\n",
      "0 1\n",
      "1    424\n",
      "0    237\n",
      "dtype: int64\n",
      "              precision    recall  f1-score   support\n",
      "\n",
      "           0       0.63      0.54      0.58       276\n",
      "           1       0.70      0.77      0.74       385\n",
      "\n",
      "   micro avg       0.68      0.68      0.68       661\n",
      "   macro avg       0.67      0.66      0.66       661\n",
      "weighted avg       0.67      0.68      0.67       661\n",
      "\n",
      "0 2\n",
      "1    478\n",
      "0    183\n",
      "dtype: int64\n",
      "              precision    recall  f1-score   support\n",
      "\n",
      "           0       0.64      0.42      0.51       276\n",
      "           1       0.67      0.83      0.74       385\n",
      "\n",
      "   micro avg       0.66      0.66      0.66       661\n",
      "   macro avg       0.65      0.63      0.62       661\n",
      "weighted avg       0.66      0.66      0.64       661\n",
      "\n",
      "0 3\n",
      "1    414\n",
      "0    247\n",
      "dtype: int64\n",
      "              precision    recall  f1-score   support\n",
      "\n",
      "           0       0.63      0.57      0.60       276\n",
      "           1       0.71      0.76      0.74       385\n",
      "\n",
      "   micro avg       0.68      0.68      0.68       661\n",
      "   macro avg       0.67      0.66      0.67       661\n",
      "weighted avg       0.68      0.68      0.68       661\n",
      "\n",
      "1 0\n",
      "1    422\n",
      "0    239\n",
      "dtype: int64\n",
      "              precision    recall  f1-score   support\n",
      "\n",
      "           0       0.63      0.55      0.59       276\n",
      "           1       0.70      0.77      0.74       385\n",
      "\n",
      "   micro avg       0.68      0.68      0.68       661\n",
      "   macro avg       0.67      0.66      0.66       661\n",
      "weighted avg       0.67      0.68      0.67       661\n",
      "\n",
      "1 1\n",
      "1    424\n",
      "0    237\n",
      "dtype: int64\n",
      "              precision    recall  f1-score   support\n",
      "\n",
      "           0       0.63      0.54      0.58       276\n",
      "           1       0.70      0.77      0.74       385\n",
      "\n",
      "   micro avg       0.68      0.68      0.68       661\n",
      "   macro avg       0.67      0.66      0.66       661\n",
      "weighted avg       0.67      0.68      0.67       661\n",
      "\n",
      "1 2\n",
      "1    465\n",
      "0    196\n",
      "dtype: int64\n",
      "              precision    recall  f1-score   support\n",
      "\n",
      "           0       0.65      0.46      0.54       276\n",
      "           1       0.68      0.82      0.75       385\n",
      "\n",
      "   micro avg       0.67      0.67      0.67       661\n",
      "   macro avg       0.67      0.64      0.64       661\n",
      "weighted avg       0.67      0.67      0.66       661\n",
      "\n",
      "1 3\n",
      "1    439\n",
      "0    222\n",
      "dtype: int64\n",
      "              precision    recall  f1-score   support\n",
      "\n",
      "           0       0.64      0.51      0.57       276\n",
      "           1       0.69      0.79      0.74       385\n",
      "\n",
      "   micro avg       0.67      0.67      0.67       661\n",
      "   macro avg       0.66      0.65      0.65       661\n",
      "weighted avg       0.67      0.67      0.67       661\n",
      "\n",
      "2 0\n",
      "1    426\n",
      "0    235\n",
      "dtype: int64\n",
      "              precision    recall  f1-score   support\n",
      "\n",
      "           0       0.63      0.54      0.58       276\n",
      "           1       0.70      0.78      0.74       385\n",
      "\n",
      "   micro avg       0.68      0.68      0.68       661\n",
      "   macro avg       0.67      0.66      0.66       661\n",
      "weighted avg       0.67      0.68      0.67       661\n",
      "\n",
      "2 1\n",
      "1    423\n",
      "0    238\n",
      "dtype: int64\n",
      "              precision    recall  f1-score   support\n",
      "\n",
      "           0       0.63      0.55      0.59       276\n",
      "           1       0.70      0.77      0.74       385\n",
      "\n",
      "   micro avg       0.68      0.68      0.68       661\n",
      "   macro avg       0.67      0.66      0.66       661\n",
      "weighted avg       0.68      0.68      0.67       661\n",
      "\n",
      "2 2\n",
      "1    459\n",
      "0    202\n",
      "dtype: int64\n",
      "              precision    recall  f1-score   support\n",
      "\n",
      "           0       0.65      0.47      0.55       276\n",
      "           1       0.68      0.82      0.74       385\n",
      "\n",
      "   micro avg       0.67      0.67      0.67       661\n",
      "   macro avg       0.67      0.65      0.65       661\n",
      "weighted avg       0.67      0.67      0.66       661\n",
      "\n",
      "2 3\n",
      "1    425\n",
      "0    236\n",
      "dtype: int64\n",
      "              precision    recall  f1-score   support\n",
      "\n",
      "           0       0.61      0.53      0.57       276\n",
      "           1       0.69      0.76      0.73       385\n",
      "\n",
      "   micro avg       0.66      0.66      0.66       661\n",
      "   macro avg       0.65      0.64      0.65       661\n",
      "weighted avg       0.66      0.66      0.66       661\n",
      "\n",
      "3 0\n",
      "1    458\n",
      "0    203\n",
      "dtype: int64\n",
      "              precision    recall  f1-score   support\n",
      "\n",
      "           0       0.58      0.42      0.49       276\n",
      "           1       0.65      0.78      0.71       385\n",
      "\n",
      "   micro avg       0.63      0.63      0.63       661\n",
      "   macro avg       0.61      0.60      0.60       661\n",
      "weighted avg       0.62      0.63      0.62       661\n",
      "\n",
      "3 1\n",
      "1    453\n",
      "0    208\n",
      "dtype: int64\n",
      "              precision    recall  f1-score   support\n",
      "\n",
      "           0       0.58      0.43      0.50       276\n",
      "           1       0.66      0.77      0.71       385\n",
      "\n",
      "   micro avg       0.63      0.63      0.63       661\n",
      "   macro avg       0.62      0.60      0.60       661\n",
      "weighted avg       0.62      0.63      0.62       661\n",
      "\n",
      "3 2\n",
      "1    459\n",
      "0    202\n",
      "dtype: int64\n",
      "              precision    recall  f1-score   support\n",
      "\n",
      "           0       0.57      0.42      0.48       276\n",
      "           1       0.65      0.77      0.71       385\n",
      "\n",
      "   micro avg       0.62      0.62      0.62       661\n",
      "   macro avg       0.61      0.60      0.59       661\n",
      "weighted avg       0.62      0.62      0.61       661\n",
      "\n",
      "3 3\n",
      "1    406\n",
      "0    255\n",
      "dtype: int64\n",
      "              precision    recall  f1-score   support\n",
      "\n",
      "           0       0.55      0.51      0.53       276\n",
      "           1       0.67      0.70      0.69       385\n",
      "\n",
      "   micro avg       0.62      0.62      0.62       661\n",
      "   macro avg       0.61      0.61      0.61       661\n",
      "weighted avg       0.62      0.62      0.62       661\n",
      "\n",
      "4 0\n",
      "1    420\n",
      "0    241\n",
      "dtype: int64\n",
      "              precision    recall  f1-score   support\n",
      "\n",
      "           0       0.62      0.54      0.58       276\n",
      "           1       0.70      0.76      0.73       385\n",
      "\n",
      "   micro avg       0.67      0.67      0.67       661\n",
      "   macro avg       0.66      0.65      0.66       661\n",
      "weighted avg       0.67      0.67      0.67       661\n",
      "\n",
      "4 1\n",
      "1    418\n",
      "0    243\n",
      "dtype: int64\n",
      "              precision    recall  f1-score   support\n",
      "\n",
      "           0       0.63      0.55      0.59       276\n",
      "           1       0.70      0.76      0.73       385\n",
      "\n",
      "   micro avg       0.67      0.67      0.67       661\n",
      "   macro avg       0.66      0.66      0.66       661\n",
      "weighted avg       0.67      0.67      0.67       661\n",
      "\n",
      "4 2\n",
      "1    418\n",
      "0    243\n",
      "dtype: int64\n",
      "              precision    recall  f1-score   support\n",
      "\n",
      "           0       0.65      0.57      0.61       276\n",
      "           1       0.72      0.78      0.75       385\n",
      "\n",
      "   micro avg       0.69      0.69      0.69       661\n",
      "   macro avg       0.68      0.68      0.68       661\n",
      "weighted avg       0.69      0.69      0.69       661\n",
      "\n",
      "4 3\n",
      "1    416\n",
      "0    245\n",
      "dtype: int64\n",
      "              precision    recall  f1-score   support\n",
      "\n",
      "           0       0.64      0.57      0.61       276\n",
      "           1       0.72      0.77      0.74       385\n",
      "\n",
      "   micro avg       0.69      0.69      0.69       661\n",
      "   macro avg       0.68      0.67      0.68       661\n",
      "weighted avg       0.69      0.69      0.69       661\n",
      "\n"
     ]
    }
   ],
   "source": [
    "from sklearn.metrics import classification_report\n",
    "\n",
    "for j, models in enumerate(modelss):\n",
    "    for i, model in enumerate(models):\n",
    "        print(j, i)\n",
    "        predictions = model.predict(validate_df[X_colss[j]].values)\n",
    "        print(pd.Series(predictions).value_counts())\n",
    "        print(classification_report(validate_df[Y_cols].values, predictions))"
   ]
  },
  {
   "cell_type": "code",
   "execution_count": 89,
   "metadata": {
    "scrolled": true
   },
   "outputs": [
    {
     "data": {
      "image/png": "[encoded data removed]",
      "text/plain": [
       "<Figure size 432x288 with 1 Axes>"
      ]
     },
     "metadata": {
      "needs_background": "light"
     },
     "output_type": "display_data"
    },
    {
     "name": "stdout",
     "output_type": "stream",
     "text": [
      "[0.58245083 0.60450161 0.60517799 0.63506261 0.63720074 0.66267465\n",
      " 0.67864693 0.68172043 0.70921986 0.73262032 0.74923547 0.76527331\n",
      " 0.77941176 0.77358491 0.80208333 0.81176471 1.        ] [1.         0.97662338 0.97142857 0.92207792 0.8987013  0.86233766\n",
      " 0.83376623 0.82337662 0.77922078 0.71168831 0.63636364 0.61818182\n",
      " 0.55064935 0.21298701 0.2        0.17922078 0.        ] [0.12711864 0.13636364 0.24864865 0.29545455 0.33606557 0.39495798\n",
      " 0.46153846 0.50310559 0.51592357 0.53757225 0.63333333 0.65384615\n",
      " 0.73684211 0.74468085 0.76923077 0.84      ]\n"
     ]
    },
    {
     "data": {
      "image/png": "[encoded data removed]",
      "text/plain": [
       "<Figure size 432x288 with 1 Axes>"
      ]
     },
     "metadata": {
      "needs_background": "light"
     },
     "output_type": "display_data"
    }
   ],
   "source": [
    "from sklearn.metrics import auc, roc_curve\n",
    "from matplotlib import pyplot as plt\n",
    "from sklearn.metrics import precision_recall_curve\n",
    "\n",
    "def plot_curves(model):\n",
    "    probs = model.predict_proba(validate_df[X_colss[0]].values)[:,1]\n",
    "    ytrue = validate_df[Y_cols].values\n",
    "\n",
    "    fpr, tpr, thresholds = roc_curve(ytrue, probs, pos_label=1)\n",
    "    score = auc(fpr, tpr)\n",
    "\n",
    "    plt.figure()\n",
    "    plt.plot(fpr, tpr, color='darkorange', label='ROC curve (area = %0.2f)' % score)\n",
    "    plt.plot([0, 1], [0, 1], color='navy', linestyle='--')\n",
    "    plt.xlim([0.0, 1.0])\n",
    "    plt.ylim([0.0, 1.05])\n",
    "    plt.xlabel('False Positive Rate')\n",
    "    plt.ylabel('True Positive Rate')\n",
    "    plt.title('Receiver operating characteristic example')\n",
    "    plt.legend(loc=\"lower right\")\n",
    "    plt.grid()\n",
    "    plt.show()\n",
    "\n",
    "    precision, recall, thresholds = precision_recall_curve(ytrue, probs)\n",
    "    print(precision, recall, thresholds)\n",
    "    plt.figure()\n",
    "    plt.plot(precision, recall, color='darkorange')\n",
    "    plt.xlabel('Precision')\n",
    "    plt.ylabel('Recall')\n",
    "    #plt.xlim([0.0, 1.0])\n",
    "    #plt.ylim([0.0, 1.05])\n",
    "    plt.grid()\n",
    "    plt.show()\n",
    "\n",
    "    \"\"\"\n",
    "    thresholds = [0.25, 0.5, 0.75]\n",
    "    for th in thresholds:\n",
    "        #print(probs)\n",
    "        predictions = [1 if prob > th else 0 for prob in probs]\n",
    "        #predictions = model.predict(validate_df[X_cols].values)\n",
    "        print(pd.Series(predictions).value_counts())\n",
    "        print(classification_report(ytrue, predictions))\n",
    "    \"\"\"\n",
    "    \n",
    "    \n",
    "plot_curves(modelss[0][0])"
   ]
  },
  {
   "cell_type": "markdown",
   "metadata": {},
   "source": [
    "## Testing"
   ]
  },
  {
   "cell_type": "code",
   "execution_count": 94,
   "metadata": {},
   "outputs": [
    {
     "name": "stdout",
     "output_type": "stream",
     "text": [
      "True     70\n",
      "False    64\n",
      "dtype: int64\n",
      "              precision    recall  f1-score   support\n",
      "\n",
      "           0       0.72      0.71      0.71        65\n",
      "           1       0.73      0.74      0.73        69\n",
      "\n",
      "   micro avg       0.72      0.72      0.72       134\n",
      "   macro avg       0.72      0.72      0.72       134\n",
      "weighted avg       0.72      0.72      0.72       134\n",
      "\n"
     ]
    }
   ],
   "source": [
    "from sklearn.metrics import classification_report\n",
    "\n",
    "def predictions_k(model, X, k):\n",
    "    probs = model.predict_proba(X)\n",
    "    return probs[:, 1] >= k\n",
    "\n",
    "modelss = [[model]]\n",
    "for j, models in enumerate(modelss):\n",
    "    for i, model in enumerate(models):\n",
    "        predictions = model.predict(test_df[X_colss[j]].values)\n",
    "        predictions = predictions_k(model, test_df[X_colss[j]].values, 0.7)\n",
    "        print(pd.Series(predictions).value_counts())\n",
    "        print(classification_report(test_df[Y_cols].values, predictions))"
   ]
  },
  {
   "cell_type": "markdown",
   "metadata": {},
   "source": [
    "## Human Performance"
   ]
  },
  {
   "cell_type": "code",
   "execution_count": 51,
   "metadata": {},
   "outputs": [
    {
     "name": "stdout",
     "output_type": "stream",
     "text": [
      "              precision    recall  f1-score   support\n",
      "\n",
      "           0       0.91      0.80      0.85        65\n",
      "           1       0.83      0.93      0.88        69\n",
      "\n",
      "   micro avg       0.87      0.87      0.87       134\n",
      "   macro avg       0.87      0.86      0.86       134\n",
      "weighted avg       0.87      0.87      0.86       134\n",
      "\n"
     ]
    }
   ],
   "source": [
    "predictions = test_df_human.is_answerable_human.apply(lambda x: label_map[x]).values\n",
    "labels = test_df_human.is_answerable.apply(lambda x: label_map[x]).values\n",
    "print(classification_report(labels, predictions))"
   ]
  },
  {
   "cell_type": "markdown",
   "metadata": {},
   "source": [
    "## Saving"
   ]
  },
  {
   "cell_type": "code",
   "execution_count": 52,
   "metadata": {},
   "outputs": [],
   "source": [
    "#with open('classification_data/q_classification_model_final.pkl', 'wb') as fp:\n",
    "#    pickle.dump(modelss[4][2], fp)"
   ]
  },
  {
   "cell_type": "code",
   "execution_count": 84,
   "metadata": {},
   "outputs": [],
   "source": [
    "with open('classification_data/q_classification_model_final.pkl', 'rb') as fp:\n",
    "    model = pickle.load(fp)"
   ]
  },
  {
   "cell_type": "code",
   "execution_count": null,
   "metadata": {},
   "outputs": [],
   "source": []
  }
 ],
 "metadata": {
  "kernelspec": {
   "display_name": "Python 3",
   "language": "python",
   "name": "python3"
  },
  "language_info": {
   "codemirror_mode": {
    "name": "ipython",
    "version": 3
   },
   "file_extension": ".py",
   "mimetype": "text/x-python",
   "name": "python",
   "nbconvert_exporter": "python",
   "pygments_lexer": "ipython3",
   "version": "3.6.4"
  }
 },
 "nbformat": 4,
 "nbformat_minor": 2
}
