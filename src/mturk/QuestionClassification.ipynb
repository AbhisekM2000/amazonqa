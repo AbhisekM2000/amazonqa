{
 "cells": [
  {
   "cell_type": "code",
   "execution_count": 54,
   "metadata": {},
   "outputs": [],
   "source": [
    "import numpy as np\n",
    "import pandas as pd\n",
    "import string\n",
    "import pickle\n",
    "\n",
    "import sklearn\n",
    "from sklearn.metrics import classification_report\n",
    "from sklearn.feature_extraction.text import TfidfVectorizer\n",
    "from nltk import sent_tokenize"
   ]
  },
  {
   "cell_type": "markdown",
   "metadata": {},
   "source": [
    "## Data Loading and Splits"
   ]
  },
  {
   "cell_type": "code",
   "execution_count": 55,
   "metadata": {},
   "outputs": [
    {
     "name": "stdout",
     "output_type": "stream",
     "text": [
      "N    187\n",
      "S     69\n",
      "Y     63\n",
      "A     10\n",
      "Name: Is_Answerable, dtype: int64\n",
      "Total 329\n"
     ]
    }
   ],
   "source": [
    "cols = ['question', 'review0', 'review1', 'review2', 'review3', 'review4', 'Is_Answerable']\n",
    "df = pd.read_csv('classification_data/train.csv')[cols]\n",
    "\n",
    "def filter_data(df):\n",
    "    df = df[df.Is_Answerable.notnull()]\n",
    "    df = df[df.review0.notnull()]\n",
    "    return df\n",
    "\n",
    "print(df.Is_Answerable.value_counts())\n",
    "print('Total', len(df))"
   ]
  },
  {
   "cell_type": "code",
   "execution_count": 56,
   "metadata": {},
   "outputs": [],
   "source": [
    "df = pd.read_csv('classification_data/final_annotated_data.csv')\n",
    "\n",
    "def print_stats(df, name='df'):\n",
    "    print(name.upper())\n",
    "    print('Length = %d' % len(df))\n",
    "    print('IsAnswerableOrig Counts')\n",
    "    print(df.is_answerable_orig.value_counts())\n",
    "    print('IsAnswerableNew Counts')\n",
    "    print(df.is_answerable_new.value_counts())\n",
    "    print()"
   ]
  },
  {
   "cell_type": "code",
   "execution_count": 57,
   "metadata": {},
   "outputs": [
    {
     "name": "stdout",
     "output_type": "stream",
     "text": [
      "TRAIN\n",
      "Length = 3348\n",
      "IsAnswerableOrig Counts\n",
      "3    1436\n",
      "2     958\n",
      "1     954\n",
      "Name: is_answerable_orig, dtype: int64\n",
      "IsAnswerableNew Counts\n",
      "Series([], Name: is_answerable_new, dtype: int64)\n",
      "\n",
      "TEST\n",
      "Length = 281\n",
      "IsAnswerableOrig Counts\n",
      "3    73\n",
      "2    56\n",
      "N    33\n",
      "Y    24\n",
      "1    17\n",
      "S    12\n",
      "Name: is_answerable_orig, dtype: int64\n",
      "IsAnswerableNew Counts\n",
      "3.0    134\n",
      "2.0     77\n",
      "1.0     70\n",
      "Name: is_answerable_new, dtype: int64\n",
      "\n"
     ]
    }
   ],
   "source": [
    "train_df = df[~df.expert]\n",
    "test_df = df[df.expert]\n",
    "test_df = test_df[test_df.is_answerable_new.notnull()]\n",
    "\n",
    "print_stats(train_df, 'train')\n",
    "print_stats(test_df, 'test')"
   ]
  },
  {
   "cell_type": "code",
   "execution_count": 58,
   "metadata": {},
   "outputs": [
    {
     "name": "stdout",
     "output_type": "stream",
     "text": [
      "3303\n",
      "127\n"
     ]
    }
   ],
   "source": [
    "# Column Renames\n",
    "\n",
    "train_df = train_df.rename(columns={'is_answerable_orig': 'Is_Answerable'})[cols]\n",
    "test_df = test_df.rename(columns={'is_answerable_new': 'Is_Answerable', 'is_answerable_orig': 'Is_Answerable_Human'})[cols + ['Is_Answerable_Human']]\n",
    "test_df_human = test_df[test_df.Is_Answerable_Human.notnull()]\n",
    "\n",
    "train_df = filter_data(train_df)\n",
    "test_df = filter_data(test_df)\n",
    "print(len(train_df))\n",
    "print(len(test_df))"
   ]
  },
  {
   "cell_type": "code",
   "execution_count": 59,
   "metadata": {},
   "outputs": [],
   "source": [
    "train_df, validate_df = np.split(train_df.sample(frac=1), [int(.8*len(train_df))])"
   ]
  },
  {
   "cell_type": "code",
   "execution_count": 60,
   "metadata": {},
   "outputs": [
    {
     "data": {
      "text/plain": [
       "(2642, 661, 127)"
      ]
     },
     "execution_count": 60,
     "metadata": {},
     "output_type": "execute_result"
    }
   ],
   "source": [
    "len(train_df), len(validate_df), len(test_df)"
   ]
  },
  {
   "cell_type": "code",
   "execution_count": 61,
   "metadata": {},
   "outputs": [],
   "source": [
    "def labels(df):\n",
    "    df['label'] = df.Is_Answerable.apply(lambda x: label_map[x])\n",
    "    return df['label']\n",
    "\n",
    "def get_reviews(row):\n",
    "    all_reviews = ''\n",
    "    for key in ['review0', 'review1', 'review2', 'review3', 'review4']:\n",
    "        if not isinstance(row[key], float):\n",
    "            all_reviews += row[key].strip(' ').strip('-')\n",
    "            all_reviews += ' '\n",
    "    return all_reviews.strip()\n",
    "\n",
    "def add_reviews(df):\n",
    "    df['reviews'] = df.apply(lambda x: get_reviews(x), axis = 1)\n",
    "    return df\n",
    "\n",
    "label_map = {'N': 0, 'S': 1, 'Y': 1, 'A': 1}\n",
    "for i, j in zip([1, 2, 3], [1, 1, 0]):\n",
    "    label_map[i] = j\n",
    "    label_map[str(i)] = j\n",
    "\n",
    "train_df, test_df, validate_df = list(map(add_reviews, [train_df, test_df, validate_df]))\n",
    "train_labels, test_labels, validate_labels = list(map(labels, [train_df, test_df, validate_df]))"
   ]
  },
  {
   "cell_type": "markdown",
   "metadata": {},
   "source": [
    "## TF IDF Vectorizer"
   ]
  },
  {
   "cell_type": "code",
   "execution_count": 62,
   "metadata": {},
   "outputs": [],
   "source": [
    "with open('classification_data/q_classification_vectorizer.pkl', 'rb') as fp:\n",
    "    vectorizer = pickle.load(fp)"
   ]
  },
  {
   "cell_type": "code",
   "execution_count": 63,
   "metadata": {},
   "outputs": [
    {
     "data": {
      "text/plain": [
       "150976"
      ]
     },
     "execution_count": 63,
     "metadata": {},
     "output_type": "execute_result"
    }
   ],
   "source": [
    "len(vectorizer.vocabulary_)"
   ]
  },
  {
   "cell_type": "code",
   "execution_count": 64,
   "metadata": {},
   "outputs": [],
   "source": [
    "# df = pd.read_csv('samples/train-qar_sample_100000.csv')\n",
    "# df = df[df.question.notnull()]\n",
    "# df = df[df.review0.notnull()]\n",
    "# df = add_reviews(df)\n",
    "# print(len(df))\n",
    "\n",
    "# vectorizer = TfidfVectorizer(stop_words='english')\n",
    "# vectorizer.fit(list(df.question.values) + list(df.reviews.values))"
   ]
  },
  {
   "cell_type": "code",
   "execution_count": 65,
   "metadata": {},
   "outputs": [],
   "source": [
    "# with open('classification_data/q_classification_vectorizer.pkl', 'wb') as fp:\n",
    "#     pickle.dump(vectorizer, fp)"
   ]
  },
  {
   "cell_type": "markdown",
   "metadata": {},
   "source": [
    "## Features"
   ]
  },
  {
   "cell_type": "code",
   "execution_count": 66,
   "metadata": {},
   "outputs": [],
   "source": [
    "df = train_df"
   ]
  },
  {
   "cell_type": "code",
   "execution_count": 67,
   "metadata": {},
   "outputs": [],
   "source": [
    "train_df_raw, test_df_raw, validate_df_raw = list(map(lambda x: x.copy(), [train_df, test_df, validate_df]))"
   ]
  },
  {
   "cell_type": "code",
   "execution_count": 48,
   "metadata": {},
   "outputs": [],
   "source": [
    "# from sklearn.feature_extraction.text import TfidfVectorizer\n",
    "\n",
    "# vectorizer = TfidfVectorizer(stop_words='english')\n",
    "# vectorizer.fit(\\\n",
    "#     list(train_df.question.values) + list(train_df.reviews.values) \\\n",
    "#     + list(validate_df.question.values) + list(validate_df.reviews.values))"
   ]
  },
  {
   "cell_type": "code",
   "execution_count": 68,
   "metadata": {},
   "outputs": [],
   "source": [
    "def tokenize(text):\n",
    "    punctuations = string.punctuation.replace(\"\\'\", '')\n",
    "\n",
    "    for ch in punctuations:\n",
    "        text = text.replace(ch, \" \" + ch + \" \")\n",
    "\n",
    "    tokens = text.split()\n",
    "    for i, token in enumerate(tokens):\n",
    "        if not token.isupper():\n",
    "            tokens[i] = token.lower()\n",
    "    return tokens"
   ]
  },
  {
   "cell_type": "code",
   "execution_count": 70,
   "metadata": {},
   "outputs": [],
   "source": [
    "def n_intersection(q, r):\n",
    "    return len(set(q).intersection(set(r)))\n",
    "\n",
    "def tf_idf_sim(q, r):\n",
    "    # dot product of q and r as tfidf vectors\n",
    "    q_vec = vectorizer.transform([q])\n",
    "    r_vec = vectorizer.transform([r])\n",
    "    return q_vec.dot(r_vec.transpose()).toarray()[0][0]\n",
    "\n",
    "def tf_idf_sim_sentence(q, r):\n",
    "    # max of dot products of q and each sentence in r as tfidf vectors\n",
    "    q_vec = vectorizer.transform([q])\n",
    "    rs = sent_tokenize(r)\n",
    "    if len(rs) == 0:\n",
    "        return 0\n",
    "    return max([q_vec.dot(vectorizer.transform([r]).transpose()).toarray()[0][0] for r in rs])\n",
    "\n",
    "def add_features(df):\n",
    "    df['q_tokens'] = df.question.apply(lambda x: tokenize(x))\n",
    "    df['r_tokens'] = df.reviews.apply(lambda x: tokenize(x))\n",
    "    df['n_q'] = df.q_tokens.apply(lambda x: len(x))\n",
    "    df['n_r'] = df.r_tokens.apply(lambda x: len(x))\n",
    "    df['n_intersection'] = df.apply(lambda x: len(set(x.q_tokens).intersection(set(x.r_tokens))), axis=1)\n",
    "    df['intr_frac'] = df.n_intersection / df.n_q\n",
    "    df['tfidf'] = df.apply(lambda x: tf_idf_sim(x.question, x.reviews), axis=1)\n",
    "    df['tfidf_sent'] = df.apply(lambda x: tf_idf_sim_sentence(x.question, x.reviews), axis=1)\n",
    "    return df"
   ]
  },
  {
   "cell_type": "code",
   "execution_count": 71,
   "metadata": {},
   "outputs": [],
   "source": [
    "train_df, test_df, validate_df = list(map(add_features, [train_df_raw, test_df_raw, validate_df_raw]))"
   ]
  },
  {
   "cell_type": "markdown",
   "metadata": {},
   "source": [
    "## Analysis"
   ]
  },
  {
   "cell_type": "code",
   "execution_count": 72,
   "metadata": {},
   "outputs": [],
   "source": [
    "df = train_df\n",
    "\n",
    "q = df.question.iloc[1]\n",
    "r = df.reviews.iloc[1]\n",
    "q_tokens = df.q_tokens.iloc[1]\n",
    "r_tokens = df.r_tokens.iloc[1]\n",
    "\n",
    "# q, r, set(q_tokens).intersection(set(r_tokens))"
   ]
  },
  {
   "cell_type": "code",
   "execution_count": 73,
   "metadata": {},
   "outputs": [
    {
     "data": {
      "text/html": [
       "<div>\n",
       "<style>\n",
       "    .dataframe thead tr:only-child th {\n",
       "        text-align: right;\n",
       "    }\n",
       "\n",
       "    .dataframe thead th {\n",
       "        text-align: left;\n",
       "    }\n",
       "\n",
       "    .dataframe tbody tr th {\n",
       "        vertical-align: top;\n",
       "    }\n",
       "</style>\n",
       "<table border=\"1\" class=\"dataframe\">\n",
       "  <thead>\n",
       "    <tr style=\"text-align: right;\">\n",
       "      <th></th>\n",
       "      <th>n_q</th>\n",
       "      <th>n_r</th>\n",
       "      <th>n_intersection</th>\n",
       "      <th>intr_frac</th>\n",
       "      <th>tfidf</th>\n",
       "      <th>tfidf_sent</th>\n",
       "    </tr>\n",
       "    <tr>\n",
       "      <th>label</th>\n",
       "      <th></th>\n",
       "      <th></th>\n",
       "      <th></th>\n",
       "      <th></th>\n",
       "      <th></th>\n",
       "      <th></th>\n",
       "    </tr>\n",
       "  </thead>\n",
       "  <tbody>\n",
       "    <tr>\n",
       "      <th>0</th>\n",
       "      <td>15.956211</td>\n",
       "      <td>324.182306</td>\n",
       "      <td>7.151028</td>\n",
       "      <td>0.463667</td>\n",
       "      <td>0.122266</td>\n",
       "      <td>0.185460</td>\n",
       "    </tr>\n",
       "    <tr>\n",
       "      <th>1</th>\n",
       "      <td>17.475378</td>\n",
       "      <td>377.079448</td>\n",
       "      <td>9.532502</td>\n",
       "      <td>0.581627</td>\n",
       "      <td>0.227080</td>\n",
       "      <td>0.325191</td>\n",
       "    </tr>\n",
       "  </tbody>\n",
       "</table>\n",
       "</div>"
      ],
      "text/plain": [
       "             n_q         n_r  n_intersection  intr_frac     tfidf  tfidf_sent\n",
       "label                                                                        \n",
       "0      15.956211  324.182306        7.151028   0.463667  0.122266    0.185460\n",
       "1      17.475378  377.079448        9.532502   0.581627  0.227080    0.325191"
      ]
     },
     "execution_count": 73,
     "metadata": {},
     "output_type": "execute_result"
    }
   ],
   "source": [
    "df[['label', 'n_q', 'n_r', 'n_intersection', 'intr_frac', 'tfidf', 'tfidf_sent']].groupby('label').mean()"
   ]
  },
  {
   "cell_type": "markdown",
   "metadata": {},
   "source": [
    "## Training"
   ]
  },
  {
   "cell_type": "code",
   "execution_count": 74,
   "metadata": {},
   "outputs": [
    {
     "name": "stderr",
     "output_type": "stream",
     "text": [
      "/Users/nitish/miniconda2/envs/py3/lib/python3.6/site-packages/sklearn/linear_model/logistic.py:432: FutureWarning: Default solver will be changed to 'lbfgs' in 0.22. Specify a solver to silence this warning.\n",
      "  FutureWarning)\n"
     ]
    },
    {
     "data": {
      "text/plain": [
       "LogisticRegression(C=100, class_weight=None, dual=False, fit_intercept=True,\n",
       "          intercept_scaling=1, max_iter=100, multi_class='warn',\n",
       "          n_jobs=None, penalty='l2', random_state=None, solver='warn',\n",
       "          tol=0.0001, verbose=0, warm_start=False)"
      ]
     },
     "execution_count": 74,
     "metadata": {},
     "output_type": "execute_result"
    }
   ],
   "source": [
    "X_cols = ['n_q', 'n_r', 'n_intersection', 'intr_frac', 'tfidf']\n",
    "Y_cols = 'label'\n",
    "\n",
    "from sklearn.linear_model import LogisticRegression\n",
    "from sklearn.tree import DecisionTreeClassifier\n",
    "from sklearn.ensemble import RandomForestClassifier\n",
    "\n",
    "model = LogisticRegression(C=100)\n",
    "# model = DecisionTreeClassifier()\n",
    "# model = RandomForestClassifier(n_estimators=5)\n",
    "model.fit(train_df[X_cols].values, train_df[Y_cols].values)"
   ]
  },
  {
   "cell_type": "code",
   "execution_count": 75,
   "metadata": {},
   "outputs": [
    {
     "data": {
      "text/plain": [
       "0.6671709531013615"
      ]
     },
     "execution_count": 75,
     "metadata": {},
     "output_type": "execute_result"
    }
   ],
   "source": [
    "(model.predict(validate_df[X_cols].values) == validate_df[Y_cols].values).mean()"
   ]
  },
  {
   "cell_type": "code",
   "execution_count": 76,
   "metadata": {},
   "outputs": [
    {
     "name": "stdout",
     "output_type": "stream",
     "text": [
      "1    447\n",
      "0    214\n",
      "dtype: int64\n",
      "              precision    recall  f1-score   support\n",
      "\n",
      "           0       0.64      0.49      0.56       282\n",
      "           1       0.68      0.80      0.73       379\n",
      "\n",
      "   micro avg       0.67      0.67      0.67       661\n",
      "   macro avg       0.66      0.64      0.65       661\n",
      "weighted avg       0.66      0.67      0.66       661\n",
      "\n"
     ]
    }
   ],
   "source": [
    "predictions = model.predict(validate_df[X_cols].values)\n",
    "print(pd.Series(predictions).value_counts())\n",
    "print(classification_report(validate_df[Y_cols].values, predictions))"
   ]
  },
  {
   "cell_type": "markdown",
   "metadata": {},
   "source": [
    "## Testing"
   ]
  },
  {
   "cell_type": "code",
   "execution_count": 77,
   "metadata": {},
   "outputs": [
    {
     "name": "stdout",
     "output_type": "stream",
     "text": [
      "1    93\n",
      "0    34\n",
      "dtype: int64\n",
      "              precision    recall  f1-score   support\n",
      "\n",
      "           0       0.65      0.42      0.51        53\n",
      "           1       0.67      0.84      0.74        74\n",
      "\n",
      "   micro avg       0.66      0.66      0.66       127\n",
      "   macro avg       0.66      0.63      0.62       127\n",
      "weighted avg       0.66      0.66      0.64       127\n",
      "\n"
     ]
    }
   ],
   "source": [
    "from sklearn.metrics import classification_report\n",
    "\n",
    "predictions = model.predict(test_df[X_cols].values)\n",
    "print(pd.Series(predictions).value_counts())\n",
    "print(classification_report(test_df[Y_cols].values, predictions))"
   ]
  },
  {
   "cell_type": "markdown",
   "metadata": {},
   "source": [
    "## Human Performance"
   ]
  },
  {
   "cell_type": "code",
   "execution_count": 78,
   "metadata": {},
   "outputs": [
    {
     "name": "stdout",
     "output_type": "stream",
     "text": [
      "              precision    recall  f1-score   support\n",
      "\n",
      "           0       0.76      0.77      0.77       105\n",
      "           1       0.78      0.77      0.78       110\n",
      "\n",
      "   micro avg       0.77      0.77      0.77       215\n",
      "   macro avg       0.77      0.77      0.77       215\n",
      "weighted avg       0.77      0.77      0.77       215\n",
      "\n"
     ]
    }
   ],
   "source": [
    "predictions = test_df_human.Is_Answerable_Human.apply(lambda x: label_map[x]).values\n",
    "labels = test_df_human.Is_Answerable.apply(lambda x: label_map[x]).values\n",
    "print(classification_report(labels, predictions))"
   ]
  },
  {
   "cell_type": "markdown",
   "metadata": {},
   "source": [
    "## Saving"
   ]
  },
  {
   "cell_type": "code",
   "execution_count": 25,
   "metadata": {},
   "outputs": [],
   "source": [
    "# with open('q_classification_model_2.pkl', 'wb') as fp:\n",
    "#     pickle.dump(model, fp)"
   ]
  },
  {
   "cell_type": "code",
   "execution_count": 26,
   "metadata": {},
   "outputs": [],
   "source": [
    "# with open('classification_data/q_classification_model.pkl', 'rb') as fp:\n",
    "#     model = pickle.load(fp)"
   ]
  },
  {
   "cell_type": "code",
   "execution_count": null,
   "metadata": {},
   "outputs": [],
   "source": []
  }
 ],
 "metadata": {
  "kernelspec": {
   "display_name": "Python 3",
   "language": "python",
   "name": "python3"
  },
  "language_info": {
   "codemirror_mode": {
    "name": "ipython",
    "version": 3
   },
   "file_extension": ".py",
   "mimetype": "text/x-python",
   "name": "python",
   "nbconvert_exporter": "python",
   "pygments_lexer": "ipython3",
   "version": "3.6.2"
  }
 },
 "nbformat": 4,
 "nbformat_minor": 2
}
