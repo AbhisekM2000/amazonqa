{
 "cells": [
  {
   "cell_type": "code",
   "execution_count": 231,
   "metadata": {},
   "outputs": [],
   "source": [
    "import numpy as np\n",
    "import pandas as pd\n",
    "import string\n",
    "\n",
    "import sklearn\n",
    "from sklearn.metrics import classification_report\n",
    "from sklearn.feature_extraction.text import TfidfVectorizer"
   ]
  },
  {
   "cell_type": "markdown",
   "metadata": {},
   "source": [
    "## Data Loading and Splits"
   ]
  },
  {
   "cell_type": "code",
   "execution_count": 172,
   "metadata": {},
   "outputs": [
    {
     "name": "stdout",
     "output_type": "stream",
     "text": [
      "N    187\n",
      "S     69\n",
      "Y     63\n",
      "A     10\n",
      "Name: Is_Answerable, dtype: int64\n",
      "Total 329\n"
     ]
    }
   ],
   "source": [
    "cols = ['question', 'review0', 'review1', 'review2', 'review3', 'review4', 'Is_Answerable']\n",
    "df = pd.read_csv('classification_data/train.csv')[cols]\n",
    "\n",
    "def filter_data(df):\n",
    "    df = df[df.Is_Answerable.notnull()]\n",
    "    df = df[df.review0.notnull()]\n",
    "    return df\n",
    "\n",
    "print(df.Is_Answerable.value_counts())\n",
    "print('Total', len(df))"
   ]
  },
  {
   "cell_type": "code",
   "execution_count": 173,
   "metadata": {},
   "outputs": [],
   "source": [
    "train_df, validate_df, test_df = np.split(df.sample(frac=1), [int(.6*len(df)), int(.8*len(df))])"
   ]
  },
  {
   "cell_type": "code",
   "execution_count": 174,
   "metadata": {},
   "outputs": [],
   "source": [
    "train_df, test_df, validate_df = list(map(filter_data, [train_df, test_df, validate_df]))"
   ]
  },
  {
   "cell_type": "code",
   "execution_count": 175,
   "metadata": {},
   "outputs": [
    {
     "data": {
      "text/plain": [
       "(193, 66, 64)"
      ]
     },
     "execution_count": 175,
     "metadata": {},
     "output_type": "execute_result"
    }
   ],
   "source": [
    "len(train_df), len(validate_df), len(test_df)"
   ]
  },
  {
   "cell_type": "code",
   "execution_count": 271,
   "metadata": {},
   "outputs": [],
   "source": [
    "def labels(df):\n",
    "    df['label'] = df.Is_Answerable.apply(lambda x: label_map[x])\n",
    "    return df['label']\n",
    "\n",
    "def get_reviews(row):\n",
    "    all_reviews = ''\n",
    "    for key in ['review0', 'review1', 'review2', 'review3', 'review4']:\n",
    "        if not isinstance(row[key], float):\n",
    "            all_reviews += row[key].strip(' ')\n",
    "            all_reviews += ' '\n",
    "    return all_reviews.strip()\n",
    "\n",
    "def add_reviews(df):\n",
    "    df['reviews'] = df.apply(lambda x: get_reviews(x), axis = 1)\n",
    "    return df\n",
    "\n",
    "label_map = {'N': 0, 'S': 2, 'Y': 1, 'A': 1}\n",
    "train_df, test_df, validate_df = list(map(add_reviews, [train_df, test_df, validate_df]))\n",
    "train_labels, test_labels, validate_labels = list(map(labels, [train_df, test_df, validate_df]))"
   ]
  },
  {
   "cell_type": "markdown",
   "metadata": {},
   "source": [
    "## TF IDF Vectorizer"
   ]
  },
  {
   "cell_type": "code",
   "execution_count": 272,
   "metadata": {},
   "outputs": [],
   "source": [
    "with open('classification_data/q_classification_model.pkl', 'rb') as fp:\n",
    "    vectorizer = pickle.load(fp)"
   ]
  },
  {
   "cell_type": "code",
   "execution_count": 273,
   "metadata": {},
   "outputs": [
    {
     "data": {
      "text/plain": [
       "150976"
      ]
     },
     "execution_count": 273,
     "metadata": {},
     "output_type": "execute_result"
    }
   ],
   "source": [
    "len(vectorizer.vocabulary_)"
   ]
  },
  {
   "cell_type": "code",
   "execution_count": 274,
   "metadata": {},
   "outputs": [],
   "source": [
    "# df = pd.read_csv('samples/train-qar_sample_100000.csv')\n",
    "# df = df[df.question.notnull()]\n",
    "# df = df[df.review0.notnull()]\n",
    "# df = add_reviews(df)\n",
    "# print(len(df))\n",
    "\n",
    "# vectorizer = TfidfVectorizer(stop_words='english')\n",
    "# vectorizer.fit(list(df.question.values) + list(df.reviews.values))"
   ]
  },
  {
   "cell_type": "code",
   "execution_count": 275,
   "metadata": {},
   "outputs": [],
   "source": [
    "# with open('classification_data/q_classification_model.pkl', 'wb') as fp:\n",
    "#     pickle.dump(vectorizer, fp)"
   ]
  },
  {
   "cell_type": "markdown",
   "metadata": {},
   "source": [
    "## Features"
   ]
  },
  {
   "cell_type": "code",
   "execution_count": 276,
   "metadata": {},
   "outputs": [],
   "source": [
    "df = train_df"
   ]
  },
  {
   "cell_type": "code",
   "execution_count": 277,
   "metadata": {},
   "outputs": [],
   "source": [
    "# from sklearn.feature_extraction.text import TfidfVectorizer\n",
    "\n",
    "# vectorizer = TfidfVectorizer(stop_words='english')\n",
    "# vectorizer.fit(\\\n",
    "#     list(train_df.question.values) + list(train_df.reviews.values) \\\n",
    "#     + list(validate_df.question.values) + list(validate_df.reviews.values))"
   ]
  },
  {
   "cell_type": "code",
   "execution_count": 278,
   "metadata": {},
   "outputs": [],
   "source": [
    "def tokenize(text):\n",
    "    punctuations = string.punctuation.replace(\"\\'\", '')\n",
    "\n",
    "    for ch in punctuations:\n",
    "        text = text.replace(ch, \" \" + ch + \" \")\n",
    "\n",
    "    tokens = text.split()\n",
    "    for i, token in enumerate(tokens):\n",
    "        if not token.isupper():\n",
    "            tokens[i] = token.lower()\n",
    "    return tokens"
   ]
  },
  {
   "cell_type": "code",
   "execution_count": 279,
   "metadata": {},
   "outputs": [],
   "source": [
    "def n_intersection(q, r):\n",
    "    return len(set(q).intersection(set(r)))\n",
    "\n",
    "def tf_idf_sim(q, r):\n",
    "    q_vec = vectorizer.transform([q])\n",
    "    r_vec = vectorizer.transform([r])\n",
    "    return q_vec.dot(r_vec.transpose()).toarray()[0][0]\n",
    "\n",
    "def add_features(df):\n",
    "    df['q_tokens'] = df.question.apply(lambda x: tokenize(x))\n",
    "    df['r_tokens'] = df.reviews.apply(lambda x: tokenize(x))\n",
    "    df['n_q'] = df.q_tokens.apply(lambda x: len(x))\n",
    "    df['n_r'] = df.r_tokens.apply(lambda x: len(x))\n",
    "    df['n_intersection'] = df.apply(lambda x: len(set(x.q_tokens).intersection(set(x.r_tokens))), axis=1)\n",
    "    df['intr_frac'] = df.n_intersection / df.n_q\n",
    "    df['tfidf'] = df.apply(lambda x: tf_idf_sim(x.question, x.reviews), axis=1)\n",
    "    return df"
   ]
  },
  {
   "cell_type": "code",
   "execution_count": 280,
   "metadata": {},
   "outputs": [],
   "source": [
    "train_df, test_df, validate_df = list(map(add_features, [train_df, test_df, validate_df]))"
   ]
  },
  {
   "cell_type": "markdown",
   "metadata": {},
   "source": [
    "## Analysis"
   ]
  },
  {
   "cell_type": "code",
   "execution_count": 281,
   "metadata": {},
   "outputs": [],
   "source": [
    "df = train_df\n",
    "\n",
    "q = df.question.iloc[1]\n",
    "r = df.reviews.iloc[1]\n",
    "q_tokens = df.q_tokens.iloc[1]\n",
    "r_tokens = df.r_tokens.iloc[1]\n",
    "\n",
    "# q, r, set(q_tokens).intersection(set(r_tokens))"
   ]
  },
  {
   "cell_type": "code",
   "execution_count": 282,
   "metadata": {},
   "outputs": [
    {
     "data": {
      "text/html": [
       "<div>\n",
       "<style>\n",
       "    .dataframe thead tr:only-child th {\n",
       "        text-align: right;\n",
       "    }\n",
       "\n",
       "    .dataframe thead th {\n",
       "        text-align: left;\n",
       "    }\n",
       "\n",
       "    .dataframe tbody tr th {\n",
       "        vertical-align: top;\n",
       "    }\n",
       "</style>\n",
       "<table border=\"1\" class=\"dataframe\">\n",
       "  <thead>\n",
       "    <tr style=\"text-align: right;\">\n",
       "      <th></th>\n",
       "      <th>n_q</th>\n",
       "      <th>n_r</th>\n",
       "      <th>n_intersection</th>\n",
       "      <th>intr_frac</th>\n",
       "      <th>tfidf</th>\n",
       "    </tr>\n",
       "    <tr>\n",
       "      <th>label</th>\n",
       "      <th></th>\n",
       "      <th></th>\n",
       "      <th></th>\n",
       "      <th></th>\n",
       "      <th></th>\n",
       "    </tr>\n",
       "  </thead>\n",
       "  <tbody>\n",
       "    <tr>\n",
       "      <th>0</th>\n",
       "      <td>14.699115</td>\n",
       "      <td>386.274336</td>\n",
       "      <td>7.566372</td>\n",
       "      <td>0.525509</td>\n",
       "      <td>0.149881</td>\n",
       "    </tr>\n",
       "    <tr>\n",
       "      <th>1</th>\n",
       "      <td>18.302326</td>\n",
       "      <td>409.465116</td>\n",
       "      <td>10.720930</td>\n",
       "      <td>0.615626</td>\n",
       "      <td>0.220657</td>\n",
       "    </tr>\n",
       "    <tr>\n",
       "      <th>2</th>\n",
       "      <td>15.756757</td>\n",
       "      <td>398.054054</td>\n",
       "      <td>9.486486</td>\n",
       "      <td>0.638918</td>\n",
       "      <td>0.259254</td>\n",
       "    </tr>\n",
       "  </tbody>\n",
       "</table>\n",
       "</div>"
      ],
      "text/plain": [
       "             n_q         n_r  n_intersection  intr_frac     tfidf\n",
       "label                                                            \n",
       "0      14.699115  386.274336        7.566372   0.525509  0.149881\n",
       "1      18.302326  409.465116       10.720930   0.615626  0.220657\n",
       "2      15.756757  398.054054        9.486486   0.638918  0.259254"
      ]
     },
     "execution_count": 282,
     "metadata": {},
     "output_type": "execute_result"
    }
   ],
   "source": [
    "df[['label', 'n_q', 'n_r', 'n_intersection', 'intr_frac', 'tfidf']].groupby('label').mean()"
   ]
  },
  {
   "cell_type": "markdown",
   "metadata": {},
   "source": [
    "## Training"
   ]
  },
  {
   "cell_type": "code",
   "execution_count": 283,
   "metadata": {},
   "outputs": [
    {
     "data": {
      "text/plain": [
       "RandomForestClassifier(bootstrap=True, class_weight=None, criterion='gini',\n",
       "            max_depth=None, max_features='auto', max_leaf_nodes=None,\n",
       "            min_impurity_decrease=0.0, min_impurity_split=None,\n",
       "            min_samples_leaf=1, min_samples_split=2,\n",
       "            min_weight_fraction_leaf=0.0, n_estimators=5, n_jobs=None,\n",
       "            oob_score=False, random_state=None, verbose=0,\n",
       "            warm_start=False)"
      ]
     },
     "execution_count": 283,
     "metadata": {},
     "output_type": "execute_result"
    }
   ],
   "source": [
    "X_cols = ['n_q', 'n_r', 'n_intersection', 'intr_frac', 'tfidf']\n",
    "Y_cols = 'label'\n",
    "\n",
    "from sklearn.linear_model import LogisticRegression\n",
    "from sklearn.tree import DecisionTreeClassifier\n",
    "from sklearn.ensemble import RandomForestClassifier\n",
    "\n",
    "# model = LogisticRegression(C=100)\n",
    "# model = DecisionTreeClassifier()\n",
    "model = RandomForestClassifier(n_estimators=5)\n",
    "model.fit(train_df[X_cols].values, train_df[Y_cols].values)"
   ]
  },
  {
   "cell_type": "code",
   "execution_count": 284,
   "metadata": {},
   "outputs": [
    {
     "data": {
      "text/plain": [
       "0.48484848484848486"
      ]
     },
     "execution_count": 284,
     "metadata": {},
     "output_type": "execute_result"
    }
   ],
   "source": [
    "(model.predict(validate_df[X_cols].values) == validate_df[Y_cols].values).mean()"
   ]
  },
  {
   "cell_type": "code",
   "execution_count": 285,
   "metadata": {},
   "outputs": [
    {
     "name": "stdout",
     "output_type": "stream",
     "text": [
      "0    39\n",
      "1    17\n",
      "2    10\n",
      "dtype: int64\n",
      "              precision    recall  f1-score   support\n",
      "\n",
      "           0       0.56      0.71      0.63        31\n",
      "           1       0.41      0.41      0.41        17\n",
      "           2       0.30      0.17      0.21        18\n",
      "\n",
      "   micro avg       0.48      0.48      0.48        66\n",
      "   macro avg       0.43      0.43      0.42        66\n",
      "weighted avg       0.45      0.48      0.46        66\n",
      "\n"
     ]
    }
   ],
   "source": [
    "predictions = model.predict(validate_df[X_cols].values)\n",
    "print(pd.Series(predictions).value_counts())\n",
    "print(classification_report(validate_df[Y_cols].values, predictions))"
   ]
  },
  {
   "cell_type": "markdown",
   "metadata": {},
   "source": [
    "## Testing"
   ]
  },
  {
   "cell_type": "code",
   "execution_count": 286,
   "metadata": {},
   "outputs": [
    {
     "name": "stdout",
     "output_type": "stream",
     "text": [
      "0    44\n",
      "1    11\n",
      "2     9\n",
      "dtype: int64\n",
      "              precision    recall  f1-score   support\n",
      "\n",
      "           0       0.57      0.68      0.62        37\n",
      "           1       0.18      0.15      0.17        13\n",
      "           2       0.00      0.00      0.00        14\n",
      "\n",
      "   micro avg       0.42      0.42      0.42        64\n",
      "   macro avg       0.25      0.28      0.26        64\n",
      "weighted avg       0.37      0.42      0.39        64\n",
      "\n"
     ]
    }
   ],
   "source": [
    "from sklearn.metrics import classification_report\n",
    "\n",
    "predictions = model.predict(test_df[X_cols].values)\n",
    "print(pd.Series(predictions).value_counts())\n",
    "print(classification_report(test_df[Y_cols].values, predictions))"
   ]
  },
  {
   "cell_type": "markdown",
   "metadata": {},
   "source": [
    "## Saving"
   ]
  },
  {
   "cell_type": "code",
   "execution_count": null,
   "metadata": {},
   "outputs": [],
   "source": []
  },
  {
   "cell_type": "code",
   "execution_count": 189,
   "metadata": {},
   "outputs": [],
   "source": [
    "import pickle\n",
    "# with open('q_classification_model_2.pkl', 'wb') as fp:\n",
    "#     pickle.dump(model, fp)"
   ]
  },
  {
   "cell_type": "code",
   "execution_count": 191,
   "metadata": {},
   "outputs": [
    {
     "ename": "TypeError",
     "evalue": "a bytes-like object is required, not 'str'",
     "output_type": "error",
     "traceback": [
      "\u001b[0;31m---------------------------------------------------------------------------\u001b[0m",
      "\u001b[0;31mTypeError\u001b[0m                                 Traceback (most recent call last)",
      "\u001b[0;32m<ipython-input-191-76b2cce6f92d>\u001b[0m in \u001b[0;36m<module>\u001b[0;34m()\u001b[0m\n\u001b[1;32m      1\u001b[0m \u001b[0;32mwith\u001b[0m \u001b[0mopen\u001b[0m\u001b[0;34m(\u001b[0m\u001b[0;34m'classification_data/q_classification_model.pkl'\u001b[0m\u001b[0;34m,\u001b[0m \u001b[0;34m'r'\u001b[0m\u001b[0;34m)\u001b[0m \u001b[0;32mas\u001b[0m \u001b[0mfp\u001b[0m\u001b[0;34m:\u001b[0m\u001b[0;34m\u001b[0m\u001b[0m\n\u001b[0;32m----> 2\u001b[0;31m     \u001b[0mmodel\u001b[0m \u001b[0;34m=\u001b[0m \u001b[0mpickle\u001b[0m\u001b[0;34m.\u001b[0m\u001b[0mload\u001b[0m\u001b[0;34m(\u001b[0m\u001b[0mfp\u001b[0m\u001b[0;34m)\u001b[0m\u001b[0;34m\u001b[0m\u001b[0m\n\u001b[0m",
      "\u001b[0;31mTypeError\u001b[0m: a bytes-like object is required, not 'str'"
     ]
    }
   ],
   "source": [
    "# with open('classification_data/q_classification_model.pkl', 'rb') as fp:\n",
    "#     model = pickle.load(fp)"
   ]
  },
  {
   "cell_type": "code",
   "execution_count": null,
   "metadata": {},
   "outputs": [],
   "source": []
  }
 ],
 "metadata": {
  "kernelspec": {
   "display_name": "Python 3",
   "language": "python",
   "name": "python3"
  },
  "language_info": {
   "codemirror_mode": {
    "name": "ipython",
    "version": 3
   },
   "file_extension": ".py",
   "mimetype": "text/x-python",
   "name": "python",
   "nbconvert_exporter": "python",
   "pygments_lexer": "ipython3",
   "version": "3.6.2"
  }
 },
 "nbformat": 4,
 "nbformat_minor": 2
}
