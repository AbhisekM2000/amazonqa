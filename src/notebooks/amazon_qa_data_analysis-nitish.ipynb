{
 "cells": [
  {
   "cell_type": "code",
   "execution_count": 1,
   "metadata": {},
   "outputs": [],
   "source": [
    "run ../data_utils.py"
   ]
  },
  {
   "cell_type": "code",
   "execution_count": 2,
   "metadata": {},
   "outputs": [],
   "source": [
    "import pandas as pd\n",
    "import numpy as np"
   ]
  },
  {
   "cell_type": "code",
   "execution_count": 3,
   "metadata": {},
   "outputs": [],
   "source": [
    "def tables_from_category(category):\n",
    "    with open('../..//data/%s.pickle' % category, 'rb') as f:\n",
    "        return pickle.load(f)\n",
    "\n",
    "qa_table, reviews_table = tables_from_category(VIDEO_GAMES)"
   ]
  },
  {
   "cell_type": "code",
   "execution_count": 4,
   "metadata": {},
   "outputs": [
    {
     "data": {
      "text/html": [
       "<div>\n",
       "<style scoped>\n",
       "    .dataframe tbody tr th:only-of-type {\n",
       "        vertical-align: middle;\n",
       "    }\n",
       "\n",
       "    .dataframe tbody tr th {\n",
       "        vertical-align: top;\n",
       "    }\n",
       "\n",
       "    .dataframe thead th {\n",
       "        text-align: right;\n",
       "    }\n",
       "</style>\n",
       "<table border=\"1\" class=\"dataframe\">\n",
       "  <thead>\n",
       "    <tr style=\"text-align: right;\">\n",
       "      <th></th>\n",
       "      <th>answerScore</th>\n",
       "      <th>answerText</th>\n",
       "      <th>answerType</th>\n",
       "      <th>answererID</th>\n",
       "      <th>asin</th>\n",
       "      <th>askerID</th>\n",
       "      <th>questionText</th>\n",
       "      <th>questionType</th>\n",
       "    </tr>\n",
       "  </thead>\n",
       "  <tbody>\n",
       "    <tr>\n",
       "      <th>0</th>\n",
       "      <td>None</td>\n",
       "      <td>Yes, you will need to go to their website to d...</td>\n",
       "      <td>None</td>\n",
       "      <td>AH14F9TYDABNH</td>\n",
       "      <td>B0000512IE</td>\n",
       "      <td>A39TQ7XW6P36BU</td>\n",
       "      <td>Can I use these with Window 8/8.1?</td>\n",
       "      <td>open-ended</td>\n",
       "    </tr>\n",
       "    <tr>\n",
       "      <th>1</th>\n",
       "      <td>None</td>\n",
       "      <td>Sure can. My Windows 8.1 machine automatically...</td>\n",
       "      <td>None</td>\n",
       "      <td>A36BQQD67VJOD2</td>\n",
       "      <td>B0000512IE</td>\n",
       "      <td>A39TQ7XW6P36BU</td>\n",
       "      <td>Can I use these with Window 8/8.1?</td>\n",
       "      <td>open-ended</td>\n",
       "    </tr>\n",
       "    <tr>\n",
       "      <th>2</th>\n",
       "      <td>None</td>\n",
       "      <td>Mine work with W8, can't answer for W8.1 but s...</td>\n",
       "      <td>None</td>\n",
       "      <td>AZY7TFN31JV8M</td>\n",
       "      <td>B0000512IE</td>\n",
       "      <td>A39TQ7XW6P36BU</td>\n",
       "      <td>Can I use these with Window 8/8.1?</td>\n",
       "      <td>open-ended</td>\n",
       "    </tr>\n",
       "    <tr>\n",
       "      <th>3</th>\n",
       "      <td>None</td>\n",
       "      <td>Yes. I installed on windows 8 and had no problems</td>\n",
       "      <td>None</td>\n",
       "      <td>A1RU4ZCFMLYY9E</td>\n",
       "      <td>B0000512IE</td>\n",
       "      <td>A39TQ7XW6P36BU</td>\n",
       "      <td>Can I use these with Window 8/8.1?</td>\n",
       "      <td>open-ended</td>\n",
       "    </tr>\n",
       "    <tr>\n",
       "      <th>4</th>\n",
       "      <td>None</td>\n",
       "      <td>I don't see why not. I don't use the CH driver...</td>\n",
       "      <td>None</td>\n",
       "      <td>A223O8W9Q7VLAE</td>\n",
       "      <td>B0000512IE</td>\n",
       "      <td>A39TQ7XW6P36BU</td>\n",
       "      <td>Can I use these with Window 8/8.1?</td>\n",
       "      <td>open-ended</td>\n",
       "    </tr>\n",
       "  </tbody>\n",
       "</table>\n",
       "</div>"
      ],
      "text/plain": [
       "  answerScore                                         answerText answerType  \\\n",
       "0        None  Yes, you will need to go to their website to d...       None   \n",
       "1        None  Sure can. My Windows 8.1 machine automatically...       None   \n",
       "2        None  Mine work with W8, can't answer for W8.1 but s...       None   \n",
       "3        None  Yes. I installed on windows 8 and had no problems       None   \n",
       "4        None  I don't see why not. I don't use the CH driver...       None   \n",
       "\n",
       "       answererID        asin         askerID  \\\n",
       "0   AH14F9TYDABNH  B0000512IE  A39TQ7XW6P36BU   \n",
       "1  A36BQQD67VJOD2  B0000512IE  A39TQ7XW6P36BU   \n",
       "2   AZY7TFN31JV8M  B0000512IE  A39TQ7XW6P36BU   \n",
       "3  A1RU4ZCFMLYY9E  B0000512IE  A39TQ7XW6P36BU   \n",
       "4  A223O8W9Q7VLAE  B0000512IE  A39TQ7XW6P36BU   \n",
       "\n",
       "                         questionText questionType  \n",
       "0  Can I use these with Window 8/8.1?   open-ended  \n",
       "1  Can I use these with Window 8/8.1?   open-ended  \n",
       "2  Can I use these with Window 8/8.1?   open-ended  \n",
       "3  Can I use these with Window 8/8.1?   open-ended  \n",
       "4  Can I use these with Window 8/8.1?   open-ended  "
      ]
     },
     "execution_count": 4,
     "metadata": {},
     "output_type": "execute_result"
    }
   ],
   "source": [
    "qa_table.head()"
   ]
  },
  {
   "cell_type": "code",
   "execution_count": 6,
   "metadata": {},
   "outputs": [],
   "source": [
    "# Number of Products\n",
    "num_products = len(np.unique(qa_table.asin))\n",
    "\n",
    "# Number of questions\n",
    "question_table = qa_table[['asin', 'questionText', 'questionType']].drop_duplicates()\n",
    "num_questions = len(question_table)\n",
    "vc = question_table['questionType'].value_counts()\n",
    "num_yes_no, num_oe = vc['yes/no'], vc['open-ended']\n",
    "\n",
    "# Number of answers\n",
    "num_answers = len(qa_table)\n",
    "\n",
    "# Number of reviews\n",
    "num_reviews = len(reviews_table)\n",
    "\n",
    "# Per product\n",
    "avg_reviews = reviews_table.groupby(['asin']).count()['reviewText'].mean()"
   ]
  },
  {
   "cell_type": "code",
   "execution_count": 7,
   "metadata": {},
   "outputs": [],
   "source": [
    "# Token Counts for Reviews, Review Counts for products\n",
    "\n",
    "def token_count(line):\n",
    "    return len(line.split(' '))\n",
    "\n",
    "review_count_df = pd.concat([reviews_table.asin, reviews_table.reviewText.apply(token_count)], axis = 1)\n",
    "avg_review_token_count_per_product = review_count_df.groupby(['asin']).sum().mean()\n",
    "avg_review_token_count = review_count_df.reviewText.mean(), \n",
    "avg_review_count = review_count_df.groupby(['asin']).count().mean()"
   ]
  },
  {
   "cell_type": "code",
   "execution_count": 29,
   "metadata": {},
   "outputs": [],
   "source": [
    "# Avg question per product & answers per question\n",
    "\n",
    "avg_questions_per_product = qa_table[['asin', 'questionText']].drop_duplicates().groupby('asin')['questionText'].count().mean()\n",
    "avg_answers_per_question = qa_table.groupby(['questionText']).count()['answerText'].mean()"
   ]
  },
  {
   "cell_type": "code",
   "execution_count": 30,
   "metadata": {
    "scrolled": true
   },
   "outputs": [
    {
     "data": {
      "text/html": [
       "<div>\n",
       "<style scoped>\n",
       "    .dataframe tbody tr th:only-of-type {\n",
       "        vertical-align: middle;\n",
       "    }\n",
       "\n",
       "    .dataframe tbody tr th {\n",
       "        vertical-align: top;\n",
       "    }\n",
       "\n",
       "    .dataframe thead th {\n",
       "        text-align: right;\n",
       "    }\n",
       "</style>\n",
       "<table border=\"1\" class=\"dataframe\">\n",
       "  <thead>\n",
       "    <tr style=\"text-align: right;\">\n",
       "      <th></th>\n",
       "      <th>asin</th>\n",
       "      <th>questionText</th>\n",
       "      <th>questionType</th>\n",
       "    </tr>\n",
       "  </thead>\n",
       "  <tbody>\n",
       "    <tr>\n",
       "      <th>2311</th>\n",
       "      <td>B00269DXXO</td>\n",
       "      <td>- Does this game have multiplayer mode?</td>\n",
       "      <td>open-ended</td>\n",
       "    </tr>\n",
       "    <tr>\n",
       "      <th>3729</th>\n",
       "      <td>B00ECOBFA4</td>\n",
       "      <td>- Does this game have multiplayer mode?</td>\n",
       "      <td>open-ended</td>\n",
       "    </tr>\n",
       "    <tr>\n",
       "      <th>18500</th>\n",
       "      <td>B00CD90R4K</td>\n",
       "      <td>- Does this game have multiplayer mode?</td>\n",
       "      <td>open-ended</td>\n",
       "    </tr>\n",
       "    <tr>\n",
       "      <th>20157</th>\n",
       "      <td>B009CEM332</td>\n",
       "      <td>- Does this game have multiplayer mode?</td>\n",
       "      <td>open-ended</td>\n",
       "    </tr>\n",
       "  </tbody>\n",
       "</table>\n",
       "</div>"
      ],
      "text/plain": [
       "             asin                             questionText questionType\n",
       "2311   B00269DXXO  - Does this game have multiplayer mode?   open-ended\n",
       "3729   B00ECOBFA4  - Does this game have multiplayer mode?   open-ended\n",
       "18500  B00CD90R4K  - Does this game have multiplayer mode?   open-ended\n",
       "20157  B009CEM332  - Does this game have multiplayer mode?   open-ended"
      ]
     },
     "execution_count": 30,
     "metadata": {},
     "output_type": "execute_result"
    }
   ],
   "source": [
    "# Duplicate Questions\n",
    "\n",
    "df = question_table.groupby(['questionText']).count()\n",
    "df[df.asin > 9]\n",
    "question_table[question_table.questionText == '- Does this game have multiplayer mode?']"
   ]
  },
  {
   "cell_type": "code",
   "execution_count": 31,
   "metadata": {},
   "outputs": [
    {
     "data": {
      "image/png": "[encoded data removed]",
      "text/plain": [
       "<matplotlib.figure.Figure at 0x111a7d320>"
      ]
     },
     "metadata": {},
     "output_type": "display_data"
    }
   ],
   "source": [
    "# Category Level Analysis\n",
    "import matplotlib.pyplot as plt\n",
    "\n",
    "plt.hist(question_table.groupby(['asin']).count()['questionText'])\n",
    "# question_table.groupby(['asin']).count()['questionText'].plot(kind='bar')\n",
    "plt.show()"
   ]
  },
  {
   "cell_type": "code",
   "execution_count": 33,
   "metadata": {},
   "outputs": [
    {
     "data": {
      "text/html": [
       "<div>\n",
       "<style scoped>\n",
       "    .dataframe tbody tr th:only-of-type {\n",
       "        vertical-align: middle;\n",
       "    }\n",
       "\n",
       "    .dataframe tbody tr th {\n",
       "        vertical-align: top;\n",
       "    }\n",
       "\n",
       "    .dataframe thead th {\n",
       "        text-align: right;\n",
       "    }\n",
       "</style>\n",
       "<table border=\"1\" class=\"dataframe\">\n",
       "  <thead>\n",
       "    <tr style=\"text-align: right;\">\n",
       "      <th></th>\n",
       "      <th>Num Products</th>\n",
       "      <th>Num Questions</th>\n",
       "      <th>Num Answers</th>\n",
       "      <th>Num Yes/No Questions</th>\n",
       "      <th>Num Open Ended Questions</th>\n",
       "      <th>Num Reviews</th>\n",
       "      <th>Avg Reviews Per Product</th>\n",
       "      <th>Avg Questions Per Product</th>\n",
       "      <th>Avg Answers Per Question</th>\n",
       "      <th>Num Duplicate Questions</th>\n",
       "    </tr>\n",
       "  </thead>\n",
       "  <tbody>\n",
       "    <tr>\n",
       "      <th>Video_Games</th>\n",
       "      <td>827</td>\n",
       "      <td>5622</td>\n",
       "      <td>21046</td>\n",
       "      <td>1016</td>\n",
       "      <td>4606</td>\n",
       "      <td>41384</td>\n",
       "      <td>50.041112</td>\n",
       "      <td>6.798065</td>\n",
       "      <td>3.806475</td>\n",
       "      <td>70</td>\n",
       "    </tr>\n",
       "  </tbody>\n",
       "</table>\n",
       "</div>"
      ],
      "text/plain": [
       "             Num Products  Num Questions  Num Answers  Num Yes/No Questions  \\\n",
       "Video_Games           827           5622        21046                  1016   \n",
       "\n",
       "             Num Open Ended Questions  Num Reviews  Avg Reviews Per Product  \\\n",
       "Video_Games                      4606        41384                50.041112   \n",
       "\n",
       "             Avg Questions Per Product  Avg Answers Per Question  \\\n",
       "Video_Games                   6.798065                  3.806475   \n",
       "\n",
       "             Num Duplicate Questions  \n",
       "Video_Games                       70  "
      ]
     },
     "execution_count": 33,
     "metadata": {},
     "output_type": "execute_result"
    }
   ],
   "source": [
    "def data_stats():\n",
    "    rows = []\n",
    "    for category in [VIDEO_GAMES]:\n",
    "        rows.append(get_category_stats(category))\n",
    "    return pd.DataFrame(rows, columns=[\n",
    "        'Num Products',\n",
    "        'Num Questions',\n",
    "        'Num Answers',\n",
    "        'Num Yes/No Questions',\n",
    "        'Num Open Ended Questions',\n",
    "        'Num Reviews',\n",
    "        'Avg Reviews Per Product',\n",
    "        'Avg Questions Per Product',\n",
    "        'Avg Answers Per Question',\n",
    "        'Num Duplicate Questions',\n",
    "    ], index = [VIDEO_GAMES])\n",
    "\n",
    "data_stats()"
   ]
  },
  {
   "cell_type": "code",
   "execution_count": null,
   "metadata": {},
   "outputs": [],
   "source": []
  }
 ],
 "metadata": {
  "kernelspec": {
   "display_name": "Python 3",
   "language": "python",
   "name": "python3"
  },
  "language_info": {
   "codemirror_mode": {
    "name": "ipython",
    "version": 3
   },
   "file_extension": ".py",
   "mimetype": "text/x-python",
   "name": "python",
   "nbconvert_exporter": "python",
   "pygments_lexer": "ipython3",
   "version": "3.6.4"
  }
 },
 "nbformat": 4,
 "nbformat_minor": 2
}
