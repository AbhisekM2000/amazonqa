{
 "cells": [
  {
   "cell_type": "code",
   "execution_count": 8,
   "metadata": {},
   "outputs": [],
   "source": [
    "run ../utils/preprocess.py"
   ]
  },
  {
   "cell_type": "code",
   "execution_count": 9,
   "metadata": {},
   "outputs": [
    {
     "ename": "ModuleNotFoundError",
     "evalue": "No module named 'matplotlib'",
     "output_type": "error",
     "traceback": [
      "\u001b[0;31m---------------------------------------------------------------------------\u001b[0m",
      "\u001b[0;31mModuleNotFoundError\u001b[0m                       Traceback (most recent call last)",
      "\u001b[0;32m<ipython-input-9-6ea0ad852efb>\u001b[0m in \u001b[0;36m<module>\u001b[0;34m()\u001b[0m\n\u001b[1;32m      1\u001b[0m \u001b[0;32mimport\u001b[0m \u001b[0mconstants\u001b[0m \u001b[0;32mas\u001b[0m \u001b[0mC\u001b[0m\u001b[0;34m\u001b[0m\u001b[0m\n\u001b[1;32m      2\u001b[0m \u001b[0;34m\u001b[0m\u001b[0m\n\u001b[0;32m----> 3\u001b[0;31m \u001b[0;32mimport\u001b[0m \u001b[0mmatplotlib\u001b[0m\u001b[0;34m.\u001b[0m\u001b[0mpyplot\u001b[0m \u001b[0;32mas\u001b[0m \u001b[0mplt\u001b[0m\u001b[0;34m\u001b[0m\u001b[0m\n\u001b[0m",
      "\u001b[0;31mModuleNotFoundError\u001b[0m: No module named 'matplotlib'"
     ]
    }
   ],
   "source": [
    "import constants as C\n",
    "\n",
    "import matplotlib.pyplot as plt"
   ]
  },
  {
   "cell_type": "code",
   "execution_count": null,
   "metadata": {
    "collapsed": true
   },
   "outputs": [],
   "source": [
    "def tables_from_category(category):\n",
    "    with open('../../data/pickle_files/%s.pickle' % category, 'rb') as f:\n",
    "        return pickle.load(f)\n",
    "\n",
    "qa_table, reviews_table = tables_from_category(C.VIDEO_GAMES)"
   ]
  },
  {
   "cell_type": "markdown",
   "metadata": {},
   "source": [
    "#Question with maximum length"
   ]
  },
  {
   "cell_type": "code",
   "execution_count": null,
   "metadata": {
    "collapsed": true
   },
   "outputs": [],
   "source": [
    "mask = qa_table['questionText'].str.len() == 20\n",
    "result = qa_table.loc[mask]['questionText']\n",
    "question = result.iloc[1]"
   ]
  },
  {
   "cell_type": "code",
   "execution_count": null,
   "metadata": {
    "collapsed": true
   },
   "outputs": [],
   "source": [
    "print question"
   ]
  },
  {
   "cell_type": "code",
   "execution_count": null,
   "metadata": {
    "collapsed": true
   },
   "outputs": [],
   "source": [
    "stopset_u = set(stopwords.words('english'))\n",
    "stopset = set([str(sw) for sw in stopset_u])\n",
    "\n",
    "tokens = nltk.word_tokenize(question)\n",
    "tokens = [w.lower() for w in tokens if not w.lower() in stopset]\n",
    "\n",
    "print len(tokens)"
   ]
  },
  {
   "cell_type": "markdown",
   "metadata": {},
   "source": [
    "#Questions containing \"Read More\""
   ]
  },
  {
   "cell_type": "code",
   "execution_count": null,
   "metadata": {
    "collapsed": true
   },
   "outputs": [],
   "source": [
    "mask = qa_table['answerText'].str.contains(\"Read More\")\n",
    "result = qa_table.loc[mask]['questionText']"
   ]
  },
  {
   "cell_type": "code",
   "execution_count": null,
   "metadata": {
    "collapsed": true
   },
   "outputs": [],
   "source": []
  },
  {
   "cell_type": "code",
   "execution_count": null,
   "metadata": {
    "collapsed": true
   },
   "outputs": [],
   "source": [
    "#Preprocess"
   ]
  },
  {
   "cell_type": "code",
   "execution_count": null,
   "metadata": {
    "collapsed": true
   },
   "outputs": [],
   "source": []
  },
  {
   "cell_type": "code",
   "execution_count": null,
   "metadata": {
    "collapsed": true
   },
   "outputs": [],
   "source": [
    "reviewsLengthList, questionsLengthList, answersLengthList = generate_length_lists(C.VIDEO_GAMES)"
   ]
  },
  {
   "cell_type": "code",
   "execution_count": null,
   "metadata": {
    "collapsed": true
   },
   "outputs": [],
   "source": []
  },
  {
   "cell_type": "code",
   "execution_count": null,
   "metadata": {},
   "outputs": [],
   "source": [
    "df = get_raw_dataframe(C.VIDEO_GAMES)"
   ]
  },
  {
   "cell_type": "code",
   "execution_count": null,
   "metadata": {},
   "outputs": [],
   "source": [
    "len(df)"
   ]
  },
  {
   "cell_type": "code",
   "execution_count": null,
   "metadata": {},
   "outputs": [],
   "source": [
    "item = C.LENGTH_DICT[16]\n",
    "C.JSON_DATA_PATH = '../../data/json_data'\n",
    "C.INPUT_DATA_PATH = '../../data/input'"
   ]
  },
  {
   "cell_type": "code",
   "execution_count": null,
   "metadata": {},
   "outputs": [],
   "source": [
    "filter_raw_data(item['Category'], item['ReviewLength'], item['QuestionLength'], item['AnswerLength'])"
   ]
  },
  {
   "cell_type": "code",
   "execution_count": null,
   "metadata": {},
   "outputs": [],
   "source": []
  },
  {
   "cell_type": "code",
   "execution_count": null,
   "metadata": {},
   "outputs": [],
   "source": [
    "pd = get_filter_dataframe(C.VIDEO_GAMES)"
   ]
  },
  {
   "cell_type": "code",
   "execution_count": null,
   "metadata": {},
   "outputs": [],
   "source": [
    "pd.head()"
   ]
  },
  {
   "cell_type": "code",
   "execution_count": null,
   "metadata": {
    "collapsed": true
   },
   "outputs": [],
   "source": []
  },
  {
   "cell_type": "code",
   "execution_count": 16,
   "metadata": {},
   "outputs": [],
   "source": [
    "category = \"Video_Games\"\n",
    "C.INPUT_DATA_PATH = '../../data/input'\n",
    "with open('%s/train-%s.pickle' % (C.INPUT_DATA_PATH, category), 'rb') as f:\n",
    "    train_data = pd.read_pickle(f)"
   ]
  },
  {
   "cell_type": "code",
   "execution_count": 31,
   "metadata": {},
   "outputs": [
    {
     "data": {
      "text/html": [
       "<div>\n",
       "<style scoped>\n",
       "    .dataframe tbody tr th:only-of-type {\n",
       "        vertical-align: middle;\n",
       "    }\n",
       "\n",
       "    .dataframe tbody tr th {\n",
       "        vertical-align: top;\n",
       "    }\n",
       "\n",
       "    .dataframe thead th {\n",
       "        text-align: right;\n",
       "    }\n",
       "</style>\n",
       "<table border=\"1\" class=\"dataframe\">\n",
       "  <thead>\n",
       "    <tr style=\"text-align: right;\">\n",
       "      <th></th>\n",
       "      <th>asin</th>\n",
       "      <th>questionsList</th>\n",
       "      <th>reviewsList</th>\n",
       "    </tr>\n",
       "  </thead>\n",
       "  <tbody>\n",
       "    <tr>\n",
       "      <th>291</th>\n",
       "      <td>B006PP4136</td>\n",
       "      <td>[{'text': 'Does the screen protector also fit ...</td>\n",
       "      <td>[{'unhelpful': 0, 'text': 'todos los productos...</td>\n",
       "    </tr>\n",
       "    <tr>\n",
       "      <th>473</th>\n",
       "      <td>B0098EVZZ8</td>\n",
       "      <td>[{'text': 'New to all of this...can you use on...</td>\n",
       "      <td>[{'unhelpful': 2, 'text': 'This pack infuses c...</td>\n",
       "    </tr>\n",
       "    <tr>\n",
       "      <th>214</th>\n",
       "      <td>B00BHISQMI</td>\n",
       "      <td>[{'text': 'Will the Wii pad still fit if it ha...</td>\n",
       "      <td>[{'unhelpful': 1, 'text': 'I wish I bought thi...</td>\n",
       "    </tr>\n",
       "    <tr>\n",
       "      <th>699</th>\n",
       "      <td>B0050SY77E</td>\n",
       "      <td>[{'text': 'Will I have to have played 1 &amp; 2 in...</td>\n",
       "      <td>[{'unhelpful': 1, 'text': 'This game has every...</td>\n",
       "    </tr>\n",
       "    <tr>\n",
       "      <th>195</th>\n",
       "      <td>B006PP404Q</td>\n",
       "      <td>[{'text': 'does this fit the ps vita 2001?', '...</td>\n",
       "      <td>[{'unhelpful': 4, 'text': 'So, I was very skep...</td>\n",
       "    </tr>\n",
       "  </tbody>\n",
       "</table>\n",
       "</div>"
      ],
      "text/plain": [
       "           asin                                      questionsList  \\\n",
       "291  B006PP4136  [{'text': 'Does the screen protector also fit ...   \n",
       "473  B0098EVZZ8  [{'text': 'New to all of this...can you use on...   \n",
       "214  B00BHISQMI  [{'text': 'Will the Wii pad still fit if it ha...   \n",
       "699  B0050SY77E  [{'text': 'Will I have to have played 1 & 2 in...   \n",
       "195  B006PP404Q  [{'text': 'does this fit the ps vita 2001?', '...   \n",
       "\n",
       "                                           reviewsList  \n",
       "291  [{'unhelpful': 0, 'text': 'todos los productos...  \n",
       "473  [{'unhelpful': 2, 'text': 'This pack infuses c...  \n",
       "214  [{'unhelpful': 1, 'text': 'I wish I bought thi...  \n",
       "699  [{'unhelpful': 1, 'text': 'This game has every...  \n",
       "195  [{'unhelpful': 4, 'text': 'So, I was very skep...  "
      ]
     },
     "execution_count": 31,
     "metadata": {},
     "output_type": "execute_result"
    }
   ],
   "source": [
    "train_data.head()"
   ]
  },
  {
   "cell_type": "code",
   "execution_count": 30,
   "metadata": {},
   "outputs": [
    {
     "name": "stdout",
     "output_type": "stream",
     "text": [
      "[{'text': 'Does the screen protector also fit on the ps vita 2000/slim?', 'type': 'open-ended', 'answers': [{'unhelpful': 0, 'text': \"I don't know for sure, but it would probably work. I would think it would be harder to overlay on the screen though, since you use the buttons on the right to line up the film before you place it.\", 'helpful': 0, 'time': 'May 11, 2014'}, {'unhelpful': 0, 'text': \"I'm pretty sure. Check the specs to make sure te screen sizes are the same but other wise I think so. The button layouts look to be exactly alike.\", 'helpful': 0, 'time': 'June 10, 2014'}], 'time': 'May 11, 2014'}, {'text': 'Is this starter kit made for the Original PS Vita or the PS Vita 2000/Slim?', 'type': 'open-ended', 'answers': [{'unhelpful': 1, 'text': \"Original... The slim version didn't even exist by the time I bought this product.\", 'helpful': 1, 'time': 'June 18, 2014'}], 'time': 'June 18, 2014'}, {'text': 'Would a ps vita slim fit in this case?', 'type': 'open-ended', 'answers': [{'unhelpful': 1, 'text': \"Yep that's what I bought it for.  Works good for a thin sided carrying case\", 'helpful': 1, 'time': 'October 27, 2014'}, {'unhelpful': 0, 'text': 'Yeah I think so..', 'helpful': 0, 'time': 'October 27, 2014'}, {'unhelpful': 0, 'text': 'Most definitely would since slim is just skinnier than the regular. It will possibly be a little loose on the top section but should hold up just fine.', 'helpful': 0, 'time': 'October 27, 2014'}, {'unhelpful': 0, 'text': 'I have the first generation PS Vita, it looks good; for the second generation I think it would be a great thing because that version is a little thinner but you should have no problem using it.', 'helpful': 0, 'time': 'October 27, 2014'}, {'unhelpful': 0, 'text': 'Yes, it fits in perfectly.', 'helpful': 0, 'time': 'October 27, 2014'}], 'time': 'October 27, 2014'}, {'text': 'Can the PSVita fit in it?', 'type': 'open-ended', 'answers': [{'unhelpful': 1, 'text': 'Yes the Vita fits perfect in the soft cover case. The cards fit in the hard case that comes with this kit.', 'helpful': 1, 'time': 'January 13, 2015'}, {'unhelpful': 1, 'text': 'Yep! Fits just fine. However I must warn you that it only protects the Vita from scratches and minor things. There is no hard shell to keep it from shattering if dropped from a high height.', 'helpful': 1, 'time': 'January 13, 2015'}, {'unhelpful': 0, 'text': 'Yes', 'helpful': 0, 'time': 'January 13, 2015'}], 'time': 'January 13, 2015'}]\n",
      "I don't know for sure, but it would probably work. I would think it would be harder to overlay on the screen though, since you use the buttons on the right to line up the film before you place it.\n",
      "I'm pretty sure. Check the specs to make sure te screen sizes are the same but other wise I think so. The button layouts look to be exactly alike.\n",
      "Original... The slim version didn't even exist by the time I bought this product.\n",
      "Yep that's what I bought it for.  Works good for a thin sided carrying case\n",
      "Yeah I think so..\n",
      "Most definitely would since slim is just skinnier than the regular. It will possibly be a little loose on the top section but should hold up just fine.\n",
      "I have the first generation PS Vita, it looks good; for the second generation I think it would be a great thing because that version is a little thinner but you should have no problem using it.\n",
      "Yes, it fits in perfectly.\n",
      "Yes the Vita fits perfect in the soft cover case. The cards fit in the hard case that comes with this kit.\n",
      "Yep! Fits just fine. However I must warn you that it only protects the Vita from scratches and minor things. There is no hard shell to keep it from shattering if dropped from a high height.\n",
      "Yes\n",
      "[{'text': 'New to all of this...can you use on PS3?', 'type': 'yes/no', 'answers': [{'unhelpful': 1, 'text': 'You have to have the game specific to your system, but the figures, adventure packs and battle packs will work on any game system.', 'helpful': 1, 'time': 'December 2, 2013'}, {'unhelpful': 1, 'text': 'Yes but you have to buy a PS3 game and portal. The characters can be used on all consoles.', 'helpful': 1, 'time': 'December 3, 2013'}, {'unhelpful': 0, 'text': 'yea you can', 'helpful': 0, 'time': 'December 2, 2013'}, {'unhelpful': 0, 'text': 'as far as i know yes', 'helpful': 0, 'time': 'December 4, 2013'}, {'unhelpful': 1, 'text': 'Not sure. I bought it as a gift.', 'helpful': 0, 'time': 'December 2, 2013'}], 'time': 'December 2, 2013'}, {'text': 'Which gaming system is this pack compatible with?', 'type': 'open-ended', 'answers': [{'unhelpful': 3, 'text': \"I believe it's not system specific. As long as you have a portal and skylanders giants it should be fine. My son uses it on Wii.\", 'helpful': 3, 'time': 'December 3, 2013'}, {'unhelpful': 3, 'text': 'Not game console specific. Works on all game consoles.', 'helpful': 2, 'time': 'December 2, 2013'}, {'unhelpful': 0, 'text': 'we got it for the Xbox 360. works great', 'helpful': 0, 'time': 'December 2, 2013'}, {'unhelpful': 0, 'text': 'This purchase was for my 2 grand children and I believe they have the newest X-Box.', 'helpful': 0, 'time': 'December 3, 2013'}, {'unhelpful': 0, 'text': 'X-Box 360 is the correct answer, and is  no longer the newest system the \"X-Box ONE\" is the newest.  I asked to make sure.', 'helpful': 0, 'time': 'December 3, 2013'}, {'unhelpful': 0, 'text': 'You need a device that comes with the Skylander Giants game, which is available in all consoles.', 'helpful': 0, 'time': 'January 18, 2014'}, {'unhelpful': 0, 'text': 'does it work with Xbox one,once i already have the portal.Thank you in advence for your help.Betty.', 'helpful': 0, 'time': 'August 17, 2014'}, {'unhelpful': 1, 'text': \"I played it on xbox 360 and I think it's available for wii\", 'helpful': 0, 'time': 'December 2, 2013'}], 'time': 'December 2, 2013'}, {'text': 'will these work with the Wii game', 'type': 'yes/no', 'answers': [{'unhelpful': 1, 'text': 'Yes. As long as your playing skylanders giants. These will work with skylanders giants on any system.', 'helpful': 1, 'time': 'December 4, 2013'}, {'unhelpful': 1, 'text': \"Yes...each figure are compatible with all skylander giants gaming system. The portal is what differs...some skylanders giants figures are also compatible with skylanders spyro's adventure.\", 'helpful': 1, 'time': 'December 4, 2013'}, {'unhelpful': 1, 'text': 'They will work with any system. But the games they can be played on are the skylanders version they are released on and any newer versions. The \"Series\" characters are backwards compatible which allow them to be played on the previous versions of the game. Currently there are 3 games. Spyros adventure, giants, and swap force.', 'helpful': 1, 'time': 'December 4, 2013'}, {'unhelpful': 0, 'text': 'Yes, they will.', 'helpful': 0, 'time': 'December 4, 2013'}, {'unhelpful': 0, 'text': 'Yes the characters will work with any system', 'helpful': 0, 'time': 'December 4, 2013'}, {'unhelpful': 0, 'text': 'Yes, I use them with my Wii version of Skylanders Giants.', 'helpful': 0, 'time': 'December 5, 2013'}, {'unhelpful': 0, 'text': 'Will they work with the ipad', 'helpful': 0, 'time': 'December 6, 2013'}], 'time': 'December 4, 2013'}, {'text': \"My grandson asked for these figures and I'm really confused. Do you have to have a game system to play with these?\", 'type': 'open-ended', 'answers': [{'unhelpful': 0, 'text': 'Yes-you need the Skylanders portal and game and system such as Wii, Playstation or Xbox.  Make sure you know if Skylanders Giants or Trapteam or Swap Force is actual game he has, as figures only work on certain games.   Hope this helps.', 'helpful': 0, 'time': 'December 15, 2014'}, {'unhelpful': 0, 'text': 'Yes they go with the skylanders game on wii xbox playstation etc.', 'helpful': 0, 'time': 'December 15, 2014'}, {'unhelpful': 0, 'text': 'Sorry, no clue...gave to my grandson a while ago.', 'helpful': 0, 'time': 'December 19, 2014'}], 'time': 'December 14, 2014'}, {'text': \"Can Chop Chop be used for spyro's adventure, being that he was in the original spyro's adventure game? I understand that shroom boom wouldn't work.\", 'type': 'yes/no', 'answers': [{'unhelpful': 0, 'text': \"The figure was a gift for my grandson and I know absolutely nothing about the characters or games.  I'm sorry I can't answer your question. You might Google the question to see if it will work.  Thanks.\", 'helpful': 0, 'time': 'October 2, 2014'}, {'unhelpful': 0, 'text': \"Chop chop does work on spyro :) we have spyro's adventure and giants and he works with both.\", 'helpful': 0, 'time': 'October 2, 2014'}], 'time': 'October 1, 2014'}, {'text': 'Do these work with the skylander giants battle arena?', 'type': 'open-ended', 'answers': [{'unhelpful': 0, 'text': \"Yes they do!  As they come out with new game the old skylanders still work even with the new game.  The new one just don't work with the old games.  Example you can't use a swapforce with the giants game but you can use and skylander on the swapforce game.  Hope that helps.\", 'helpful': 0, 'time': 'December 13, 2013'}, {'unhelpful': 0, 'text': 'Yes they do!', 'helpful': 0, 'time': 'December 13, 2013'}], 'time': 'December 13, 2013'}, {'text': 'Is Battle Pack#1 compatible with the PC version? I would hate to make this purchase for nothing.', 'type': 'open-ended', 'answers': [{'unhelpful': 0, 'text': \"I'm really not sure ,sorry I can't help .\", 'helpful': 0, 'time': 'November 24, 2013'}, {'unhelpful': 0, 'text': \"I'm  not 100% on that, as far as I know all the giants figures work on all systems. We have it for wii\", 'helpful': 0, 'time': 'November 24, 2013'}], 'time': 'November 24, 2013'}]\n",
      "You have to have the game specific to your system, but the figures, adventure packs and battle packs will work on any game system.\n",
      "Yes but you have to buy a PS3 game and portal. The characters can be used on all consoles.\n",
      "yea you can\n",
      "as far as i know yes\n",
      "Not sure. I bought it as a gift.\n",
      "I believe it's not system specific. As long as you have a portal and skylanders giants it should be fine. My son uses it on Wii.\n",
      "Not game console specific. Works on all game consoles.\n",
      "we got it for the Xbox 360. works great\n",
      "This purchase was for my 2 grand children and I believe they have the newest X-Box.\n",
      "X-Box 360 is the correct answer, and is  no longer the newest system the \"X-Box ONE\" is the newest.  I asked to make sure.\n",
      "You need a device that comes with the Skylander Giants game, which is available in all consoles.\n",
      "does it work with Xbox one,once i already have the portal.Thank you in advence for your help.Betty.\n",
      "I played it on xbox 360 and I think it's available for wii\n",
      "Yes. As long as your playing skylanders giants. These will work with skylanders giants on any system.\n",
      "Yes...each figure are compatible with all skylander giants gaming system. The portal is what differs...some skylanders giants figures are also compatible with skylanders spyro's adventure.\n",
      "They will work with any system. But the games they can be played on are the skylanders version they are released on and any newer versions. The \"Series\" characters are backwards compatible which allow them to be played on the previous versions of the game. Currently there are 3 games. Spyros adventure, giants, and swap force.\n",
      "Yes, they will.\n",
      "Yes the characters will work with any system\n",
      "Yes, I use them with my Wii version of Skylanders Giants.\n",
      "Will they work with the ipad\n",
      "Yes-you need the Skylanders portal and game and system such as Wii, Playstation or Xbox.  Make sure you know if Skylanders Giants or Trapteam or Swap Force is actual game he has, as figures only work on certain games.   Hope this helps.\n",
      "Yes they go with the skylanders game on wii xbox playstation etc.\n",
      "Sorry, no clue...gave to my grandson a while ago.\n",
      "The figure was a gift for my grandson and I know absolutely nothing about the characters or games.  I'm sorry I can't answer your question. You might Google the question to see if it will work.  Thanks.\n",
      "Chop chop does work on spyro :) we have spyro's adventure and giants and he works with both.\n",
      "Yes they do!  As they come out with new game the old skylanders still work even with the new game.  The new one just don't work with the old games.  Example you can't use a swapforce with the giants game but you can use and skylander on the swapforce game.  Hope that helps.\n",
      "Yes they do!\n",
      "I'm really not sure ,sorry I can't help .\n",
      "I'm  not 100% on that, as far as I know all the giants figures work on all systems. We have it for wii\n",
      "[{'text': 'Will the Wii pad still fit if it has a silicon jacket/protector on?Thank you!', 'type': 'open-ended', 'answers': [{'unhelpful': 3, 'text': 'No', 'helpful': 3, 'time': 'November 23, 2014'}, {'unhelpful': 1, 'text': 'No', 'helpful': 1, 'time': 'November 23, 2014'}, {'unhelpful': 1, 'text': 'No', 'helpful': 1, 'time': 'November 23, 2014'}, {'unhelpful': 1, 'text': 'No', 'helpful': 1, 'time': 'December 7, 2014'}], 'time': 'November 23, 2014'}, {'text': 'Does this device come with the chargeable backs to the Wii remotes, and how many Wii remotes does it carry?', 'type': 'open-ended', 'answers': [{'unhelpful': 1, 'text': 'Yes it has all you need to recharge 2 Wii remotes.', 'helpful': 1, 'time': 'July 28, 2014'}, {'unhelpful': 1, 'text': 'Yes.  It has chargeable backs and room to charge 2 wii motes,', 'helpful': 1, 'time': 'July 28, 2014'}, {'unhelpful': 1, 'text': 'Yes,  for two wii motes.', 'helpful': 1, 'time': 'July 28, 2014'}, {'unhelpful': 0, 'text': \"It holds 2 wiimotes 1pro controller and the game pad. Mine didn't come with battery packs I ordered them separately.\", 'helpful': 0, 'time': 'July 29, 2014'}], 'time': 'July 28, 2014'}, {'text': 'Compatible with Will U Remote Plus or the old Wii Remote Controller?', 'type': 'open-ended', 'answers': [{'unhelpful': 1, 'text': 'Yeah it is compatible with both the remote plus  and the regular/old one.', 'helpful': 1, 'time': 'February 11, 2015'}, {'unhelpful': 1, 'text': 'It works with the Wii plus controller as well as the other', 'helpful': 1, 'time': 'February 11, 2015'}], 'time': 'February 11, 2015'}, {'text': 'four batteries?! two for each remote?! or just two batteries for one remote?!', 'type': 'open-ended', 'answers': [{'unhelpful': 1, 'text': 'There is only one battery for each Wii mote that it can charge. So two batteries total', 'helpful': 1, 'time': 'February 14, 2015'}, {'unhelpful': 1, 'text': \"This Base charging station gets plugged into a regular outlet. The units that you're looking to charge should have rechargeable batteries in them.\", 'helpful': 1, 'time': 'February 14, 2015'}, {'unhelpful': 1, 'text': 'Only one battery is needed for each wiimote control.  So,  two batteries = two controllers.', 'helpful': 1, 'time': 'February 16, 2015'}], 'time': 'February 14, 2015'}, {'text': 'dose this have a console ??', 'type': 'open-ended', 'answers': [{'unhelpful': 0, 'text': 'it looks exactly as in the picture, so yes.  My grandson loves it', 'helpful': 0, 'time': 'May 9, 2015'}], 'time': 'May 8, 2015'}, {'text': 'Does the dock charge a mini controller?', 'type': 'open-ended', 'answers': [{'unhelpful': 0, 'text': 'Mini controller?   Not sure what is meant here, but it charges 2x wiimotes, a Wii u gamepad, and a pro controller simultaneously.  Hope this helps', 'helpful': 0, 'time': 'January 5, 2015'}, {'unhelpful': 0, 'text': 'It will charge two Wii Remotes the Gamepad and a Wireless Pro Controller all at the same time. The Wireless Pro Controller is a standard USB(a) plug it seems.', 'helpful': 0, 'time': 'January 5, 2015'}], 'time': 'January 3, 2015'}]\n",
      "No\n",
      "No\n",
      "No\n",
      "No\n",
      "Yes it has all you need to recharge 2 Wii remotes.\n",
      "Yes.  It has chargeable backs and room to charge 2 wii motes,\n",
      "Yes,  for two wii motes.\n",
      "It holds 2 wiimotes 1pro controller and the game pad. Mine didn't come with battery packs I ordered them separately.\n",
      "Yeah it is compatible with both the remote plus  and the regular/old one.\n",
      "It works with the Wii plus controller as well as the other\n",
      "There is only one battery for each Wii mote that it can charge. So two batteries total\n",
      "This Base charging station gets plugged into a regular outlet. The units that you're looking to charge should have rechargeable batteries in them.\n",
      "Only one battery is needed for each wiimote control.  So,  two batteries = two controllers.\n",
      "it looks exactly as in the picture, so yes.  My grandson loves it\n",
      "Mini controller?   Not sure what is meant here, but it charges 2x wiimotes, a Wii u gamepad, and a pro controller simultaneously.  Hope this helps\n",
      "It will charge two Wii Remotes the Gamepad and a Wireless Pro Controller all at the same time. The Wireless Pro Controller is a standard USB(a) plug it seems.\n",
      "[{'text': 'Will I have to have played 1 & 2 in order to follow the story?', 'type': 'open-ended', 'answers': [{'unhelpful': 1, 'text': \"I picked up the story after a few minutes. They pretty much flash back the entirety of the first two games. The story however isn't really that relevant to the game play.\", 'helpful': 1, 'time': 'May 11, 2014'}, {'unhelpful': 0, 'text': 'No my friend, they are independent.', 'helpful': 0, 'time': 'May 11, 2014'}], 'time': 'May 11, 2014'}, {'text': 'How long is this  campaign?', 'type': 'open-ended', 'answers': [{'unhelpful': 1, 'text': \"If you take the game seriously and don't run through it like an idiot then it should last you about 7 1/2 hours, by that i mean, using cover, scanning around, using some stealth, thats how much time i got\", 'helpful': 1, 'time': 'May 7, 2014'}, {'unhelpful': 0, 'text': \"Pretty long. Have you played Crysis 2? If so it's about just as long.\", 'helpful': 0, 'time': 'May 7, 2014'}, {'unhelpful': 0, 'text': \"If you've played any of the series, the campaign is fairly long, as those. I would guess, 4-5 hours.\", 'helpful': 0, 'time': 'May 7, 2014'}, {'unhelpful': 0, 'text': \"If you play non-stop, then it's about 6 to 7 hours. It is much easier than Crysis 2. It's an excellent game but the 1st one was a lot better.\", 'helpful': 0, 'time': 'May 7, 2014'}, {'unhelpful': 0, 'text': 'Cant remember the amount of hours. Probably 9-10 hours or so, although I like to explore all areas of the map and kill everything possible.  I do remember it being somewhat of a challenge (in an enjoyable way) on the regular setting.', 'helpful': 0, 'time': 'May 7, 2014'}], 'time': 'May 7, 2014'}, {'text': 'Does this game have English subtitles?', 'type': 'open-ended', 'answers': [{'unhelpful': 1, 'text': 'Yes, for most of the game play it does.', 'helpful': 1, 'time': 'March 26, 2015'}, {'unhelpful': 1, 'text': 'Yes it does.', 'helpful': 1, 'time': 'March 26, 2015'}], 'time': 'March 26, 2015'}, {'text': 'In the game stills, I can see the playable character. Does this mean it has a 3rd person view option?', 'type': 'open-ended', 'answers': [{'unhelpful': 0, 'text': 'SADLY NO, perhaps but its only when you killed online like in battlefield', 'helpful': 0, 'time': 'August 29, 2014'}, {'unhelpful': 0, 'text': 'no, this game does not include 3rd person view.', 'helpful': 0, 'time': 'September 4, 2014'}], 'time': 'August 28, 2014'}, {'text': 'how much blood', 'type': 'open-ended', 'answers': [{'unhelpful': 0, 'text': 'Very little....you can handle it.', 'helpful': 0, 'time': 'August 4, 2014'}, {'unhelpful': 0, 'text': \"There's a little bit of blood. If you're looking for a bloody game gears of war (This is according to my son).\", 'helpful': 0, 'time': 'August 5, 2014'}], 'time': 'August 4, 2014'}, {'text': 'Is this the Hunter Edition like on the picture used?', 'type': 'open-ended', 'answers': [{'unhelpful': 0, 'text': 'Yes, the hunter edition looks and plays better than what you see.', 'helpful': 0, 'time': 'June 27, 2014'}, {'unhelpful': 0, 'text': 'Yes if you switch to the arrow position.', 'helpful': 0, 'time': 'July 8, 2014'}], 'time': 'June 27, 2014'}, {'text': 'do you need a code like most EA games to play the multiplayer', 'type': 'yes/no', 'answers': [{'unhelpful': 1, 'text': \"No code need since ea stopped that policy' I thought you meant predator edition extra code. No you don't need it because ea stopped that policy so that means any ea game is playable without a code.\", 'helpful': 1, 'time': 'June 25, 2014'}, {'unhelpful': 0, 'text': 'Nope!', 'helpful': 0, 'time': 'June 26, 2014'}, {'unhelpful': 1, 'text': 'No thank you code were valid. They work, thank you anyway.', 'helpful': 0, 'time': 'June 25, 2014'}], 'time': 'June 25, 2014'}, {'text': 'is crysis 3 a multiplayer game?', 'type': 'yes/no', 'answers': [{'unhelpful': 0, 'text': 'Not the regular game.  I am not sure if the XBox live version is.  I do not have XBox live.', 'helpful': 0, 'time': 'May 21, 2014'}], 'time': 'May 21, 2014'}, {'text': 'does this game have a multi player mode', 'type': 'yes/no', 'answers': [{'unhelpful': 1, 'text': 'Yes it does just that the lobbies are pretty empty now. Not a lot of people play the multiplayer anymore but you can get lucky to meet a few players there. You can also arrange games with your friends who have the game too. Hope it helps.', 'helpful': 1, 'time': 'April 13, 2014'}, {'unhelpful': 0, 'text': 'Nope. The game its self is 1 player only.But you can do 2-12 if you run xbox live. Which I dont.', 'helpful': 0, 'time': 'April 13, 2014'}, {'unhelpful': 0, 'text': 'I dont play it but my son does and he said yes it does.', 'helpful': 0, 'time': 'April 14, 2014'}, {'unhelpful': 0, 'text': 'Yes', 'helpful': 0, 'time': 'April 15, 2014'}], 'time': 'April 13, 2014'}]\n",
      "I picked up the story after a few minutes. They pretty much flash back the entirety of the first two games. The story however isn't really that relevant to the game play.\n",
      "No my friend, they are independent.\n",
      "If you take the game seriously and don't run through it like an idiot then it should last you about 7 1/2 hours, by that i mean, using cover, scanning around, using some stealth, thats how much time i got\n",
      "Pretty long. Have you played Crysis 2? If so it's about just as long.\n",
      "If you've played any of the series, the campaign is fairly long, as those. I would guess, 4-5 hours.\n",
      "If you play non-stop, then it's about 6 to 7 hours. It is much easier than Crysis 2. It's an excellent game but the 1st one was a lot better.\n",
      "Cant remember the amount of hours. Probably 9-10 hours or so, although I like to explore all areas of the map and kill everything possible.  I do remember it being somewhat of a challenge (in an enjoyable way) on the regular setting.\n",
      "Yes, for most of the game play it does.\n",
      "Yes it does.\n",
      "SADLY NO, perhaps but its only when you killed online like in battlefield\n",
      "no, this game does not include 3rd person view.\n",
      "Very little....you can handle it.\n",
      "There's a little bit of blood. If you're looking for a bloody game gears of war (This is according to my son).\n",
      "Yes, the hunter edition looks and plays better than what you see.\n",
      "Yes if you switch to the arrow position.\n",
      "No code need since ea stopped that policy' I thought you meant predator edition extra code. No you don't need it because ea stopped that policy so that means any ea game is playable without a code.\n",
      "Nope!\n",
      "No thank you code were valid. They work, thank you anyway.\n",
      "Not the regular game.  I am not sure if the XBox live version is.  I do not have XBox live.\n",
      "Yes it does just that the lobbies are pretty empty now. Not a lot of people play the multiplayer anymore but you can get lucky to meet a few players there. You can also arrange games with your friends who have the game too. Hope it helps.\n",
      "Nope. The game its self is 1 player only.But you can do 2-12 if you run xbox live. Which I dont.\n",
      "I dont play it but my son does and he said yes it does.\n",
      "Yes\n",
      "[{'text': 'does this fit the ps vita 2001?', 'type': 'yes/no', 'answers': [{'unhelpful': 0, 'text': 'yes it does', 'helpful': 0, 'time': 'January 28, 2015'}, {'unhelpful': 0, 'text': 'Yes...  the screen on all the vita are same size... only difference between the newer one is it has a cheaper screen since it does not have oled.', 'helpful': 0, 'time': 'January 28, 2015'}, {'unhelpful': 0, 'text': 'Unfortunately, I dont know. It fits 5\" models, that\\'s all I can say.', 'helpful': 0, 'time': 'January 28, 2015'}, {'unhelpful': 0, 'text': 'Yes,  it covers the screen but not the whole border around it.', 'helpful': 0, 'time': 'January 28, 2015'}, {'unhelpful': 0, 'text': \"If you mean the origin Vita with the LCD screen, then yes, that's actually what I bought it for. And although I bought two just in case the first didn't work, I am still using the first one even now, almost a year later.\", 'helpful': 0, 'time': 'January 29, 2015'}, {'unhelpful': 0, 'text': \"The ps vita wasn't actually released until 2012. If it's a 2012 and later ps vita, this screen protector will fit it. Otherwise, for psp's or other Playstation handheld devices it will depend and this screen protector may not fit.\", 'helpful': 0, 'time': 'January 30, 2015'}, {'unhelpful': 0, 'text': 'yes', 'helpful': 0, 'time': 'June 16, 2015'}], 'time': 'January 28, 2015'}, {'text': 'Will this perfectly fit on PS Vita 2000 (slim)??', 'type': 'open-ended', 'answers': [{'unhelpful': 0, 'text': 'Got about 2mm extra on each side of lines up correctly.', 'helpful': 0, 'time': 'September 8, 2014'}, {'unhelpful': 2, 'text': 'if it has a 5 inch oled screen then it should', 'helpful': 0, 'time': 'September 8, 2014'}], 'time': 'September 8, 2014'}, {'text': 'Would this fit a Vita slim?', 'type': 'open-ended', 'answers': [{'unhelpful': 0, 'text': 'Like a glove', 'helpful': 0, 'time': 'April 29, 2014'}, {'unhelpful': 0, 'text': 'It should cause the screens r the same size', 'helpful': 0, 'time': 'April 29, 2014'}, {'unhelpful': 0, 'text': \"Really can't say since the vita slim is not out for sale in the north America yet. Im sure they will be making one soon for it. But I wouldn't take my chance on it.\", 'helpful': 0, 'time': 'April 29, 2014'}, {'unhelpful': 0, 'text': \"Yes but it won't cover the whole border around the screen.\", 'helpful': 0, 'time': 'April 29, 2014'}, {'unhelpful': 0, 'text': 'I have the \"Walking Dead\" PS Vita so I can\\'t be sure.  I would hate to give misleading information.  Just try it!', 'helpful': 0, 'time': 'May 2, 2014'}], 'time': 'April 29, 2014'}]\n",
      "yes it does\n",
      "Yes...  the screen on all the vita are same size... only difference between the newer one is it has a cheaper screen since it does not have oled.\n",
      "Unfortunately, I dont know. It fits 5\" models, that's all I can say.\n",
      "Yes,  it covers the screen but not the whole border around it.\n",
      "If you mean the origin Vita with the LCD screen, then yes, that's actually what I bought it for. And although I bought two just in case the first didn't work, I am still using the first one even now, almost a year later.\n",
      "The ps vita wasn't actually released until 2012. If it's a 2012 and later ps vita, this screen protector will fit it. Otherwise, for psp's or other Playstation handheld devices it will depend and this screen protector may not fit.\n",
      "yes\n",
      "Got about 2mm extra on each side of lines up correctly.\n",
      "if it has a 5 inch oled screen then it should\n",
      "Like a glove\n",
      "It should cause the screens r the same size\n",
      "Really can't say since the vita slim is not out for sale in the north America yet. Im sure they will be making one soon for it. But I wouldn't take my chance on it.\n",
      "Yes but it won't cover the whole border around the screen.\n",
      "I have the \"Walking Dead\" PS Vita so I can't be sure.  I would hate to give misleading information.  Just try it!\n"
     ]
    }
   ],
   "source": [
    "for questionsList in train_data.head()['questionsList']:\n",
    "    for question in questionsList:\n",
    "        for answer in question['answers']:\n",
    "                print(answer['text'])"
   ]
  },
  {
   "cell_type": "code",
   "execution_count": null,
   "metadata": {},
   "outputs": [],
   "source": []
  }
 ],
 "metadata": {
  "kernelspec": {
   "display_name": "Python 3",
   "language": "python",
   "name": "python3"
  },
  "language_info": {
   "codemirror_mode": {
    "name": "ipython",
    "version": 3
   },
   "file_extension": ".py",
   "mimetype": "text/x-python",
   "name": "python",
   "nbconvert_exporter": "python",
   "pygments_lexer": "ipython3",
   "version": "3.6.4"
  }
 },
 "nbformat": 4,
 "nbformat_minor": 2
}
