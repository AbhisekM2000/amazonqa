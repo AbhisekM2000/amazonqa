{
 "cells": [
  {
   "cell_type": "markdown",
   "metadata": {},
   "source": [
    "# Dataset"
   ]
  },
  {
   "cell_type": "code",
   "execution_count": 3,
   "metadata": {},
   "outputs": [],
   "source": [
    "run ../utils/preprocess.py"
   ]
  },
  {
   "cell_type": "code",
   "execution_count": 6,
   "metadata": {},
   "outputs": [],
   "source": [
    "category = \"Video_Games\"\n",
    "\n",
    "C.INPUT_DATA_PATH = '../../data/input'\n",
    "C.JSON_DATA_PATH = '../../data/json_data'\n",
    "C.QA_DATA_PATH = '../../data/answers_multiple'\n",
    "C.REVIEWS_DATA_PATH = '../../data/reviews_small'"
   ]
  },
  {
   "cell_type": "markdown",
   "metadata": {},
   "source": [
    "#Generate Raw, Filter, Train/Val/Test Datasets"
   ]
  },
  {
   "cell_type": "code",
   "execution_count": 7,
   "metadata": {},
   "outputs": [],
   "source": [
    "generate_raw_data(category)\n",
    "generate_split_data(category)"
   ]
  },
  {
   "cell_type": "code",
   "execution_count": 11,
   "metadata": {},
   "outputs": [],
   "source": [
    "def get_counts(df):\n",
    "    questionId = 0\n",
    "    answerId = 0\n",
    "    for index, row in df.iterrows():\n",
    "        questionsList = row[C.QUESTIONS_LIST]\n",
    "        for question in questionsList:\n",
    "            if C.TEXT in question:\n",
    "                text = question[C.TEXT]\n",
    "                questionId += 1\n",
    "\n",
    "                for answer in question[C.ANSWERS]:\n",
    "                    text = answer[C.TEXT]\n",
    "                    answerId += 1\n",
    "    return questionId, answerId"
   ]
  },
  {
   "cell_type": "code",
   "execution_count": 8,
   "metadata": {},
   "outputs": [],
   "source": [
    "df_raw = get_raw_dataframe(category)"
   ]
  },
  {
   "cell_type": "code",
   "execution_count": 9,
   "metadata": {},
   "outputs": [
    {
     "data": {
      "text/html": [
       "<div>\n",
       "<style scoped>\n",
       "    .dataframe tbody tr th:only-of-type {\n",
       "        vertical-align: middle;\n",
       "    }\n",
       "\n",
       "    .dataframe tbody tr th {\n",
       "        vertical-align: top;\n",
       "    }\n",
       "\n",
       "    .dataframe thead th {\n",
       "        text-align: right;\n",
       "    }\n",
       "</style>\n",
       "<table border=\"1\" class=\"dataframe\">\n",
       "  <thead>\n",
       "    <tr style=\"text-align: right;\">\n",
       "      <th></th>\n",
       "      <th>asin</th>\n",
       "      <th>questionsList</th>\n",
       "      <th>reviewsList</th>\n",
       "    </tr>\n",
       "  </thead>\n",
       "  <tbody>\n",
       "    <tr>\n",
       "      <th>0</th>\n",
       "      <td>B0000512IE</td>\n",
       "      <td>[{'text': 'Can I use these with Window 8/8.1?'...</td>\n",
       "      <td>[{'text': 'I use this product with Microsoft F...</td>\n",
       "    </tr>\n",
       "    <tr>\n",
       "      <th>1</th>\n",
       "      <td>B00006B84X</td>\n",
       "      <td>[{'text': 'CH Fighter Stick vs Saitek X52 Havi...</td>\n",
       "      <td>[{'text': 'Bought this together with the rudde...</td>\n",
       "    </tr>\n",
       "    <tr>\n",
       "      <th>2</th>\n",
       "      <td>B00009W5WB</td>\n",
       "      <td>[{'text': 'Is  this the cable for older style ...</td>\n",
       "      <td>[{'text': 'Much longer than the picture would ...</td>\n",
       "    </tr>\n",
       "    <tr>\n",
       "      <th>3</th>\n",
       "      <td>B00030AX3Q</td>\n",
       "      <td>[{'text': 'does this work with windows 8.1', '...</td>\n",
       "      <td>[{'text': 'I got this controller to play 2D ga...</td>\n",
       "    </tr>\n",
       "    <tr>\n",
       "      <th>4</th>\n",
       "      <td>B000BTBMWA</td>\n",
       "      <td>[{'text': 'Can you fit an HDMI cable under it?...</td>\n",
       "      <td>[{'text': 'Like pretty much all Monster produc...</td>\n",
       "    </tr>\n",
       "  </tbody>\n",
       "</table>\n",
       "</div>"
      ],
      "text/plain": [
       "         asin                                      questionsList  \\\n",
       "0  B0000512IE  [{'text': 'Can I use these with Window 8/8.1?'...   \n",
       "1  B00006B84X  [{'text': 'CH Fighter Stick vs Saitek X52 Havi...   \n",
       "2  B00009W5WB  [{'text': 'Is  this the cable for older style ...   \n",
       "3  B00030AX3Q  [{'text': 'does this work with windows 8.1', '...   \n",
       "4  B000BTBMWA  [{'text': 'Can you fit an HDMI cable under it?...   \n",
       "\n",
       "                                         reviewsList  \n",
       "0  [{'text': 'I use this product with Microsoft F...  \n",
       "1  [{'text': 'Bought this together with the rudde...  \n",
       "2  [{'text': 'Much longer than the picture would ...  \n",
       "3  [{'text': 'I got this controller to play 2D ga...  \n",
       "4  [{'text': 'Like pretty much all Monster produc...  "
      ]
     },
     "execution_count": 9,
     "metadata": {},
     "output_type": "execute_result"
    }
   ],
   "source": [
    "df_raw"
   ]
  },
  {
   "cell_type": "markdown",
   "metadata": {},
   "source": [
    "#Number of questionAnswer Pairs in RawDataset"
   ]
  },
  {
   "cell_type": "code",
   "execution_count": 12,
   "metadata": {},
   "outputs": [
    {
     "data": {
      "text/plain": [
       "(30, 104)"
      ]
     },
     "execution_count": 12,
     "metadata": {},
     "output_type": "execute_result"
    }
   ],
   "source": [
    "get_counts(df_raw)"
   ]
  },
  {
   "cell_type": "markdown",
   "metadata": {},
   "source": [
    "#Number of questionAnswer Pairs in TrainDataset"
   ]
  },
  {
   "cell_type": "code",
   "execution_count": 13,
   "metadata": {},
   "outputs": [],
   "source": [
    "df_train = get_split_dataframe(category, 'train')"
   ]
  },
  {
   "cell_type": "code",
   "execution_count": 14,
   "metadata": {},
   "outputs": [
    {
     "data": {
      "text/plain": [
       "(22, 83)"
      ]
     },
     "execution_count": 14,
     "metadata": {},
     "output_type": "execute_result"
    }
   ],
   "source": [
    "get_counts(df_train)"
   ]
  },
  {
   "cell_type": "code",
   "execution_count": null,
   "metadata": {},
   "outputs": [],
   "source": []
  },
  {
   "cell_type": "code",
   "execution_count": null,
   "metadata": {},
   "outputs": [],
   "source": [
    "\n",
    "\n"
   ]
  },
  {
   "cell_type": "code",
   "execution_count": null,
   "metadata": {},
   "outputs": [],
   "source": []
  },
  {
   "cell_type": "code",
   "execution_count": null,
   "metadata": {},
   "outputs": [],
   "source": []
  }
 ],
 "metadata": {
  "kernelspec": {
   "display_name": "Python 3",
   "language": "python",
   "name": "python3"
  },
  "language_info": {
   "codemirror_mode": {
    "name": "ipython",
    "version": 3
   },
   "file_extension": ".py",
   "mimetype": "text/x-python",
   "name": "python",
   "nbconvert_exporter": "python",
   "pygments_lexer": "ipython3",
   "version": "3.6.4"
  }
 },
 "nbformat": 4,
 "nbformat_minor": 2
}
