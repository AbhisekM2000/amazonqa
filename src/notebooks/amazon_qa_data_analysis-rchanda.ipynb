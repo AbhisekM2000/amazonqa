{
 "cells": [
  {
   "cell_type": "code",
   "execution_count": null,
   "metadata": {
    "collapsed": true
   },
   "outputs": [],
   "source": [
    "run ../data_utils.py"
   ]
  },
  {
   "cell_type": "code",
   "execution_count": null,
   "metadata": {
    "collapsed": true
   },
   "outputs": [],
   "source": [
    "import pandas as pd\n",
    "import numpy as np\n",
    "import nltk\n",
    "from nltk.corpus import stopwords\n",
    "import constants as C\n",
    "import matplotlib.pyplot as plt"
   ]
  },
  {
   "cell_type": "code",
   "execution_count": null,
   "metadata": {
    "collapsed": true
   },
   "outputs": [],
   "source": [
    "def tables_from_category(category):\n",
    "    with open('../../data/pickle_files/%s.pickle' % category, 'rb') as f:\n",
    "        return pickle.load(f)\n",
    "\n",
    "qa_table, reviews_table = tables_from_category(C.VIDEO_GAMES)"
   ]
  },
  {
   "cell_type": "markdown",
   "metadata": {},
   "source": [
    "#Question with maximum length"
   ]
  },
  {
   "cell_type": "code",
   "execution_count": null,
   "metadata": {
    "collapsed": true
   },
   "outputs": [],
   "source": [
    "mask = qa_table['questionText'].str.len() == 20\n",
    "result = qa_table.loc[mask]['questionText']\n",
    "question = result.iloc[1]"
   ]
  },
  {
   "cell_type": "code",
   "execution_count": null,
   "metadata": {
    "collapsed": true
   },
   "outputs": [],
   "source": [
    "print question"
   ]
  },
  {
   "cell_type": "code",
   "execution_count": null,
   "metadata": {
    "collapsed": true
   },
   "outputs": [],
   "source": [
    "stopset_u = set(stopwords.words('english'))\n",
    "stopset = set([str(sw) for sw in stopset_u])\n",
    "\n",
    "tokens = nltk.word_tokenize(question)\n",
    "tokens = [w.lower() for w in tokens if not w.lower() in stopset]\n",
    "\n",
    "print len(tokens)"
   ]
  },
  {
   "cell_type": "markdown",
   "metadata": {},
   "source": [
    "#Questions containing \"Read More\""
   ]
  },
  {
   "cell_type": "code",
   "execution_count": null,
   "metadata": {
    "collapsed": true
   },
   "outputs": [],
   "source": [
    "mask = qa_table['answerText'].str.contains(\"Read More\")\n",
    "result = qa_table.loc[mask]['questionText']"
   ]
  },
  {
   "cell_type": "markdown",
   "metadata": {},
   "source": [
    "#Preprocess Data"
   ]
  },
  {
   "cell_type": "code",
   "execution_count": null,
   "metadata": {
    "collapsed": true
   },
   "outputs": [],
   "source": [
    "def getDF(path):\n",
    "    i = 0\n",
    "    df = {}\n",
    "    for d in parse(path):\n",
    "        df[i] = d\n",
    "        i += 1\n",
    "    return pd.DataFrame.from_dict(df, orient='index')"
   ]
  },
  {
   "cell_type": "code",
   "execution_count": null,
   "metadata": {
    "collapsed": true
   },
   "outputs": [],
   "source": [
    "qa_data = getDF('../../data/answers_multiple/QA_Video_Games.json.gz')\n",
    "reviews_df = getDF('../../data/reviews_small/reviews_Video_Games_5.json.gz')"
   ]
  },
  {
   "cell_type": "code",
   "execution_count": null,
   "metadata": {
    "collapsed": true
   },
   "outputs": [],
   "source": [
    "def questionsToJson(questions_list):\n",
    "    new_questions_list = []\n",
    "    for question in questions_list:\n",
    "        \n",
    "        new_question = {}\n",
    "        new_question[C.TEXT] = question[C.QUESTION_TEXT]\n",
    "        new_question[C.TIME] = question[C.QUESTION_TIME]\n",
    "        new_question[C.TYPE] = question[C.QUESTION_TYPE]\n",
    "        \n",
    "        new_answers = []\n",
    "        for answer in question[ANSWERS]:\n",
    "            \n",
    "            new_answer = {}\n",
    "            new_answer[C.TEXT] = answer[C.ANSWER_TEXT]\n",
    "            new_answer[C.TIME] = answer[C.ANSWER_TIME]\n",
    "            \n",
    "            scores = str(answer[C.HELPFUL])[1:-1].split(',')\n",
    "            new_answer[C.HELPFUL] = int(scores[0].strip())\n",
    "            new_answer[C.UNHELPFUL] = int(scores[1].strip())\n",
    "        new_answers.append(new_answer)\n",
    "        \n",
    "        new_question[C.ANSWERS] = new_answers\n",
    "        new_questions_list.append(new_question)\n",
    "    \n",
    "    return new_questions_list"
   ]
  },
  {
   "cell_type": "code",
   "execution_count": null,
   "metadata": {
    "collapsed": true
   },
   "outputs": [],
   "source": [
    "qa_data[C.QUESTIONS_LIST] = qa_data[QUESTIONS].apply(questionsToJson)\n",
    "qa_data = qa_data[[C.ASIN, C.QUESTIONS_LIST]]"
   ]
  },
  {
   "cell_type": "code",
   "execution_count": null,
   "metadata": {
    "collapsed": true
   },
   "outputs": [],
   "source": [
    "def filterReviewText(str):\n",
    "    return str"
   ]
  },
  {
   "cell_type": "code",
   "execution_count": null,
   "metadata": {
    "collapsed": true
   },
   "outputs": [],
   "source": [
    "def convertRowToReviewJson(row):\n",
    "        json = {}\n",
    "        json['text'] = filterReviewText(row['reviewText'])\n",
    "        \n",
    "        scores = str(row['helpful'])[1:-1].split(',')\n",
    "        json['helpful'] = int(scores[0].strip())\n",
    "        json['unhelpful'] = int(scores[1].strip())\n",
    "        \n",
    "        json['time'] = row['reviewTime']\n",
    "        return json"
   ]
  },
  {
   "cell_type": "code",
   "execution_count": null,
   "metadata": {
    "collapsed": true
   },
   "outputs": [],
   "source": [
    "reviews_df['reviews'] = reviews_df[['reviewText', 'helpful', 'reviewTime']].apply(convertRowToReviewJson, axis=1)"
   ]
  },
  {
   "cell_type": "code",
   "execution_count": null,
   "metadata": {
    "collapsed": true
   },
   "outputs": [],
   "source": [
    "def convertRowsToList(columns):\n",
    "        return columns['reviews'].tolist()"
   ]
  },
  {
   "cell_type": "code",
   "execution_count": null,
   "metadata": {
    "collapsed": true
   },
   "outputs": [],
   "source": [
    "reviews_filtered_df = reviews_df.groupby('asin').apply(convertRowsToList).reset_index()\n",
    "reviews_filtered_df.columns = ['asin', 'reviews']"
   ]
  },
  {
   "cell_type": "code",
   "execution_count": null,
   "metadata": {
    "collapsed": true
   },
   "outputs": [],
   "source": [
    "qa_reviews = pd.merge(qa_data, reviews_filtered_df, on=[C.ASIN, C.ASIN])[['asin', 'questionJson']]"
   ]
  },
  {
   "cell_type": "code",
   "execution_count": null,
   "metadata": {
    "collapsed": true
   },
   "outputs": [],
   "source": [
    "qa_reviews.head()"
   ]
  },
  {
   "cell_type": "code",
   "execution_count": null,
   "metadata": {
    "collapsed": true
   },
   "outputs": [],
   "source": [
    "C.JSON_DATA_PATH = '../../data/json_data'\n",
    "\n",
    "def raw_dataframe(category):\n",
    "    with open('%s/%s.pickle' % (C.JSON_DATA_PATH, category), 'rb') as f:\n",
    "        return pd.read_pickle(f)"
   ]
  },
  {
   "cell_type": "code",
   "execution_count": null,
   "metadata": {
    "collapsed": true
   },
   "outputs": [],
   "source": [
    "df = raw_dataframe(C.VIDEO_GAMES)"
   ]
  },
  {
   "cell_type": "code",
   "execution_count": null,
   "metadata": {},
   "outputs": [],
   "source": [
    "df['questionsList'][0]"
   ]
  },
  {
   "cell_type": "code",
   "execution_count": null,
   "metadata": {
    "collapsed": true
   },
   "outputs": [],
   "source": [
    "def getLengths(row):\n",
    "    reviewsList = row['reviewsList']\n",
    "    reviewsLengthList = []\n",
    "    for review in reviewsList:\n",
    "        tokens = review['text'].split()\n",
    "        reviewsLengthList.append(len(tokens))\n",
    "    \n",
    "    questionsList = row['questionsList']\n",
    "    questionsLengthList = []\n",
    "    answersLengthList = []\n",
    "    \n",
    "    for question in questionsList:\n",
    "        tokens = question['text'].split()\n",
    "        questionsLengthList.append(len(tokens))\n",
    "        \n",
    "        answersList = question['answers']\n",
    "        for answer in answersList:\n",
    "            tokens = answer['text'].split()\n",
    "            answersLengthList.append(len(tokens))\n",
    "    \n",
    "    return (reviewsLengthList, questionsLengthList, answersLengthList)"
   ]
  },
  {
   "cell_type": "code",
   "execution_count": null,
   "metadata": {
    "collapsed": true
   },
   "outputs": [],
   "source": [
    "df['lengthsList'] = df[['reviewsList', 'questionsList']].apply(getLengths, axis=1)"
   ]
  },
  {
   "cell_type": "code",
   "execution_count": null,
   "metadata": {
    "collapsed": true
   },
   "outputs": [],
   "source": [
    "reviewsLengthList = []\n",
    "questionsLengthList = []\n",
    "answersLengthList = []\n",
    "\n",
    "for (r, q, a) in df['lengthsList']:\n",
    "    reviewsLengthList.extend(r)\n",
    "    questionsLengthList.extend(q)\n",
    "    answersLengthList.extend(a)"
   ]
  },
  {
   "cell_type": "code",
   "execution_count": null,
   "metadata": {},
   "outputs": [],
   "source": [
    "len(answersLengthList)"
   ]
  },
  {
   "cell_type": "code",
   "execution_count": null,
   "metadata": {},
   "outputs": [],
   "source": [
    "plt.hist(questionsLengthList, bins=20)"
   ]
  },
  {
   "cell_type": "code",
   "execution_count": null,
   "metadata": {},
   "outputs": [],
   "source": [
    "plt.hist(answersLengthList, bins=20)"
   ]
  },
  {
   "cell_type": "code",
   "execution_count": null,
   "metadata": {},
   "outputs": [],
   "source": [
    "plt.show()"
   ]
  },
  {
   "cell_type": "code",
   "execution_count": null,
   "metadata": {
    "collapsed": true
   },
   "outputs": [],
   "source": []
  }
 ],
 "metadata": {
  "kernelspec": {
   "display_name": "Python 2",
   "language": "python",
   "name": "python2"
  },
  "language_info": {
   "codemirror_mode": {
    "name": "ipython",
    "version": 2
   },
   "file_extension": ".py",
   "mimetype": "text/x-python",
   "name": "python",
   "nbconvert_exporter": "python",
   "pygments_lexer": "ipython2",
   "version": "2.7.14"
  }
 },
 "nbformat": 4,
 "nbformat_minor": 2
}
