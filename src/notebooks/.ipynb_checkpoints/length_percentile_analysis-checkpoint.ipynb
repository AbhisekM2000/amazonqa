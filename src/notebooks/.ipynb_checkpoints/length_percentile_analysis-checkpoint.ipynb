{
 "cells": [
  {
   "cell_type": "code",
   "execution_count": 1,
   "metadata": {},
   "outputs": [],
   "source": [
    "run ../data_utils.py"
   ]
  },
  {
   "cell_type": "code",
   "execution_count": 2,
   "metadata": {},
   "outputs": [],
   "source": [
    "import matplotlib.pyplot as plt"
   ]
  },
  {
   "cell_type": "code",
   "execution_count": 3,
   "metadata": {},
   "outputs": [],
   "source": [
    "C.JSON_DATA_PATH = '../../data/json_data'\n",
    "\n",
    "def raw_dataframe(category):\n",
    "    with open('%s/%s.pickle' % (C.JSON_DATA_PATH, category), 'rb') as f:\n",
    "        return pd.read_pickle(f)"
   ]
  },
  {
   "cell_type": "code",
   "execution_count": 4,
   "metadata": {},
   "outputs": [],
   "source": [
    "def getLengths(row):\n",
    "    reviewsList = row['reviewsList']\n",
    "    reviewsLengthList = []\n",
    "    for review in reviewsList:\n",
    "        tokens = review['text'].split()\n",
    "        reviewsLengthList.append(len(tokens))\n",
    "    \n",
    "    questionsList = row['questionsList']\n",
    "    questionsLengthList = []\n",
    "    answersLengthList = []\n",
    "    \n",
    "    for question in questionsList:\n",
    "        tokens = question['text'].split()\n",
    "        questionsLengthList.append(len(tokens))\n",
    "        \n",
    "        answersList = question['answers']\n",
    "        for answer in answersList:\n",
    "            tokens = answer['text'].split()\n",
    "            answersLengthList.append(len(tokens))\n",
    "    \n",
    "    return (reviewsLengthList, questionsLengthList, answersLengthList)"
   ]
  },
  {
   "cell_type": "code",
   "execution_count": null,
   "metadata": {
    "collapsed": true
   },
   "outputs": [],
   "source": [
    "def get_length_lists(category):\n",
    "    df = raw_dataframe(category)\n",
    "    df['lengthsList'] = df[['reviewsList', 'questionsList']].apply(getLengths, axis=1)\n",
    "    reviewsLengthList = []\n",
    "    questionsLengthList = []\n",
    "    answersLengthList = []\n",
    "\n",
    "    for (r, q, a) in df['lengthsList']:\n",
    "        reviewsLengthList.extend(r)\n",
    "        questionsLengthList.extend(q)\n",
    "        answersLengthList.extend(a)\n",
    "    return reviewsLengthList, questionsLengthList, answersLengthList"
   ]
  },
  {
   "cell_type": "code",
   "execution_count": null,
   "metadata": {},
   "outputs": [],
   "source": [
    "plt.hist(questionsLengthList, bins=20)"
   ]
  },
  {
   "cell_type": "code",
   "execution_count": null,
   "metadata": {},
   "outputs": [],
   "source": [
    "plt.hist(answersLengthList, bins=20)"
   ]
  },
  {
   "cell_type": "code",
   "execution_count": null,
   "metadata": {},
   "outputs": [],
   "source": [
    "plt.hist(reviewsLengthList, bins=20)"
   ]
  },
  {
   "cell_type": "code",
   "execution_count": null,
   "metadata": {
    "collapsed": true
   },
   "outputs": [],
   "source": []
  }
 ],
 "metadata": {
  "kernelspec": {
   "display_name": "Python 3",
   "language": "python",
   "name": "python3"
  },
  "language_info": {
   "codemirror_mode": {
    "name": "ipython",
    "version": 3
   },
   "file_extension": ".py",
   "mimetype": "text/x-python",
   "name": "python",
   "nbconvert_exporter": "python",
   "pygments_lexer": "ipython3",
   "version": "3.5.2"
  }
 },
 "nbformat": 4,
 "nbformat_minor": 2
}
