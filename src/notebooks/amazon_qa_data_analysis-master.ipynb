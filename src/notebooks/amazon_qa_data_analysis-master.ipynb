{
 "cells": [
  {
   "cell_type": "code",
   "execution_count": null,
   "metadata": {},
   "outputs": [],
   "source": [
    "run ../data_utils.py"
   ]
  },
  {
   "cell_type": "code",
   "execution_count": null,
   "metadata": {
    "collapsed": true
   },
   "outputs": [],
   "source": [
    "import matplotlib.pyplot as plt"
   ]
  },
  {
   "cell_type": "code",
   "execution_count": null,
   "metadata": {
    "collapsed": true
   },
   "outputs": [],
   "source": [
    "C.JSON_DATA_PATH = '../../data/json_data'\n",
    "\n",
    "def raw_dataframe(category):\n",
    "    with open('%s/%s.pickle' % (C.JSON_DATA_PATH, category), 'rb') as f:\n",
    "        return pd.read_pickle(f)"
   ]
  },
  {
   "cell_type": "code",
   "execution_count": null,
   "metadata": {
    "collapsed": true
   },
   "outputs": [],
   "source": [
    "df = raw_dataframe(C.VIDEO_GAMES)"
   ]
  },
  {
   "cell_type": "code",
   "execution_count": null,
   "metadata": {
    "collapsed": true
   },
   "outputs": [],
   "source": [
    "def getLengths(row):\n",
    "    reviewsList = row['reviewsList']\n",
    "    reviewsLengthList = []\n",
    "    for review in reviewsList:\n",
    "        tokens = review['text'].split()\n",
    "        reviewsLengthList.append(len(tokens))\n",
    "    \n",
    "    questionsList = row['questionsList']\n",
    "    questionsLengthList = []\n",
    "    answersLengthList = []\n",
    "    \n",
    "    for question in questionsList:\n",
    "        tokens = question['text'].split()\n",
    "        questionsLengthList.append(len(tokens))\n",
    "        \n",
    "        answersList = question['answers']\n",
    "        for answer in answersList:\n",
    "            tokens = answer['text'].split()\n",
    "            answersLengthList.append(len(tokens))\n",
    "    \n",
    "    return (reviewsLengthList, questionsLengthList, answersLengthList)"
   ]
  },
  {
   "cell_type": "code",
   "execution_count": null,
   "metadata": {
    "collapsed": true
   },
   "outputs": [],
   "source": [
    "df['lengthsList'] = df[['reviewsList', 'questionsList']].apply(getLengths, axis=1)"
   ]
  },
  {
   "cell_type": "code",
   "execution_count": null,
   "metadata": {
    "collapsed": true
   },
   "outputs": [],
   "source": [
    "reviewsLengthList = []\n",
    "questionsLengthList = []\n",
    "answersLengthList = []\n",
    "\n",
    "for (r, q, a) in df['lengthsList']:\n",
    "    reviewsLengthList.extend(r)\n",
    "    questionsLengthList.extend(q)\n",
    "    answersLengthList.extend(a)"
   ]
  },
  {
   "cell_type": "code",
   "execution_count": null,
   "metadata": {},
   "outputs": [],
   "source": [
    "len(answersLengthList)"
   ]
  },
  {
   "cell_type": "code",
   "execution_count": null,
   "metadata": {},
   "outputs": [],
   "source": [
    "plt.hist(questionsLengthList, bins=20)"
   ]
  },
  {
   "cell_type": "code",
   "execution_count": null,
   "metadata": {},
   "outputs": [],
   "source": [
    "plt.hist(answersLengthList, bins=20)"
   ]
  },
  {
   "cell_type": "code",
   "execution_count": null,
   "metadata": {},
   "outputs": [],
   "source": [
    "plt.hist(reviewsLengthList, bins=20)"
   ]
  },
  {
   "cell_type": "code",
   "execution_count": null,
   "metadata": {
    "collapsed": true
   },
   "outputs": [],
   "source": []
  }
 ],
 "metadata": {
  "kernelspec": {
   "display_name": "Python 2",
   "language": "python",
   "name": "python2"
  },
  "language_info": {
   "codemirror_mode": {
    "name": "ipython",
    "version": 2
   },
   "file_extension": ".py",
   "mimetype": "text/x-python",
   "name": "python",
   "nbconvert_exporter": "python",
   "pygments_lexer": "ipython2",
   "version": "2.7.14"
  }
 },
 "nbformat": 4,
 "nbformat_minor": 2
}
